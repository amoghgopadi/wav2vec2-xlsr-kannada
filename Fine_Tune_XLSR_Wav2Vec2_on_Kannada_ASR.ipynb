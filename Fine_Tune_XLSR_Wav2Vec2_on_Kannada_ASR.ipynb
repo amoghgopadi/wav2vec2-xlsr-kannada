{
  "nbformat": 4,
  "nbformat_minor": 0,
  "metadata": {
    "accelerator": "GPU",
    "colab": {
      "name": "Fine_Tune_XLSR_Wav2Vec2_on_Kannada_ASR.ipynb",
      "provenance": [],
      "collapsed_sections": [],
      "toc_visible": true,
      "machine_shape": "hm",
      "include_colab_link": true
    },
    "kernelspec": {
      "display_name": "Python 3",
      "language": "python",
      "name": "python3"
    },
    "language_info": {
      "codemirror_mode": {
        "name": "ipython",
        "version": 3
      },
      "file_extension": ".py",
      "mimetype": "text/x-python",
      "name": "python",
      "nbconvert_exporter": "python",
      "pygments_lexer": "ipython3",
      "version": "3.7.6"
    },
    "widgets": {
      "application/vnd.jupyter.widget-state+json": {
        "d60185396b5742bbb771c88deda07a55": {
          "model_module": "@jupyter-widgets/controls",
          "model_name": "HBoxModel",
          "state": {
            "_dom_classes": [],
            "_model_module": "@jupyter-widgets/controls",
            "_model_module_version": "1.5.0",
            "_model_name": "HBoxModel",
            "_view_count": null,
            "_view_module": "@jupyter-widgets/controls",
            "_view_module_version": "1.5.0",
            "_view_name": "HBoxView",
            "box_style": "",
            "children": [
              "IPY_MODEL_133a99c8a30f4c3ba9b62617bc632414",
              "IPY_MODEL_7f2374efb68b4d6080f63a8c870a64e9"
            ],
            "layout": "IPY_MODEL_52c99190aa7c4871887ac3af8e2f394e"
          }
        },
        "52c99190aa7c4871887ac3af8e2f394e": {
          "model_module": "@jupyter-widgets/base",
          "model_name": "LayoutModel",
          "state": {
            "_model_module": "@jupyter-widgets/base",
            "_model_module_version": "1.2.0",
            "_model_name": "LayoutModel",
            "_view_count": null,
            "_view_module": "@jupyter-widgets/base",
            "_view_module_version": "1.2.0",
            "_view_name": "LayoutView",
            "align_content": null,
            "align_items": null,
            "align_self": null,
            "border": null,
            "bottom": null,
            "display": null,
            "flex": null,
            "flex_flow": null,
            "grid_area": null,
            "grid_auto_columns": null,
            "grid_auto_flow": null,
            "grid_auto_rows": null,
            "grid_column": null,
            "grid_gap": null,
            "grid_row": null,
            "grid_template_areas": null,
            "grid_template_columns": null,
            "grid_template_rows": null,
            "height": null,
            "justify_content": null,
            "justify_items": null,
            "left": null,
            "margin": null,
            "max_height": null,
            "max_width": null,
            "min_height": null,
            "min_width": null,
            "object_fit": null,
            "object_position": null,
            "order": null,
            "overflow": null,
            "overflow_x": null,
            "overflow_y": null,
            "padding": null,
            "right": null,
            "top": null,
            "visibility": null,
            "width": null
          }
        },
        "133a99c8a30f4c3ba9b62617bc632414": {
          "model_module": "@jupyter-widgets/controls",
          "model_name": "FloatProgressModel",
          "state": {
            "_dom_classes": [],
            "_model_module": "@jupyter-widgets/controls",
            "_model_module_version": "1.5.0",
            "_model_name": "FloatProgressModel",
            "_view_count": null,
            "_view_module": "@jupyter-widgets/controls",
            "_view_module_version": "1.5.0",
            "_view_name": "ProgressView",
            "bar_style": "success",
            "description": "100%",
            "description_tooltip": null,
            "layout": "IPY_MODEL_f74c2acba6b54b7aac76f89c4271a86e",
            "max": 1992,
            "min": 0,
            "orientation": "horizontal",
            "style": "IPY_MODEL_e7109b89d1b64221bc7e5f017d350fcc",
            "value": 1992
          }
        },
        "7f2374efb68b4d6080f63a8c870a64e9": {
          "model_module": "@jupyter-widgets/controls",
          "model_name": "HTMLModel",
          "state": {
            "_dom_classes": [],
            "_model_module": "@jupyter-widgets/controls",
            "_model_module_version": "1.5.0",
            "_model_name": "HTMLModel",
            "_view_count": null,
            "_view_module": "@jupyter-widgets/controls",
            "_view_module_version": "1.5.0",
            "_view_name": "HTMLView",
            "description": "",
            "description_tooltip": null,
            "layout": "IPY_MODEL_3581a54910ae428c83557cb19e91e824",
            "placeholder": "​",
            "style": "IPY_MODEL_733d0993ea6e422593942a48aa62b7a7",
            "value": " 1992/1992 [12:49&lt;00:00,  2.59ex/s]"
          }
        },
        "e7109b89d1b64221bc7e5f017d350fcc": {
          "model_module": "@jupyter-widgets/controls",
          "model_name": "ProgressStyleModel",
          "state": {
            "_model_module": "@jupyter-widgets/controls",
            "_model_module_version": "1.5.0",
            "_model_name": "ProgressStyleModel",
            "_view_count": null,
            "_view_module": "@jupyter-widgets/base",
            "_view_module_version": "1.2.0",
            "_view_name": "StyleView",
            "bar_color": null,
            "description_width": "initial"
          }
        },
        "f74c2acba6b54b7aac76f89c4271a86e": {
          "model_module": "@jupyter-widgets/base",
          "model_name": "LayoutModel",
          "state": {
            "_model_module": "@jupyter-widgets/base",
            "_model_module_version": "1.2.0",
            "_model_name": "LayoutModel",
            "_view_count": null,
            "_view_module": "@jupyter-widgets/base",
            "_view_module_version": "1.2.0",
            "_view_name": "LayoutView",
            "align_content": null,
            "align_items": null,
            "align_self": null,
            "border": null,
            "bottom": null,
            "display": null,
            "flex": null,
            "flex_flow": null,
            "grid_area": null,
            "grid_auto_columns": null,
            "grid_auto_flow": null,
            "grid_auto_rows": null,
            "grid_column": null,
            "grid_gap": null,
            "grid_row": null,
            "grid_template_areas": null,
            "grid_template_columns": null,
            "grid_template_rows": null,
            "height": null,
            "justify_content": null,
            "justify_items": null,
            "left": null,
            "margin": null,
            "max_height": null,
            "max_width": null,
            "min_height": null,
            "min_width": null,
            "object_fit": null,
            "object_position": null,
            "order": null,
            "overflow": null,
            "overflow_x": null,
            "overflow_y": null,
            "padding": null,
            "right": null,
            "top": null,
            "visibility": null,
            "width": null
          }
        },
        "733d0993ea6e422593942a48aa62b7a7": {
          "model_module": "@jupyter-widgets/controls",
          "model_name": "DescriptionStyleModel",
          "state": {
            "_model_module": "@jupyter-widgets/controls",
            "_model_module_version": "1.5.0",
            "_model_name": "DescriptionStyleModel",
            "_view_count": null,
            "_view_module": "@jupyter-widgets/base",
            "_view_module_version": "1.2.0",
            "_view_name": "StyleView",
            "description_width": ""
          }
        },
        "3581a54910ae428c83557cb19e91e824": {
          "model_module": "@jupyter-widgets/base",
          "model_name": "LayoutModel",
          "state": {
            "_model_module": "@jupyter-widgets/base",
            "_model_module_version": "1.2.0",
            "_model_name": "LayoutModel",
            "_view_count": null,
            "_view_module": "@jupyter-widgets/base",
            "_view_module_version": "1.2.0",
            "_view_name": "LayoutView",
            "align_content": null,
            "align_items": null,
            "align_self": null,
            "border": null,
            "bottom": null,
            "display": null,
            "flex": null,
            "flex_flow": null,
            "grid_area": null,
            "grid_auto_columns": null,
            "grid_auto_flow": null,
            "grid_auto_rows": null,
            "grid_column": null,
            "grid_gap": null,
            "grid_row": null,
            "grid_template_areas": null,
            "grid_template_columns": null,
            "grid_template_rows": null,
            "height": null,
            "justify_content": null,
            "justify_items": null,
            "left": null,
            "margin": null,
            "max_height": null,
            "max_width": null,
            "min_height": null,
            "min_width": null,
            "object_fit": null,
            "object_position": null,
            "order": null,
            "overflow": null,
            "overflow_x": null,
            "overflow_y": null,
            "padding": null,
            "right": null,
            "top": null,
            "visibility": null,
            "width": null
          }
        },
        "8d328b01136e4defa2e2f20f5ded224a": {
          "model_module": "@jupyter-widgets/controls",
          "model_name": "HBoxModel",
          "state": {
            "_dom_classes": [],
            "_model_module": "@jupyter-widgets/controls",
            "_model_module_version": "1.5.0",
            "_model_name": "HBoxModel",
            "_view_count": null,
            "_view_module": "@jupyter-widgets/controls",
            "_view_module_version": "1.5.0",
            "_view_name": "HBoxView",
            "box_style": "",
            "children": [
              "IPY_MODEL_61ea088abfb34ccd9d04da199c292d0e",
              "IPY_MODEL_44b904e1766f4a0eb3618ca23ec010dd"
            ],
            "layout": "IPY_MODEL_3392e5bb1f3c4535afe41adfba71d872"
          }
        },
        "3392e5bb1f3c4535afe41adfba71d872": {
          "model_module": "@jupyter-widgets/base",
          "model_name": "LayoutModel",
          "state": {
            "_model_module": "@jupyter-widgets/base",
            "_model_module_version": "1.2.0",
            "_model_name": "LayoutModel",
            "_view_count": null,
            "_view_module": "@jupyter-widgets/base",
            "_view_module_version": "1.2.0",
            "_view_name": "LayoutView",
            "align_content": null,
            "align_items": null,
            "align_self": null,
            "border": null,
            "bottom": null,
            "display": null,
            "flex": null,
            "flex_flow": null,
            "grid_area": null,
            "grid_auto_columns": null,
            "grid_auto_flow": null,
            "grid_auto_rows": null,
            "grid_column": null,
            "grid_gap": null,
            "grid_row": null,
            "grid_template_areas": null,
            "grid_template_columns": null,
            "grid_template_rows": null,
            "height": null,
            "justify_content": null,
            "justify_items": null,
            "left": null,
            "margin": null,
            "max_height": null,
            "max_width": null,
            "min_height": null,
            "min_width": null,
            "object_fit": null,
            "object_position": null,
            "order": null,
            "overflow": null,
            "overflow_x": null,
            "overflow_y": null,
            "padding": null,
            "right": null,
            "top": null,
            "visibility": null,
            "width": null
          }
        },
        "61ea088abfb34ccd9d04da199c292d0e": {
          "model_module": "@jupyter-widgets/controls",
          "model_name": "FloatProgressModel",
          "state": {
            "_dom_classes": [],
            "_model_module": "@jupyter-widgets/controls",
            "_model_module_version": "1.5.0",
            "_model_name": "FloatProgressModel",
            "_view_count": null,
            "_view_module": "@jupyter-widgets/controls",
            "_view_module_version": "1.5.0",
            "_view_name": "ProgressView",
            "bar_style": "success",
            "description": "100%",
            "description_tooltip": null,
            "layout": "IPY_MODEL_3f15d07dca8d4ef3aaf7ed60a9eaec0b",
            "max": 222,
            "min": 0,
            "orientation": "horizontal",
            "style": "IPY_MODEL_890d64dcaa6545a7915033367ce15ddb",
            "value": 222
          }
        },
        "44b904e1766f4a0eb3618ca23ec010dd": {
          "model_module": "@jupyter-widgets/controls",
          "model_name": "HTMLModel",
          "state": {
            "_dom_classes": [],
            "_model_module": "@jupyter-widgets/controls",
            "_model_module_version": "1.5.0",
            "_model_name": "HTMLModel",
            "_view_count": null,
            "_view_module": "@jupyter-widgets/controls",
            "_view_module_version": "1.5.0",
            "_view_name": "HTMLView",
            "description": "",
            "description_tooltip": null,
            "layout": "IPY_MODEL_b010c382ec9b4f18b184fa1261fabef4",
            "placeholder": "​",
            "style": "IPY_MODEL_920e6f8f339d4bd9907a50fec7a115f8",
            "value": " 222/222 [00:09&lt;00:00, 22.94ex/s]"
          }
        },
        "890d64dcaa6545a7915033367ce15ddb": {
          "model_module": "@jupyter-widgets/controls",
          "model_name": "ProgressStyleModel",
          "state": {
            "_model_module": "@jupyter-widgets/controls",
            "_model_module_version": "1.5.0",
            "_model_name": "ProgressStyleModel",
            "_view_count": null,
            "_view_module": "@jupyter-widgets/base",
            "_view_module_version": "1.2.0",
            "_view_name": "StyleView",
            "bar_color": null,
            "description_width": "initial"
          }
        },
        "3f15d07dca8d4ef3aaf7ed60a9eaec0b": {
          "model_module": "@jupyter-widgets/base",
          "model_name": "LayoutModel",
          "state": {
            "_model_module": "@jupyter-widgets/base",
            "_model_module_version": "1.2.0",
            "_model_name": "LayoutModel",
            "_view_count": null,
            "_view_module": "@jupyter-widgets/base",
            "_view_module_version": "1.2.0",
            "_view_name": "LayoutView",
            "align_content": null,
            "align_items": null,
            "align_self": null,
            "border": null,
            "bottom": null,
            "display": null,
            "flex": null,
            "flex_flow": null,
            "grid_area": null,
            "grid_auto_columns": null,
            "grid_auto_flow": null,
            "grid_auto_rows": null,
            "grid_column": null,
            "grid_gap": null,
            "grid_row": null,
            "grid_template_areas": null,
            "grid_template_columns": null,
            "grid_template_rows": null,
            "height": null,
            "justify_content": null,
            "justify_items": null,
            "left": null,
            "margin": null,
            "max_height": null,
            "max_width": null,
            "min_height": null,
            "min_width": null,
            "object_fit": null,
            "object_position": null,
            "order": null,
            "overflow": null,
            "overflow_x": null,
            "overflow_y": null,
            "padding": null,
            "right": null,
            "top": null,
            "visibility": null,
            "width": null
          }
        },
        "920e6f8f339d4bd9907a50fec7a115f8": {
          "model_module": "@jupyter-widgets/controls",
          "model_name": "DescriptionStyleModel",
          "state": {
            "_model_module": "@jupyter-widgets/controls",
            "_model_module_version": "1.5.0",
            "_model_name": "DescriptionStyleModel",
            "_view_count": null,
            "_view_module": "@jupyter-widgets/base",
            "_view_module_version": "1.2.0",
            "_view_name": "StyleView",
            "description_width": ""
          }
        },
        "b010c382ec9b4f18b184fa1261fabef4": {
          "model_module": "@jupyter-widgets/base",
          "model_name": "LayoutModel",
          "state": {
            "_model_module": "@jupyter-widgets/base",
            "_model_module_version": "1.2.0",
            "_model_name": "LayoutModel",
            "_view_count": null,
            "_view_module": "@jupyter-widgets/base",
            "_view_module_version": "1.2.0",
            "_view_name": "LayoutView",
            "align_content": null,
            "align_items": null,
            "align_self": null,
            "border": null,
            "bottom": null,
            "display": null,
            "flex": null,
            "flex_flow": null,
            "grid_area": null,
            "grid_auto_columns": null,
            "grid_auto_flow": null,
            "grid_auto_rows": null,
            "grid_column": null,
            "grid_gap": null,
            "grid_row": null,
            "grid_template_areas": null,
            "grid_template_columns": null,
            "grid_template_rows": null,
            "height": null,
            "justify_content": null,
            "justify_items": null,
            "left": null,
            "margin": null,
            "max_height": null,
            "max_width": null,
            "min_height": null,
            "min_width": null,
            "object_fit": null,
            "object_position": null,
            "order": null,
            "overflow": null,
            "overflow_x": null,
            "overflow_y": null,
            "padding": null,
            "right": null,
            "top": null,
            "visibility": null,
            "width": null
          }
        },
        "89b75b747a6f462eaf492fbcaa589e9a": {
          "model_module": "@jupyter-widgets/controls",
          "model_name": "HBoxModel",
          "state": {
            "_dom_classes": [],
            "_model_module": "@jupyter-widgets/controls",
            "_model_module_version": "1.5.0",
            "_model_name": "HBoxModel",
            "_view_count": null,
            "_view_module": "@jupyter-widgets/controls",
            "_view_module_version": "1.5.0",
            "_view_name": "HBoxView",
            "box_style": "",
            "children": [
              "IPY_MODEL_6f3b81ee074041c89b70a36da62f2b6a",
              "IPY_MODEL_572bf0b392b7482d8a4fadbd62d9480c"
            ],
            "layout": "IPY_MODEL_90bf39f3395142a7a75244f8fdca0fd0"
          }
        },
        "90bf39f3395142a7a75244f8fdca0fd0": {
          "model_module": "@jupyter-widgets/base",
          "model_name": "LayoutModel",
          "state": {
            "_model_module": "@jupyter-widgets/base",
            "_model_module_version": "1.2.0",
            "_model_name": "LayoutModel",
            "_view_count": null,
            "_view_module": "@jupyter-widgets/base",
            "_view_module_version": "1.2.0",
            "_view_name": "LayoutView",
            "align_content": null,
            "align_items": null,
            "align_self": null,
            "border": null,
            "bottom": null,
            "display": null,
            "flex": null,
            "flex_flow": null,
            "grid_area": null,
            "grid_auto_columns": null,
            "grid_auto_flow": null,
            "grid_auto_rows": null,
            "grid_column": null,
            "grid_gap": null,
            "grid_row": null,
            "grid_template_areas": null,
            "grid_template_columns": null,
            "grid_template_rows": null,
            "height": null,
            "justify_content": null,
            "justify_items": null,
            "left": null,
            "margin": null,
            "max_height": null,
            "max_width": null,
            "min_height": null,
            "min_width": null,
            "object_fit": null,
            "object_position": null,
            "order": null,
            "overflow": null,
            "overflow_x": null,
            "overflow_y": null,
            "padding": null,
            "right": null,
            "top": null,
            "visibility": null,
            "width": null
          }
        },
        "6f3b81ee074041c89b70a36da62f2b6a": {
          "model_module": "@jupyter-widgets/controls",
          "model_name": "FloatProgressModel",
          "state": {
            "_dom_classes": [],
            "_model_module": "@jupyter-widgets/controls",
            "_model_module_version": "1.5.0",
            "_model_name": "FloatProgressModel",
            "_view_count": null,
            "_view_module": "@jupyter-widgets/controls",
            "_view_module_version": "1.5.0",
            "_view_name": "ProgressView",
            "bar_style": "success",
            "description": "100%",
            "description_tooltip": null,
            "layout": "IPY_MODEL_d284cb3c459f4b73ad5302d71d737f34",
            "max": 1,
            "min": 0,
            "orientation": "horizontal",
            "style": "IPY_MODEL_c161d1badc9a42e49dbb7a46705e9589",
            "value": 1
          }
        },
        "572bf0b392b7482d8a4fadbd62d9480c": {
          "model_module": "@jupyter-widgets/controls",
          "model_name": "HTMLModel",
          "state": {
            "_dom_classes": [],
            "_model_module": "@jupyter-widgets/controls",
            "_model_module_version": "1.5.0",
            "_model_name": "HTMLModel",
            "_view_count": null,
            "_view_module": "@jupyter-widgets/controls",
            "_view_module_version": "1.5.0",
            "_view_name": "HTMLView",
            "description": "",
            "description_tooltip": null,
            "layout": "IPY_MODEL_e66d7d7744784772b996a65d58a1b465",
            "placeholder": "​",
            "style": "IPY_MODEL_192e8b38267841998c4321f17f103cd5",
            "value": " 1/1 [03:10&lt;00:00, 190.97s/ba]"
          }
        },
        "c161d1badc9a42e49dbb7a46705e9589": {
          "model_module": "@jupyter-widgets/controls",
          "model_name": "ProgressStyleModel",
          "state": {
            "_model_module": "@jupyter-widgets/controls",
            "_model_module_version": "1.5.0",
            "_model_name": "ProgressStyleModel",
            "_view_count": null,
            "_view_module": "@jupyter-widgets/base",
            "_view_module_version": "1.2.0",
            "_view_name": "StyleView",
            "bar_color": null,
            "description_width": "initial"
          }
        },
        "d284cb3c459f4b73ad5302d71d737f34": {
          "model_module": "@jupyter-widgets/base",
          "model_name": "LayoutModel",
          "state": {
            "_model_module": "@jupyter-widgets/base",
            "_model_module_version": "1.2.0",
            "_model_name": "LayoutModel",
            "_view_count": null,
            "_view_module": "@jupyter-widgets/base",
            "_view_module_version": "1.2.0",
            "_view_name": "LayoutView",
            "align_content": null,
            "align_items": null,
            "align_self": null,
            "border": null,
            "bottom": null,
            "display": null,
            "flex": null,
            "flex_flow": null,
            "grid_area": null,
            "grid_auto_columns": null,
            "grid_auto_flow": null,
            "grid_auto_rows": null,
            "grid_column": null,
            "grid_gap": null,
            "grid_row": null,
            "grid_template_areas": null,
            "grid_template_columns": null,
            "grid_template_rows": null,
            "height": null,
            "justify_content": null,
            "justify_items": null,
            "left": null,
            "margin": null,
            "max_height": null,
            "max_width": null,
            "min_height": null,
            "min_width": null,
            "object_fit": null,
            "object_position": null,
            "order": null,
            "overflow": null,
            "overflow_x": null,
            "overflow_y": null,
            "padding": null,
            "right": null,
            "top": null,
            "visibility": null,
            "width": null
          }
        },
        "192e8b38267841998c4321f17f103cd5": {
          "model_module": "@jupyter-widgets/controls",
          "model_name": "DescriptionStyleModel",
          "state": {
            "_model_module": "@jupyter-widgets/controls",
            "_model_module_version": "1.5.0",
            "_model_name": "DescriptionStyleModel",
            "_view_count": null,
            "_view_module": "@jupyter-widgets/base",
            "_view_module_version": "1.2.0",
            "_view_name": "StyleView",
            "description_width": ""
          }
        },
        "e66d7d7744784772b996a65d58a1b465": {
          "model_module": "@jupyter-widgets/base",
          "model_name": "LayoutModel",
          "state": {
            "_model_module": "@jupyter-widgets/base",
            "_model_module_version": "1.2.0",
            "_model_name": "LayoutModel",
            "_view_count": null,
            "_view_module": "@jupyter-widgets/base",
            "_view_module_version": "1.2.0",
            "_view_name": "LayoutView",
            "align_content": null,
            "align_items": null,
            "align_self": null,
            "border": null,
            "bottom": null,
            "display": null,
            "flex": null,
            "flex_flow": null,
            "grid_area": null,
            "grid_auto_columns": null,
            "grid_auto_flow": null,
            "grid_auto_rows": null,
            "grid_column": null,
            "grid_gap": null,
            "grid_row": null,
            "grid_template_areas": null,
            "grid_template_columns": null,
            "grid_template_rows": null,
            "height": null,
            "justify_content": null,
            "justify_items": null,
            "left": null,
            "margin": null,
            "max_height": null,
            "max_width": null,
            "min_height": null,
            "min_width": null,
            "object_fit": null,
            "object_position": null,
            "order": null,
            "overflow": null,
            "overflow_x": null,
            "overflow_y": null,
            "padding": null,
            "right": null,
            "top": null,
            "visibility": null,
            "width": null
          }
        },
        "afc3b9bd583c411d8bd0faa5b41c1f45": {
          "model_module": "@jupyter-widgets/controls",
          "model_name": "HBoxModel",
          "state": {
            "_dom_classes": [],
            "_model_module": "@jupyter-widgets/controls",
            "_model_module_version": "1.5.0",
            "_model_name": "HBoxModel",
            "_view_count": null,
            "_view_module": "@jupyter-widgets/controls",
            "_view_module_version": "1.5.0",
            "_view_name": "HBoxView",
            "box_style": "",
            "children": [
              "IPY_MODEL_68780c8f774d4dcabc7e4f39aff9be24",
              "IPY_MODEL_653143f6a4ae4efebacee55f8e114ff0"
            ],
            "layout": "IPY_MODEL_54dec72f0a3d49f899c4254a65d95893"
          }
        },
        "54dec72f0a3d49f899c4254a65d95893": {
          "model_module": "@jupyter-widgets/base",
          "model_name": "LayoutModel",
          "state": {
            "_model_module": "@jupyter-widgets/base",
            "_model_module_version": "1.2.0",
            "_model_name": "LayoutModel",
            "_view_count": null,
            "_view_module": "@jupyter-widgets/base",
            "_view_module_version": "1.2.0",
            "_view_name": "LayoutView",
            "align_content": null,
            "align_items": null,
            "align_self": null,
            "border": null,
            "bottom": null,
            "display": null,
            "flex": null,
            "flex_flow": null,
            "grid_area": null,
            "grid_auto_columns": null,
            "grid_auto_flow": null,
            "grid_auto_rows": null,
            "grid_column": null,
            "grid_gap": null,
            "grid_row": null,
            "grid_template_areas": null,
            "grid_template_columns": null,
            "grid_template_rows": null,
            "height": null,
            "justify_content": null,
            "justify_items": null,
            "left": null,
            "margin": null,
            "max_height": null,
            "max_width": null,
            "min_height": null,
            "min_width": null,
            "object_fit": null,
            "object_position": null,
            "order": null,
            "overflow": null,
            "overflow_x": null,
            "overflow_y": null,
            "padding": null,
            "right": null,
            "top": null,
            "visibility": null,
            "width": null
          }
        },
        "68780c8f774d4dcabc7e4f39aff9be24": {
          "model_module": "@jupyter-widgets/controls",
          "model_name": "FloatProgressModel",
          "state": {
            "_dom_classes": [],
            "_model_module": "@jupyter-widgets/controls",
            "_model_module_version": "1.5.0",
            "_model_name": "FloatProgressModel",
            "_view_count": null,
            "_view_module": "@jupyter-widgets/controls",
            "_view_module_version": "1.5.0",
            "_view_name": "ProgressView",
            "bar_style": "success",
            "description": "100%",
            "description_tooltip": null,
            "layout": "IPY_MODEL_447854b7d156485c8a31c4cb632cc5a3",
            "max": 1,
            "min": 0,
            "orientation": "horizontal",
            "style": "IPY_MODEL_15c4757a022746d8b14f2ffb42c394e2",
            "value": 1
          }
        },
        "653143f6a4ae4efebacee55f8e114ff0": {
          "model_module": "@jupyter-widgets/controls",
          "model_name": "HTMLModel",
          "state": {
            "_dom_classes": [],
            "_model_module": "@jupyter-widgets/controls",
            "_model_module_version": "1.5.0",
            "_model_name": "HTMLModel",
            "_view_count": null,
            "_view_module": "@jupyter-widgets/controls",
            "_view_module_version": "1.5.0",
            "_view_name": "HTMLView",
            "description": "",
            "description_tooltip": null,
            "layout": "IPY_MODEL_c3a7995f994b4d6ebf35c67af80591e2",
            "placeholder": "​",
            "style": "IPY_MODEL_22c8c82902af470d83c0c5ea50af8d5d",
            "value": " 1/1 [00:08&lt;00:00,  8.33s/ba]"
          }
        },
        "15c4757a022746d8b14f2ffb42c394e2": {
          "model_module": "@jupyter-widgets/controls",
          "model_name": "ProgressStyleModel",
          "state": {
            "_model_module": "@jupyter-widgets/controls",
            "_model_module_version": "1.5.0",
            "_model_name": "ProgressStyleModel",
            "_view_count": null,
            "_view_module": "@jupyter-widgets/base",
            "_view_module_version": "1.2.0",
            "_view_name": "StyleView",
            "bar_color": null,
            "description_width": "initial"
          }
        },
        "447854b7d156485c8a31c4cb632cc5a3": {
          "model_module": "@jupyter-widgets/base",
          "model_name": "LayoutModel",
          "state": {
            "_model_module": "@jupyter-widgets/base",
            "_model_module_version": "1.2.0",
            "_model_name": "LayoutModel",
            "_view_count": null,
            "_view_module": "@jupyter-widgets/base",
            "_view_module_version": "1.2.0",
            "_view_name": "LayoutView",
            "align_content": null,
            "align_items": null,
            "align_self": null,
            "border": null,
            "bottom": null,
            "display": null,
            "flex": null,
            "flex_flow": null,
            "grid_area": null,
            "grid_auto_columns": null,
            "grid_auto_flow": null,
            "grid_auto_rows": null,
            "grid_column": null,
            "grid_gap": null,
            "grid_row": null,
            "grid_template_areas": null,
            "grid_template_columns": null,
            "grid_template_rows": null,
            "height": null,
            "justify_content": null,
            "justify_items": null,
            "left": null,
            "margin": null,
            "max_height": null,
            "max_width": null,
            "min_height": null,
            "min_width": null,
            "object_fit": null,
            "object_position": null,
            "order": null,
            "overflow": null,
            "overflow_x": null,
            "overflow_y": null,
            "padding": null,
            "right": null,
            "top": null,
            "visibility": null,
            "width": null
          }
        },
        "22c8c82902af470d83c0c5ea50af8d5d": {
          "model_module": "@jupyter-widgets/controls",
          "model_name": "DescriptionStyleModel",
          "state": {
            "_model_module": "@jupyter-widgets/controls",
            "_model_module_version": "1.5.0",
            "_model_name": "DescriptionStyleModel",
            "_view_count": null,
            "_view_module": "@jupyter-widgets/base",
            "_view_module_version": "1.2.0",
            "_view_name": "StyleView",
            "description_width": ""
          }
        },
        "c3a7995f994b4d6ebf35c67af80591e2": {
          "model_module": "@jupyter-widgets/base",
          "model_name": "LayoutModel",
          "state": {
            "_model_module": "@jupyter-widgets/base",
            "_model_module_version": "1.2.0",
            "_model_name": "LayoutModel",
            "_view_count": null,
            "_view_module": "@jupyter-widgets/base",
            "_view_module_version": "1.2.0",
            "_view_name": "LayoutView",
            "align_content": null,
            "align_items": null,
            "align_self": null,
            "border": null,
            "bottom": null,
            "display": null,
            "flex": null,
            "flex_flow": null,
            "grid_area": null,
            "grid_auto_columns": null,
            "grid_auto_flow": null,
            "grid_auto_rows": null,
            "grid_column": null,
            "grid_gap": null,
            "grid_row": null,
            "grid_template_areas": null,
            "grid_template_columns": null,
            "grid_template_rows": null,
            "height": null,
            "justify_content": null,
            "justify_items": null,
            "left": null,
            "margin": null,
            "max_height": null,
            "max_width": null,
            "min_height": null,
            "min_width": null,
            "object_fit": null,
            "object_position": null,
            "order": null,
            "overflow": null,
            "overflow_x": null,
            "overflow_y": null,
            "padding": null,
            "right": null,
            "top": null,
            "visibility": null,
            "width": null
          }
        },
        "6e01faa6031c4ad1984b94decc0ce50e": {
          "model_module": "@jupyter-widgets/controls",
          "model_name": "HBoxModel",
          "state": {
            "_dom_classes": [],
            "_model_module": "@jupyter-widgets/controls",
            "_model_module_version": "1.5.0",
            "_model_name": "HBoxModel",
            "_view_count": null,
            "_view_module": "@jupyter-widgets/controls",
            "_view_module_version": "1.5.0",
            "_view_name": "HBoxView",
            "box_style": "",
            "children": [
              "IPY_MODEL_b03514a133a6473398b74ee89ecb7d3f",
              "IPY_MODEL_54f461263aea49699533a2c7c339e8e7"
            ],
            "layout": "IPY_MODEL_be5572a25d094bd58cb3e3482e98a207"
          }
        },
        "be5572a25d094bd58cb3e3482e98a207": {
          "model_module": "@jupyter-widgets/base",
          "model_name": "LayoutModel",
          "state": {
            "_model_module": "@jupyter-widgets/base",
            "_model_module_version": "1.2.0",
            "_model_name": "LayoutModel",
            "_view_count": null,
            "_view_module": "@jupyter-widgets/base",
            "_view_module_version": "1.2.0",
            "_view_name": "LayoutView",
            "align_content": null,
            "align_items": null,
            "align_self": null,
            "border": null,
            "bottom": null,
            "display": null,
            "flex": null,
            "flex_flow": null,
            "grid_area": null,
            "grid_auto_columns": null,
            "grid_auto_flow": null,
            "grid_auto_rows": null,
            "grid_column": null,
            "grid_gap": null,
            "grid_row": null,
            "grid_template_areas": null,
            "grid_template_columns": null,
            "grid_template_rows": null,
            "height": null,
            "justify_content": null,
            "justify_items": null,
            "left": null,
            "margin": null,
            "max_height": null,
            "max_width": null,
            "min_height": null,
            "min_width": null,
            "object_fit": null,
            "object_position": null,
            "order": null,
            "overflow": null,
            "overflow_x": null,
            "overflow_y": null,
            "padding": null,
            "right": null,
            "top": null,
            "visibility": null,
            "width": null
          }
        },
        "b03514a133a6473398b74ee89ecb7d3f": {
          "model_module": "@jupyter-widgets/controls",
          "model_name": "FloatProgressModel",
          "state": {
            "_dom_classes": [],
            "_model_module": "@jupyter-widgets/controls",
            "_model_module_version": "1.5.0",
            "_model_name": "FloatProgressModel",
            "_view_count": null,
            "_view_module": "@jupyter-widgets/controls",
            "_view_module_version": "1.5.0",
            "_view_name": "ProgressView",
            "bar_style": "success",
            "description": "100%",
            "description_tooltip": null,
            "layout": "IPY_MODEL_e4a27ede1e2e487a8b3580dd5127fb7e",
            "max": 1992,
            "min": 0,
            "orientation": "horizontal",
            "style": "IPY_MODEL_f7884d5d7b9a427e946db359c82280e6",
            "value": 1992
          }
        },
        "54f461263aea49699533a2c7c339e8e7": {
          "model_module": "@jupyter-widgets/controls",
          "model_name": "HTMLModel",
          "state": {
            "_dom_classes": [],
            "_model_module": "@jupyter-widgets/controls",
            "_model_module_version": "1.5.0",
            "_model_name": "HTMLModel",
            "_view_count": null,
            "_view_module": "@jupyter-widgets/controls",
            "_view_module_version": "1.5.0",
            "_view_name": "HTMLView",
            "description": "",
            "description_tooltip": null,
            "layout": "IPY_MODEL_3681f1e906ab44edb031cfaad24139d1",
            "placeholder": "​",
            "style": "IPY_MODEL_3e31db744aa8427c8ca09ab1d64daffb",
            "value": " 1992/1992 [12:01&lt;00:00,  2.76ex/s]"
          }
        },
        "f7884d5d7b9a427e946db359c82280e6": {
          "model_module": "@jupyter-widgets/controls",
          "model_name": "ProgressStyleModel",
          "state": {
            "_model_module": "@jupyter-widgets/controls",
            "_model_module_version": "1.5.0",
            "_model_name": "ProgressStyleModel",
            "_view_count": null,
            "_view_module": "@jupyter-widgets/base",
            "_view_module_version": "1.2.0",
            "_view_name": "StyleView",
            "bar_color": null,
            "description_width": "initial"
          }
        },
        "e4a27ede1e2e487a8b3580dd5127fb7e": {
          "model_module": "@jupyter-widgets/base",
          "model_name": "LayoutModel",
          "state": {
            "_model_module": "@jupyter-widgets/base",
            "_model_module_version": "1.2.0",
            "_model_name": "LayoutModel",
            "_view_count": null,
            "_view_module": "@jupyter-widgets/base",
            "_view_module_version": "1.2.0",
            "_view_name": "LayoutView",
            "align_content": null,
            "align_items": null,
            "align_self": null,
            "border": null,
            "bottom": null,
            "display": null,
            "flex": null,
            "flex_flow": null,
            "grid_area": null,
            "grid_auto_columns": null,
            "grid_auto_flow": null,
            "grid_auto_rows": null,
            "grid_column": null,
            "grid_gap": null,
            "grid_row": null,
            "grid_template_areas": null,
            "grid_template_columns": null,
            "grid_template_rows": null,
            "height": null,
            "justify_content": null,
            "justify_items": null,
            "left": null,
            "margin": null,
            "max_height": null,
            "max_width": null,
            "min_height": null,
            "min_width": null,
            "object_fit": null,
            "object_position": null,
            "order": null,
            "overflow": null,
            "overflow_x": null,
            "overflow_y": null,
            "padding": null,
            "right": null,
            "top": null,
            "visibility": null,
            "width": null
          }
        },
        "3e31db744aa8427c8ca09ab1d64daffb": {
          "model_module": "@jupyter-widgets/controls",
          "model_name": "DescriptionStyleModel",
          "state": {
            "_model_module": "@jupyter-widgets/controls",
            "_model_module_version": "1.5.0",
            "_model_name": "DescriptionStyleModel",
            "_view_count": null,
            "_view_module": "@jupyter-widgets/base",
            "_view_module_version": "1.2.0",
            "_view_name": "StyleView",
            "description_width": ""
          }
        },
        "3681f1e906ab44edb031cfaad24139d1": {
          "model_module": "@jupyter-widgets/base",
          "model_name": "LayoutModel",
          "state": {
            "_model_module": "@jupyter-widgets/base",
            "_model_module_version": "1.2.0",
            "_model_name": "LayoutModel",
            "_view_count": null,
            "_view_module": "@jupyter-widgets/base",
            "_view_module_version": "1.2.0",
            "_view_name": "LayoutView",
            "align_content": null,
            "align_items": null,
            "align_self": null,
            "border": null,
            "bottom": null,
            "display": null,
            "flex": null,
            "flex_flow": null,
            "grid_area": null,
            "grid_auto_columns": null,
            "grid_auto_flow": null,
            "grid_auto_rows": null,
            "grid_column": null,
            "grid_gap": null,
            "grid_row": null,
            "grid_template_areas": null,
            "grid_template_columns": null,
            "grid_template_rows": null,
            "height": null,
            "justify_content": null,
            "justify_items": null,
            "left": null,
            "margin": null,
            "max_height": null,
            "max_width": null,
            "min_height": null,
            "min_width": null,
            "object_fit": null,
            "object_position": null,
            "order": null,
            "overflow": null,
            "overflow_x": null,
            "overflow_y": null,
            "padding": null,
            "right": null,
            "top": null,
            "visibility": null,
            "width": null
          }
        },
        "127b718e40594b4088da1ca085137078": {
          "model_module": "@jupyter-widgets/controls",
          "model_name": "HBoxModel",
          "state": {
            "_dom_classes": [],
            "_model_module": "@jupyter-widgets/controls",
            "_model_module_version": "1.5.0",
            "_model_name": "HBoxModel",
            "_view_count": null,
            "_view_module": "@jupyter-widgets/controls",
            "_view_module_version": "1.5.0",
            "_view_name": "HBoxView",
            "box_style": "",
            "children": [
              "IPY_MODEL_ea65fe2b7603482189913832a9817aa1",
              "IPY_MODEL_71a5088fc1704a1484ad6263f9c9a531"
            ],
            "layout": "IPY_MODEL_552ba78aff5245a4904f210d0a47fafa"
          }
        },
        "552ba78aff5245a4904f210d0a47fafa": {
          "model_module": "@jupyter-widgets/base",
          "model_name": "LayoutModel",
          "state": {
            "_model_module": "@jupyter-widgets/base",
            "_model_module_version": "1.2.0",
            "_model_name": "LayoutModel",
            "_view_count": null,
            "_view_module": "@jupyter-widgets/base",
            "_view_module_version": "1.2.0",
            "_view_name": "LayoutView",
            "align_content": null,
            "align_items": null,
            "align_self": null,
            "border": null,
            "bottom": null,
            "display": null,
            "flex": null,
            "flex_flow": null,
            "grid_area": null,
            "grid_auto_columns": null,
            "grid_auto_flow": null,
            "grid_auto_rows": null,
            "grid_column": null,
            "grid_gap": null,
            "grid_row": null,
            "grid_template_areas": null,
            "grid_template_columns": null,
            "grid_template_rows": null,
            "height": null,
            "justify_content": null,
            "justify_items": null,
            "left": null,
            "margin": null,
            "max_height": null,
            "max_width": null,
            "min_height": null,
            "min_width": null,
            "object_fit": null,
            "object_position": null,
            "order": null,
            "overflow": null,
            "overflow_x": null,
            "overflow_y": null,
            "padding": null,
            "right": null,
            "top": null,
            "visibility": null,
            "width": null
          }
        },
        "ea65fe2b7603482189913832a9817aa1": {
          "model_module": "@jupyter-widgets/controls",
          "model_name": "FloatProgressModel",
          "state": {
            "_dom_classes": [],
            "_model_module": "@jupyter-widgets/controls",
            "_model_module_version": "1.5.0",
            "_model_name": "FloatProgressModel",
            "_view_count": null,
            "_view_module": "@jupyter-widgets/controls",
            "_view_module_version": "1.5.0",
            "_view_name": "ProgressView",
            "bar_style": "success",
            "description": "100%",
            "description_tooltip": null,
            "layout": "IPY_MODEL_fa2aa73b89b14598af0cefaccad1ee58",
            "max": 222,
            "min": 0,
            "orientation": "horizontal",
            "style": "IPY_MODEL_01772f021ef7442284dc0a9d7ed4d318",
            "value": 222
          }
        },
        "71a5088fc1704a1484ad6263f9c9a531": {
          "model_module": "@jupyter-widgets/controls",
          "model_name": "HTMLModel",
          "state": {
            "_dom_classes": [],
            "_model_module": "@jupyter-widgets/controls",
            "_model_module_version": "1.5.0",
            "_model_name": "HTMLModel",
            "_view_count": null,
            "_view_module": "@jupyter-widgets/controls",
            "_view_module_version": "1.5.0",
            "_view_name": "HTMLView",
            "description": "",
            "description_tooltip": null,
            "layout": "IPY_MODEL_499eec733bae4ca8b0cd58108ead8fca",
            "placeholder": "​",
            "style": "IPY_MODEL_5fee0752390f46c4b98fd3f9fa2a8a04",
            "value": " 222/222 [01:26&lt;00:00,  2.57ex/s]"
          }
        },
        "01772f021ef7442284dc0a9d7ed4d318": {
          "model_module": "@jupyter-widgets/controls",
          "model_name": "ProgressStyleModel",
          "state": {
            "_model_module": "@jupyter-widgets/controls",
            "_model_module_version": "1.5.0",
            "_model_name": "ProgressStyleModel",
            "_view_count": null,
            "_view_module": "@jupyter-widgets/base",
            "_view_module_version": "1.2.0",
            "_view_name": "StyleView",
            "bar_color": null,
            "description_width": "initial"
          }
        },
        "fa2aa73b89b14598af0cefaccad1ee58": {
          "model_module": "@jupyter-widgets/base",
          "model_name": "LayoutModel",
          "state": {
            "_model_module": "@jupyter-widgets/base",
            "_model_module_version": "1.2.0",
            "_model_name": "LayoutModel",
            "_view_count": null,
            "_view_module": "@jupyter-widgets/base",
            "_view_module_version": "1.2.0",
            "_view_name": "LayoutView",
            "align_content": null,
            "align_items": null,
            "align_self": null,
            "border": null,
            "bottom": null,
            "display": null,
            "flex": null,
            "flex_flow": null,
            "grid_area": null,
            "grid_auto_columns": null,
            "grid_auto_flow": null,
            "grid_auto_rows": null,
            "grid_column": null,
            "grid_gap": null,
            "grid_row": null,
            "grid_template_areas": null,
            "grid_template_columns": null,
            "grid_template_rows": null,
            "height": null,
            "justify_content": null,
            "justify_items": null,
            "left": null,
            "margin": null,
            "max_height": null,
            "max_width": null,
            "min_height": null,
            "min_width": null,
            "object_fit": null,
            "object_position": null,
            "order": null,
            "overflow": null,
            "overflow_x": null,
            "overflow_y": null,
            "padding": null,
            "right": null,
            "top": null,
            "visibility": null,
            "width": null
          }
        },
        "5fee0752390f46c4b98fd3f9fa2a8a04": {
          "model_module": "@jupyter-widgets/controls",
          "model_name": "DescriptionStyleModel",
          "state": {
            "_model_module": "@jupyter-widgets/controls",
            "_model_module_version": "1.5.0",
            "_model_name": "DescriptionStyleModel",
            "_view_count": null,
            "_view_module": "@jupyter-widgets/base",
            "_view_module_version": "1.2.0",
            "_view_name": "StyleView",
            "description_width": ""
          }
        },
        "499eec733bae4ca8b0cd58108ead8fca": {
          "model_module": "@jupyter-widgets/base",
          "model_name": "LayoutModel",
          "state": {
            "_model_module": "@jupyter-widgets/base",
            "_model_module_version": "1.2.0",
            "_model_name": "LayoutModel",
            "_view_count": null,
            "_view_module": "@jupyter-widgets/base",
            "_view_module_version": "1.2.0",
            "_view_name": "LayoutView",
            "align_content": null,
            "align_items": null,
            "align_self": null,
            "border": null,
            "bottom": null,
            "display": null,
            "flex": null,
            "flex_flow": null,
            "grid_area": null,
            "grid_auto_columns": null,
            "grid_auto_flow": null,
            "grid_auto_rows": null,
            "grid_column": null,
            "grid_gap": null,
            "grid_row": null,
            "grid_template_areas": null,
            "grid_template_columns": null,
            "grid_template_rows": null,
            "height": null,
            "justify_content": null,
            "justify_items": null,
            "left": null,
            "margin": null,
            "max_height": null,
            "max_width": null,
            "min_height": null,
            "min_width": null,
            "object_fit": null,
            "object_position": null,
            "order": null,
            "overflow": null,
            "overflow_x": null,
            "overflow_y": null,
            "padding": null,
            "right": null,
            "top": null,
            "visibility": null,
            "width": null
          }
        },
        "abfa0b1618344c11b0abeb4105399f63": {
          "model_module": "@jupyter-widgets/controls",
          "model_name": "HBoxModel",
          "state": {
            "_dom_classes": [],
            "_model_module": "@jupyter-widgets/controls",
            "_model_module_version": "1.5.0",
            "_model_name": "HBoxModel",
            "_view_count": null,
            "_view_module": "@jupyter-widgets/controls",
            "_view_module_version": "1.5.0",
            "_view_name": "HBoxView",
            "box_style": "",
            "children": [
              "IPY_MODEL_09abf44ee59e45409a78846763ea53b1",
              "IPY_MODEL_48391fe9fc3844f5970e02c3c3eb481c"
            ],
            "layout": "IPY_MODEL_6f84c8d818b6416c92c10ce94960c135"
          }
        },
        "6f84c8d818b6416c92c10ce94960c135": {
          "model_module": "@jupyter-widgets/base",
          "model_name": "LayoutModel",
          "state": {
            "_model_module": "@jupyter-widgets/base",
            "_model_module_version": "1.2.0",
            "_model_name": "LayoutModel",
            "_view_count": null,
            "_view_module": "@jupyter-widgets/base",
            "_view_module_version": "1.2.0",
            "_view_name": "LayoutView",
            "align_content": null,
            "align_items": null,
            "align_self": null,
            "border": null,
            "bottom": null,
            "display": null,
            "flex": null,
            "flex_flow": null,
            "grid_area": null,
            "grid_auto_columns": null,
            "grid_auto_flow": null,
            "grid_auto_rows": null,
            "grid_column": null,
            "grid_gap": null,
            "grid_row": null,
            "grid_template_areas": null,
            "grid_template_columns": null,
            "grid_template_rows": null,
            "height": null,
            "justify_content": null,
            "justify_items": null,
            "left": null,
            "margin": null,
            "max_height": null,
            "max_width": null,
            "min_height": null,
            "min_width": null,
            "object_fit": null,
            "object_position": null,
            "order": null,
            "overflow": null,
            "overflow_x": null,
            "overflow_y": null,
            "padding": null,
            "right": null,
            "top": null,
            "visibility": null,
            "width": null
          }
        },
        "09abf44ee59e45409a78846763ea53b1": {
          "model_module": "@jupyter-widgets/controls",
          "model_name": "FloatProgressModel",
          "state": {
            "_dom_classes": [],
            "_model_module": "@jupyter-widgets/controls",
            "_model_module_version": "1.5.0",
            "_model_name": "FloatProgressModel",
            "_view_count": null,
            "_view_module": "@jupyter-widgets/controls",
            "_view_module_version": "1.5.0",
            "_view_name": "ProgressView",
            "bar_style": "success",
            "description": "100%",
            "description_tooltip": null,
            "layout": "IPY_MODEL_9b0cd76a65e04512b41be82e66bcbe60",
            "max": 1992,
            "min": 0,
            "orientation": "horizontal",
            "style": "IPY_MODEL_7d0c16259c2a48fe9869366a6e89ba15",
            "value": 1992
          }
        },
        "48391fe9fc3844f5970e02c3c3eb481c": {
          "model_module": "@jupyter-widgets/controls",
          "model_name": "HTMLModel",
          "state": {
            "_dom_classes": [],
            "_model_module": "@jupyter-widgets/controls",
            "_model_module_version": "1.5.0",
            "_model_name": "HTMLModel",
            "_view_count": null,
            "_view_module": "@jupyter-widgets/controls",
            "_view_module_version": "1.5.0",
            "_view_name": "HTMLView",
            "description": "",
            "description_tooltip": null,
            "layout": "IPY_MODEL_9b143dda6d78412498e371f48c113d13",
            "placeholder": "​",
            "style": "IPY_MODEL_f994a774ee7244f3af49bca8b2409be0",
            "value": " 1992/1992 [28:21&lt;00:00,  1.17ex/s]"
          }
        },
        "7d0c16259c2a48fe9869366a6e89ba15": {
          "model_module": "@jupyter-widgets/controls",
          "model_name": "ProgressStyleModel",
          "state": {
            "_model_module": "@jupyter-widgets/controls",
            "_model_module_version": "1.5.0",
            "_model_name": "ProgressStyleModel",
            "_view_count": null,
            "_view_module": "@jupyter-widgets/base",
            "_view_module_version": "1.2.0",
            "_view_name": "StyleView",
            "bar_color": null,
            "description_width": "initial"
          }
        },
        "9b0cd76a65e04512b41be82e66bcbe60": {
          "model_module": "@jupyter-widgets/base",
          "model_name": "LayoutModel",
          "state": {
            "_model_module": "@jupyter-widgets/base",
            "_model_module_version": "1.2.0",
            "_model_name": "LayoutModel",
            "_view_count": null,
            "_view_module": "@jupyter-widgets/base",
            "_view_module_version": "1.2.0",
            "_view_name": "LayoutView",
            "align_content": null,
            "align_items": null,
            "align_self": null,
            "border": null,
            "bottom": null,
            "display": null,
            "flex": null,
            "flex_flow": null,
            "grid_area": null,
            "grid_auto_columns": null,
            "grid_auto_flow": null,
            "grid_auto_rows": null,
            "grid_column": null,
            "grid_gap": null,
            "grid_row": null,
            "grid_template_areas": null,
            "grid_template_columns": null,
            "grid_template_rows": null,
            "height": null,
            "justify_content": null,
            "justify_items": null,
            "left": null,
            "margin": null,
            "max_height": null,
            "max_width": null,
            "min_height": null,
            "min_width": null,
            "object_fit": null,
            "object_position": null,
            "order": null,
            "overflow": null,
            "overflow_x": null,
            "overflow_y": null,
            "padding": null,
            "right": null,
            "top": null,
            "visibility": null,
            "width": null
          }
        },
        "f994a774ee7244f3af49bca8b2409be0": {
          "model_module": "@jupyter-widgets/controls",
          "model_name": "DescriptionStyleModel",
          "state": {
            "_model_module": "@jupyter-widgets/controls",
            "_model_module_version": "1.5.0",
            "_model_name": "DescriptionStyleModel",
            "_view_count": null,
            "_view_module": "@jupyter-widgets/base",
            "_view_module_version": "1.2.0",
            "_view_name": "StyleView",
            "description_width": ""
          }
        },
        "9b143dda6d78412498e371f48c113d13": {
          "model_module": "@jupyter-widgets/base",
          "model_name": "LayoutModel",
          "state": {
            "_model_module": "@jupyter-widgets/base",
            "_model_module_version": "1.2.0",
            "_model_name": "LayoutModel",
            "_view_count": null,
            "_view_module": "@jupyter-widgets/base",
            "_view_module_version": "1.2.0",
            "_view_name": "LayoutView",
            "align_content": null,
            "align_items": null,
            "align_self": null,
            "border": null,
            "bottom": null,
            "display": null,
            "flex": null,
            "flex_flow": null,
            "grid_area": null,
            "grid_auto_columns": null,
            "grid_auto_flow": null,
            "grid_auto_rows": null,
            "grid_column": null,
            "grid_gap": null,
            "grid_row": null,
            "grid_template_areas": null,
            "grid_template_columns": null,
            "grid_template_rows": null,
            "height": null,
            "justify_content": null,
            "justify_items": null,
            "left": null,
            "margin": null,
            "max_height": null,
            "max_width": null,
            "min_height": null,
            "min_width": null,
            "object_fit": null,
            "object_position": null,
            "order": null,
            "overflow": null,
            "overflow_x": null,
            "overflow_y": null,
            "padding": null,
            "right": null,
            "top": null,
            "visibility": null,
            "width": null
          }
        },
        "c81c92adf1394129b332181f7fd99cb7": {
          "model_module": "@jupyter-widgets/controls",
          "model_name": "HBoxModel",
          "state": {
            "_dom_classes": [],
            "_model_module": "@jupyter-widgets/controls",
            "_model_module_version": "1.5.0",
            "_model_name": "HBoxModel",
            "_view_count": null,
            "_view_module": "@jupyter-widgets/controls",
            "_view_module_version": "1.5.0",
            "_view_name": "HBoxView",
            "box_style": "",
            "children": [
              "IPY_MODEL_e77d1d6f16c04d9686939873a0f9821f",
              "IPY_MODEL_5980074bdbe44f7bb107c67d2bb45b3b"
            ],
            "layout": "IPY_MODEL_412d694550b84e35885f57f6fdd2e081"
          }
        },
        "412d694550b84e35885f57f6fdd2e081": {
          "model_module": "@jupyter-widgets/base",
          "model_name": "LayoutModel",
          "state": {
            "_model_module": "@jupyter-widgets/base",
            "_model_module_version": "1.2.0",
            "_model_name": "LayoutModel",
            "_view_count": null,
            "_view_module": "@jupyter-widgets/base",
            "_view_module_version": "1.2.0",
            "_view_name": "LayoutView",
            "align_content": null,
            "align_items": null,
            "align_self": null,
            "border": null,
            "bottom": null,
            "display": null,
            "flex": null,
            "flex_flow": null,
            "grid_area": null,
            "grid_auto_columns": null,
            "grid_auto_flow": null,
            "grid_auto_rows": null,
            "grid_column": null,
            "grid_gap": null,
            "grid_row": null,
            "grid_template_areas": null,
            "grid_template_columns": null,
            "grid_template_rows": null,
            "height": null,
            "justify_content": null,
            "justify_items": null,
            "left": null,
            "margin": null,
            "max_height": null,
            "max_width": null,
            "min_height": null,
            "min_width": null,
            "object_fit": null,
            "object_position": null,
            "order": null,
            "overflow": null,
            "overflow_x": null,
            "overflow_y": null,
            "padding": null,
            "right": null,
            "top": null,
            "visibility": null,
            "width": null
          }
        },
        "e77d1d6f16c04d9686939873a0f9821f": {
          "model_module": "@jupyter-widgets/controls",
          "model_name": "FloatProgressModel",
          "state": {
            "_dom_classes": [],
            "_model_module": "@jupyter-widgets/controls",
            "_model_module_version": "1.5.0",
            "_model_name": "FloatProgressModel",
            "_view_count": null,
            "_view_module": "@jupyter-widgets/controls",
            "_view_module_version": "1.5.0",
            "_view_name": "ProgressView",
            "bar_style": "success",
            "description": "100%",
            "description_tooltip": null,
            "layout": "IPY_MODEL_ed3e6fe93320440b8238b848659cc49b",
            "max": 222,
            "min": 0,
            "orientation": "horizontal",
            "style": "IPY_MODEL_f7fda90897fb4626ba39fe5c88850e73",
            "value": 222
          }
        },
        "5980074bdbe44f7bb107c67d2bb45b3b": {
          "model_module": "@jupyter-widgets/controls",
          "model_name": "HTMLModel",
          "state": {
            "_dom_classes": [],
            "_model_module": "@jupyter-widgets/controls",
            "_model_module_version": "1.5.0",
            "_model_name": "HTMLModel",
            "_view_count": null,
            "_view_module": "@jupyter-widgets/controls",
            "_view_module_version": "1.5.0",
            "_view_name": "HTMLView",
            "description": "",
            "description_tooltip": null,
            "layout": "IPY_MODEL_4bbcaf6ac446408fa9a912caab0d1c10",
            "placeholder": "​",
            "style": "IPY_MODEL_59a7ecb151f14df7b29ee30a539a37fb",
            "value": " 222/222 [16:58&lt;00:00,  4.59s/ex]"
          }
        },
        "f7fda90897fb4626ba39fe5c88850e73": {
          "model_module": "@jupyter-widgets/controls",
          "model_name": "ProgressStyleModel",
          "state": {
            "_model_module": "@jupyter-widgets/controls",
            "_model_module_version": "1.5.0",
            "_model_name": "ProgressStyleModel",
            "_view_count": null,
            "_view_module": "@jupyter-widgets/base",
            "_view_module_version": "1.2.0",
            "_view_name": "StyleView",
            "bar_color": null,
            "description_width": "initial"
          }
        },
        "ed3e6fe93320440b8238b848659cc49b": {
          "model_module": "@jupyter-widgets/base",
          "model_name": "LayoutModel",
          "state": {
            "_model_module": "@jupyter-widgets/base",
            "_model_module_version": "1.2.0",
            "_model_name": "LayoutModel",
            "_view_count": null,
            "_view_module": "@jupyter-widgets/base",
            "_view_module_version": "1.2.0",
            "_view_name": "LayoutView",
            "align_content": null,
            "align_items": null,
            "align_self": null,
            "border": null,
            "bottom": null,
            "display": null,
            "flex": null,
            "flex_flow": null,
            "grid_area": null,
            "grid_auto_columns": null,
            "grid_auto_flow": null,
            "grid_auto_rows": null,
            "grid_column": null,
            "grid_gap": null,
            "grid_row": null,
            "grid_template_areas": null,
            "grid_template_columns": null,
            "grid_template_rows": null,
            "height": null,
            "justify_content": null,
            "justify_items": null,
            "left": null,
            "margin": null,
            "max_height": null,
            "max_width": null,
            "min_height": null,
            "min_width": null,
            "object_fit": null,
            "object_position": null,
            "order": null,
            "overflow": null,
            "overflow_x": null,
            "overflow_y": null,
            "padding": null,
            "right": null,
            "top": null,
            "visibility": null,
            "width": null
          }
        },
        "59a7ecb151f14df7b29ee30a539a37fb": {
          "model_module": "@jupyter-widgets/controls",
          "model_name": "DescriptionStyleModel",
          "state": {
            "_model_module": "@jupyter-widgets/controls",
            "_model_module_version": "1.5.0",
            "_model_name": "DescriptionStyleModel",
            "_view_count": null,
            "_view_module": "@jupyter-widgets/base",
            "_view_module_version": "1.2.0",
            "_view_name": "StyleView",
            "description_width": ""
          }
        },
        "4bbcaf6ac446408fa9a912caab0d1c10": {
          "model_module": "@jupyter-widgets/base",
          "model_name": "LayoutModel",
          "state": {
            "_model_module": "@jupyter-widgets/base",
            "_model_module_version": "1.2.0",
            "_model_name": "LayoutModel",
            "_view_count": null,
            "_view_module": "@jupyter-widgets/base",
            "_view_module_version": "1.2.0",
            "_view_name": "LayoutView",
            "align_content": null,
            "align_items": null,
            "align_self": null,
            "border": null,
            "bottom": null,
            "display": null,
            "flex": null,
            "flex_flow": null,
            "grid_area": null,
            "grid_auto_columns": null,
            "grid_auto_flow": null,
            "grid_auto_rows": null,
            "grid_column": null,
            "grid_gap": null,
            "grid_row": null,
            "grid_template_areas": null,
            "grid_template_columns": null,
            "grid_template_rows": null,
            "height": null,
            "justify_content": null,
            "justify_items": null,
            "left": null,
            "margin": null,
            "max_height": null,
            "max_width": null,
            "min_height": null,
            "min_width": null,
            "object_fit": null,
            "object_position": null,
            "order": null,
            "overflow": null,
            "overflow_x": null,
            "overflow_y": null,
            "padding": null,
            "right": null,
            "top": null,
            "visibility": null,
            "width": null
          }
        },
        "2d4baf180fab481b8be64125e7b40f5a": {
          "model_module": "@jupyter-widgets/controls",
          "model_name": "HBoxModel",
          "state": {
            "_dom_classes": [],
            "_model_module": "@jupyter-widgets/controls",
            "_model_module_version": "1.5.0",
            "_model_name": "HBoxModel",
            "_view_count": null,
            "_view_module": "@jupyter-widgets/controls",
            "_view_module_version": "1.5.0",
            "_view_name": "HBoxView",
            "box_style": "",
            "children": [
              "IPY_MODEL_5f50a64e93c44635ab131c3a66e3f690",
              "IPY_MODEL_ebc988e01f6e4e789db6897e4dfd6e32"
            ],
            "layout": "IPY_MODEL_1ea9d99c426b4065bf89452c0ec7e77b"
          }
        },
        "1ea9d99c426b4065bf89452c0ec7e77b": {
          "model_module": "@jupyter-widgets/base",
          "model_name": "LayoutModel",
          "state": {
            "_model_module": "@jupyter-widgets/base",
            "_model_module_version": "1.2.0",
            "_model_name": "LayoutModel",
            "_view_count": null,
            "_view_module": "@jupyter-widgets/base",
            "_view_module_version": "1.2.0",
            "_view_name": "LayoutView",
            "align_content": null,
            "align_items": null,
            "align_self": null,
            "border": null,
            "bottom": null,
            "display": null,
            "flex": null,
            "flex_flow": null,
            "grid_area": null,
            "grid_auto_columns": null,
            "grid_auto_flow": null,
            "grid_auto_rows": null,
            "grid_column": null,
            "grid_gap": null,
            "grid_row": null,
            "grid_template_areas": null,
            "grid_template_columns": null,
            "grid_template_rows": null,
            "height": null,
            "justify_content": null,
            "justify_items": null,
            "left": null,
            "margin": null,
            "max_height": null,
            "max_width": null,
            "min_height": null,
            "min_width": null,
            "object_fit": null,
            "object_position": null,
            "order": null,
            "overflow": null,
            "overflow_x": null,
            "overflow_y": null,
            "padding": null,
            "right": null,
            "top": null,
            "visibility": null,
            "width": null
          }
        },
        "5f50a64e93c44635ab131c3a66e3f690": {
          "model_module": "@jupyter-widgets/controls",
          "model_name": "FloatProgressModel",
          "state": {
            "_dom_classes": [],
            "_model_module": "@jupyter-widgets/controls",
            "_model_module_version": "1.5.0",
            "_model_name": "FloatProgressModel",
            "_view_count": null,
            "_view_module": "@jupyter-widgets/controls",
            "_view_module_version": "1.5.0",
            "_view_name": "ProgressView",
            "bar_style": "success",
            "description": "#0: 100%",
            "description_tooltip": null,
            "layout": "IPY_MODEL_54d6d1368b654afb8f497d128617b86d",
            "max": 63,
            "min": 0,
            "orientation": "horizontal",
            "style": "IPY_MODEL_683e446722a14b73899b3f16eb72d3cd",
            "value": 63
          }
        },
        "ebc988e01f6e4e789db6897e4dfd6e32": {
          "model_module": "@jupyter-widgets/controls",
          "model_name": "HTMLModel",
          "state": {
            "_dom_classes": [],
            "_model_module": "@jupyter-widgets/controls",
            "_model_module_version": "1.5.0",
            "_model_name": "HTMLModel",
            "_view_count": null,
            "_view_module": "@jupyter-widgets/controls",
            "_view_module_version": "1.5.0",
            "_view_name": "HTMLView",
            "description": "",
            "description_tooltip": null,
            "layout": "IPY_MODEL_8bce7582737f4cb8821a6601cd626047",
            "placeholder": "​",
            "style": "IPY_MODEL_cc94cf2940bc46e89e69278d908e7d8b",
            "value": " 63/63 [00:53&lt;00:00,  1.18ba/s]"
          }
        },
        "683e446722a14b73899b3f16eb72d3cd": {
          "model_module": "@jupyter-widgets/controls",
          "model_name": "ProgressStyleModel",
          "state": {
            "_model_module": "@jupyter-widgets/controls",
            "_model_module_version": "1.5.0",
            "_model_name": "ProgressStyleModel",
            "_view_count": null,
            "_view_module": "@jupyter-widgets/base",
            "_view_module_version": "1.2.0",
            "_view_name": "StyleView",
            "bar_color": null,
            "description_width": "initial"
          }
        },
        "54d6d1368b654afb8f497d128617b86d": {
          "model_module": "@jupyter-widgets/base",
          "model_name": "LayoutModel",
          "state": {
            "_model_module": "@jupyter-widgets/base",
            "_model_module_version": "1.2.0",
            "_model_name": "LayoutModel",
            "_view_count": null,
            "_view_module": "@jupyter-widgets/base",
            "_view_module_version": "1.2.0",
            "_view_name": "LayoutView",
            "align_content": null,
            "align_items": null,
            "align_self": null,
            "border": null,
            "bottom": null,
            "display": null,
            "flex": null,
            "flex_flow": null,
            "grid_area": null,
            "grid_auto_columns": null,
            "grid_auto_flow": null,
            "grid_auto_rows": null,
            "grid_column": null,
            "grid_gap": null,
            "grid_row": null,
            "grid_template_areas": null,
            "grid_template_columns": null,
            "grid_template_rows": null,
            "height": null,
            "justify_content": null,
            "justify_items": null,
            "left": null,
            "margin": null,
            "max_height": null,
            "max_width": null,
            "min_height": null,
            "min_width": null,
            "object_fit": null,
            "object_position": null,
            "order": null,
            "overflow": null,
            "overflow_x": null,
            "overflow_y": null,
            "padding": null,
            "right": null,
            "top": null,
            "visibility": null,
            "width": null
          }
        },
        "cc94cf2940bc46e89e69278d908e7d8b": {
          "model_module": "@jupyter-widgets/controls",
          "model_name": "DescriptionStyleModel",
          "state": {
            "_model_module": "@jupyter-widgets/controls",
            "_model_module_version": "1.5.0",
            "_model_name": "DescriptionStyleModel",
            "_view_count": null,
            "_view_module": "@jupyter-widgets/base",
            "_view_module_version": "1.2.0",
            "_view_name": "StyleView",
            "description_width": ""
          }
        },
        "8bce7582737f4cb8821a6601cd626047": {
          "model_module": "@jupyter-widgets/base",
          "model_name": "LayoutModel",
          "state": {
            "_model_module": "@jupyter-widgets/base",
            "_model_module_version": "1.2.0",
            "_model_name": "LayoutModel",
            "_view_count": null,
            "_view_module": "@jupyter-widgets/base",
            "_view_module_version": "1.2.0",
            "_view_name": "LayoutView",
            "align_content": null,
            "align_items": null,
            "align_self": null,
            "border": null,
            "bottom": null,
            "display": null,
            "flex": null,
            "flex_flow": null,
            "grid_area": null,
            "grid_auto_columns": null,
            "grid_auto_flow": null,
            "grid_auto_rows": null,
            "grid_column": null,
            "grid_gap": null,
            "grid_row": null,
            "grid_template_areas": null,
            "grid_template_columns": null,
            "grid_template_rows": null,
            "height": null,
            "justify_content": null,
            "justify_items": null,
            "left": null,
            "margin": null,
            "max_height": null,
            "max_width": null,
            "min_height": null,
            "min_width": null,
            "object_fit": null,
            "object_position": null,
            "order": null,
            "overflow": null,
            "overflow_x": null,
            "overflow_y": null,
            "padding": null,
            "right": null,
            "top": null,
            "visibility": null,
            "width": null
          }
        },
        "817682ba3d1d4f6c8a10e7f69dff7155": {
          "model_module": "@jupyter-widgets/controls",
          "model_name": "HBoxModel",
          "state": {
            "_dom_classes": [],
            "_model_module": "@jupyter-widgets/controls",
            "_model_module_version": "1.5.0",
            "_model_name": "HBoxModel",
            "_view_count": null,
            "_view_module": "@jupyter-widgets/controls",
            "_view_module_version": "1.5.0",
            "_view_name": "HBoxView",
            "box_style": "",
            "children": [
              "IPY_MODEL_8bd33689a21e4536b697a775dcc3ab97",
              "IPY_MODEL_89431bdbe7ba492cb2e39028bb9e830f"
            ],
            "layout": "IPY_MODEL_79acc2f971e2417e852e31e5d8f47bc0"
          }
        },
        "79acc2f971e2417e852e31e5d8f47bc0": {
          "model_module": "@jupyter-widgets/base",
          "model_name": "LayoutModel",
          "state": {
            "_model_module": "@jupyter-widgets/base",
            "_model_module_version": "1.2.0",
            "_model_name": "LayoutModel",
            "_view_count": null,
            "_view_module": "@jupyter-widgets/base",
            "_view_module_version": "1.2.0",
            "_view_name": "LayoutView",
            "align_content": null,
            "align_items": null,
            "align_self": null,
            "border": null,
            "bottom": null,
            "display": null,
            "flex": null,
            "flex_flow": null,
            "grid_area": null,
            "grid_auto_columns": null,
            "grid_auto_flow": null,
            "grid_auto_rows": null,
            "grid_column": null,
            "grid_gap": null,
            "grid_row": null,
            "grid_template_areas": null,
            "grid_template_columns": null,
            "grid_template_rows": null,
            "height": null,
            "justify_content": null,
            "justify_items": null,
            "left": null,
            "margin": null,
            "max_height": null,
            "max_width": null,
            "min_height": null,
            "min_width": null,
            "object_fit": null,
            "object_position": null,
            "order": null,
            "overflow": null,
            "overflow_x": null,
            "overflow_y": null,
            "padding": null,
            "right": null,
            "top": null,
            "visibility": null,
            "width": null
          }
        },
        "8bd33689a21e4536b697a775dcc3ab97": {
          "model_module": "@jupyter-widgets/controls",
          "model_name": "FloatProgressModel",
          "state": {
            "_dom_classes": [],
            "_model_module": "@jupyter-widgets/controls",
            "_model_module_version": "1.5.0",
            "_model_name": "FloatProgressModel",
            "_view_count": null,
            "_view_module": "@jupyter-widgets/controls",
            "_view_module_version": "1.5.0",
            "_view_name": "ProgressView",
            "bar_style": "success",
            "description": "#1: 100%",
            "description_tooltip": null,
            "layout": "IPY_MODEL_69b8bff825994222bd7df71f26237c8a",
            "max": 63,
            "min": 0,
            "orientation": "horizontal",
            "style": "IPY_MODEL_a72b9c3094d3464c9a8e947a16145e53",
            "value": 63
          }
        },
        "89431bdbe7ba492cb2e39028bb9e830f": {
          "model_module": "@jupyter-widgets/controls",
          "model_name": "HTMLModel",
          "state": {
            "_dom_classes": [],
            "_model_module": "@jupyter-widgets/controls",
            "_model_module_version": "1.5.0",
            "_model_name": "HTMLModel",
            "_view_count": null,
            "_view_module": "@jupyter-widgets/controls",
            "_view_module_version": "1.5.0",
            "_view_name": "HTMLView",
            "description": "",
            "description_tooltip": null,
            "layout": "IPY_MODEL_cefdb3be0ed045c980b9779bf0dd29f6",
            "placeholder": "​",
            "style": "IPY_MODEL_86015221ec7943b3a7d6f44e85546058",
            "value": " 63/63 [00:55&lt;00:00,  1.13ba/s]"
          }
        },
        "a72b9c3094d3464c9a8e947a16145e53": {
          "model_module": "@jupyter-widgets/controls",
          "model_name": "ProgressStyleModel",
          "state": {
            "_model_module": "@jupyter-widgets/controls",
            "_model_module_version": "1.5.0",
            "_model_name": "ProgressStyleModel",
            "_view_count": null,
            "_view_module": "@jupyter-widgets/base",
            "_view_module_version": "1.2.0",
            "_view_name": "StyleView",
            "bar_color": null,
            "description_width": "initial"
          }
        },
        "69b8bff825994222bd7df71f26237c8a": {
          "model_module": "@jupyter-widgets/base",
          "model_name": "LayoutModel",
          "state": {
            "_model_module": "@jupyter-widgets/base",
            "_model_module_version": "1.2.0",
            "_model_name": "LayoutModel",
            "_view_count": null,
            "_view_module": "@jupyter-widgets/base",
            "_view_module_version": "1.2.0",
            "_view_name": "LayoutView",
            "align_content": null,
            "align_items": null,
            "align_self": null,
            "border": null,
            "bottom": null,
            "display": null,
            "flex": null,
            "flex_flow": null,
            "grid_area": null,
            "grid_auto_columns": null,
            "grid_auto_flow": null,
            "grid_auto_rows": null,
            "grid_column": null,
            "grid_gap": null,
            "grid_row": null,
            "grid_template_areas": null,
            "grid_template_columns": null,
            "grid_template_rows": null,
            "height": null,
            "justify_content": null,
            "justify_items": null,
            "left": null,
            "margin": null,
            "max_height": null,
            "max_width": null,
            "min_height": null,
            "min_width": null,
            "object_fit": null,
            "object_position": null,
            "order": null,
            "overflow": null,
            "overflow_x": null,
            "overflow_y": null,
            "padding": null,
            "right": null,
            "top": null,
            "visibility": null,
            "width": null
          }
        },
        "86015221ec7943b3a7d6f44e85546058": {
          "model_module": "@jupyter-widgets/controls",
          "model_name": "DescriptionStyleModel",
          "state": {
            "_model_module": "@jupyter-widgets/controls",
            "_model_module_version": "1.5.0",
            "_model_name": "DescriptionStyleModel",
            "_view_count": null,
            "_view_module": "@jupyter-widgets/base",
            "_view_module_version": "1.2.0",
            "_view_name": "StyleView",
            "description_width": ""
          }
        },
        "cefdb3be0ed045c980b9779bf0dd29f6": {
          "model_module": "@jupyter-widgets/base",
          "model_name": "LayoutModel",
          "state": {
            "_model_module": "@jupyter-widgets/base",
            "_model_module_version": "1.2.0",
            "_model_name": "LayoutModel",
            "_view_count": null,
            "_view_module": "@jupyter-widgets/base",
            "_view_module_version": "1.2.0",
            "_view_name": "LayoutView",
            "align_content": null,
            "align_items": null,
            "align_self": null,
            "border": null,
            "bottom": null,
            "display": null,
            "flex": null,
            "flex_flow": null,
            "grid_area": null,
            "grid_auto_columns": null,
            "grid_auto_flow": null,
            "grid_auto_rows": null,
            "grid_column": null,
            "grid_gap": null,
            "grid_row": null,
            "grid_template_areas": null,
            "grid_template_columns": null,
            "grid_template_rows": null,
            "height": null,
            "justify_content": null,
            "justify_items": null,
            "left": null,
            "margin": null,
            "max_height": null,
            "max_width": null,
            "min_height": null,
            "min_width": null,
            "object_fit": null,
            "object_position": null,
            "order": null,
            "overflow": null,
            "overflow_x": null,
            "overflow_y": null,
            "padding": null,
            "right": null,
            "top": null,
            "visibility": null,
            "width": null
          }
        },
        "948aa82879f042338f4c07feb500a584": {
          "model_module": "@jupyter-widgets/controls",
          "model_name": "HBoxModel",
          "state": {
            "_dom_classes": [],
            "_model_module": "@jupyter-widgets/controls",
            "_model_module_version": "1.5.0",
            "_model_name": "HBoxModel",
            "_view_count": null,
            "_view_module": "@jupyter-widgets/controls",
            "_view_module_version": "1.5.0",
            "_view_name": "HBoxView",
            "box_style": "",
            "children": [
              "IPY_MODEL_6c73acfe455244fe91b2b8178482d27d",
              "IPY_MODEL_e0005a517fa342c19906064358726c5c"
            ],
            "layout": "IPY_MODEL_71f3533ced3e48749fab355f5ccf38c1"
          }
        },
        "71f3533ced3e48749fab355f5ccf38c1": {
          "model_module": "@jupyter-widgets/base",
          "model_name": "LayoutModel",
          "state": {
            "_model_module": "@jupyter-widgets/base",
            "_model_module_version": "1.2.0",
            "_model_name": "LayoutModel",
            "_view_count": null,
            "_view_module": "@jupyter-widgets/base",
            "_view_module_version": "1.2.0",
            "_view_name": "LayoutView",
            "align_content": null,
            "align_items": null,
            "align_self": null,
            "border": null,
            "bottom": null,
            "display": null,
            "flex": null,
            "flex_flow": null,
            "grid_area": null,
            "grid_auto_columns": null,
            "grid_auto_flow": null,
            "grid_auto_rows": null,
            "grid_column": null,
            "grid_gap": null,
            "grid_row": null,
            "grid_template_areas": null,
            "grid_template_columns": null,
            "grid_template_rows": null,
            "height": null,
            "justify_content": null,
            "justify_items": null,
            "left": null,
            "margin": null,
            "max_height": null,
            "max_width": null,
            "min_height": null,
            "min_width": null,
            "object_fit": null,
            "object_position": null,
            "order": null,
            "overflow": null,
            "overflow_x": null,
            "overflow_y": null,
            "padding": null,
            "right": null,
            "top": null,
            "visibility": null,
            "width": null
          }
        },
        "6c73acfe455244fe91b2b8178482d27d": {
          "model_module": "@jupyter-widgets/controls",
          "model_name": "FloatProgressModel",
          "state": {
            "_dom_classes": [],
            "_model_module": "@jupyter-widgets/controls",
            "_model_module_version": "1.5.0",
            "_model_name": "FloatProgressModel",
            "_view_count": null,
            "_view_module": "@jupyter-widgets/controls",
            "_view_module_version": "1.5.0",
            "_view_name": "ProgressView",
            "bar_style": "success",
            "description": "#2: 100%",
            "description_tooltip": null,
            "layout": "IPY_MODEL_a333808d0d1c46f486a9ea0473930f1e",
            "max": 63,
            "min": 0,
            "orientation": "horizontal",
            "style": "IPY_MODEL_3794dc502d1a4c8bb2d7ce1762e57a25",
            "value": 63
          }
        },
        "e0005a517fa342c19906064358726c5c": {
          "model_module": "@jupyter-widgets/controls",
          "model_name": "HTMLModel",
          "state": {
            "_dom_classes": [],
            "_model_module": "@jupyter-widgets/controls",
            "_model_module_version": "1.5.0",
            "_model_name": "HTMLModel",
            "_view_count": null,
            "_view_module": "@jupyter-widgets/controls",
            "_view_module_version": "1.5.0",
            "_view_name": "HTMLView",
            "description": "",
            "description_tooltip": null,
            "layout": "IPY_MODEL_edc639c0d3ad4dcda3b12d86ec84f6a2",
            "placeholder": "​",
            "style": "IPY_MODEL_9b40a980b8fd4ec59bf2e92e87b6d7c3",
            "value": " 63/63 [00:55&lt;00:00,  1.14ba/s]"
          }
        },
        "3794dc502d1a4c8bb2d7ce1762e57a25": {
          "model_module": "@jupyter-widgets/controls",
          "model_name": "ProgressStyleModel",
          "state": {
            "_model_module": "@jupyter-widgets/controls",
            "_model_module_version": "1.5.0",
            "_model_name": "ProgressStyleModel",
            "_view_count": null,
            "_view_module": "@jupyter-widgets/base",
            "_view_module_version": "1.2.0",
            "_view_name": "StyleView",
            "bar_color": null,
            "description_width": "initial"
          }
        },
        "a333808d0d1c46f486a9ea0473930f1e": {
          "model_module": "@jupyter-widgets/base",
          "model_name": "LayoutModel",
          "state": {
            "_model_module": "@jupyter-widgets/base",
            "_model_module_version": "1.2.0",
            "_model_name": "LayoutModel",
            "_view_count": null,
            "_view_module": "@jupyter-widgets/base",
            "_view_module_version": "1.2.0",
            "_view_name": "LayoutView",
            "align_content": null,
            "align_items": null,
            "align_self": null,
            "border": null,
            "bottom": null,
            "display": null,
            "flex": null,
            "flex_flow": null,
            "grid_area": null,
            "grid_auto_columns": null,
            "grid_auto_flow": null,
            "grid_auto_rows": null,
            "grid_column": null,
            "grid_gap": null,
            "grid_row": null,
            "grid_template_areas": null,
            "grid_template_columns": null,
            "grid_template_rows": null,
            "height": null,
            "justify_content": null,
            "justify_items": null,
            "left": null,
            "margin": null,
            "max_height": null,
            "max_width": null,
            "min_height": null,
            "min_width": null,
            "object_fit": null,
            "object_position": null,
            "order": null,
            "overflow": null,
            "overflow_x": null,
            "overflow_y": null,
            "padding": null,
            "right": null,
            "top": null,
            "visibility": null,
            "width": null
          }
        },
        "9b40a980b8fd4ec59bf2e92e87b6d7c3": {
          "model_module": "@jupyter-widgets/controls",
          "model_name": "DescriptionStyleModel",
          "state": {
            "_model_module": "@jupyter-widgets/controls",
            "_model_module_version": "1.5.0",
            "_model_name": "DescriptionStyleModel",
            "_view_count": null,
            "_view_module": "@jupyter-widgets/base",
            "_view_module_version": "1.2.0",
            "_view_name": "StyleView",
            "description_width": ""
          }
        },
        "edc639c0d3ad4dcda3b12d86ec84f6a2": {
          "model_module": "@jupyter-widgets/base",
          "model_name": "LayoutModel",
          "state": {
            "_model_module": "@jupyter-widgets/base",
            "_model_module_version": "1.2.0",
            "_model_name": "LayoutModel",
            "_view_count": null,
            "_view_module": "@jupyter-widgets/base",
            "_view_module_version": "1.2.0",
            "_view_name": "LayoutView",
            "align_content": null,
            "align_items": null,
            "align_self": null,
            "border": null,
            "bottom": null,
            "display": null,
            "flex": null,
            "flex_flow": null,
            "grid_area": null,
            "grid_auto_columns": null,
            "grid_auto_flow": null,
            "grid_auto_rows": null,
            "grid_column": null,
            "grid_gap": null,
            "grid_row": null,
            "grid_template_areas": null,
            "grid_template_columns": null,
            "grid_template_rows": null,
            "height": null,
            "justify_content": null,
            "justify_items": null,
            "left": null,
            "margin": null,
            "max_height": null,
            "max_width": null,
            "min_height": null,
            "min_width": null,
            "object_fit": null,
            "object_position": null,
            "order": null,
            "overflow": null,
            "overflow_x": null,
            "overflow_y": null,
            "padding": null,
            "right": null,
            "top": null,
            "visibility": null,
            "width": null
          }
        },
        "fbbf1e08f1ae40d5b82f33f12a458583": {
          "model_module": "@jupyter-widgets/controls",
          "model_name": "HBoxModel",
          "state": {
            "_dom_classes": [],
            "_model_module": "@jupyter-widgets/controls",
            "_model_module_version": "1.5.0",
            "_model_name": "HBoxModel",
            "_view_count": null,
            "_view_module": "@jupyter-widgets/controls",
            "_view_module_version": "1.5.0",
            "_view_name": "HBoxView",
            "box_style": "",
            "children": [
              "IPY_MODEL_ee4b3b762a274e1e841043873cfb0d18",
              "IPY_MODEL_4adbd91e1f85426f9ceaac279ac1fea5"
            ],
            "layout": "IPY_MODEL_f566f3d4f2ae4bd0aa3d575fe49723a8"
          }
        },
        "f566f3d4f2ae4bd0aa3d575fe49723a8": {
          "model_module": "@jupyter-widgets/base",
          "model_name": "LayoutModel",
          "state": {
            "_model_module": "@jupyter-widgets/base",
            "_model_module_version": "1.2.0",
            "_model_name": "LayoutModel",
            "_view_count": null,
            "_view_module": "@jupyter-widgets/base",
            "_view_module_version": "1.2.0",
            "_view_name": "LayoutView",
            "align_content": null,
            "align_items": null,
            "align_self": null,
            "border": null,
            "bottom": null,
            "display": null,
            "flex": null,
            "flex_flow": null,
            "grid_area": null,
            "grid_auto_columns": null,
            "grid_auto_flow": null,
            "grid_auto_rows": null,
            "grid_column": null,
            "grid_gap": null,
            "grid_row": null,
            "grid_template_areas": null,
            "grid_template_columns": null,
            "grid_template_rows": null,
            "height": null,
            "justify_content": null,
            "justify_items": null,
            "left": null,
            "margin": null,
            "max_height": null,
            "max_width": null,
            "min_height": null,
            "min_width": null,
            "object_fit": null,
            "object_position": null,
            "order": null,
            "overflow": null,
            "overflow_x": null,
            "overflow_y": null,
            "padding": null,
            "right": null,
            "top": null,
            "visibility": null,
            "width": null
          }
        },
        "ee4b3b762a274e1e841043873cfb0d18": {
          "model_module": "@jupyter-widgets/controls",
          "model_name": "FloatProgressModel",
          "state": {
            "_dom_classes": [],
            "_model_module": "@jupyter-widgets/controls",
            "_model_module_version": "1.5.0",
            "_model_name": "FloatProgressModel",
            "_view_count": null,
            "_view_module": "@jupyter-widgets/controls",
            "_view_module_version": "1.5.0",
            "_view_name": "ProgressView",
            "bar_style": "success",
            "description": "#3: 100%",
            "description_tooltip": null,
            "layout": "IPY_MODEL_50b20d4d2b4943a191a0236763366852",
            "max": 63,
            "min": 0,
            "orientation": "horizontal",
            "style": "IPY_MODEL_10cfb1711975464aa09f6fa0192f9278",
            "value": 63
          }
        },
        "4adbd91e1f85426f9ceaac279ac1fea5": {
          "model_module": "@jupyter-widgets/controls",
          "model_name": "HTMLModel",
          "state": {
            "_dom_classes": [],
            "_model_module": "@jupyter-widgets/controls",
            "_model_module_version": "1.5.0",
            "_model_name": "HTMLModel",
            "_view_count": null,
            "_view_module": "@jupyter-widgets/controls",
            "_view_module_version": "1.5.0",
            "_view_name": "HTMLView",
            "description": "",
            "description_tooltip": null,
            "layout": "IPY_MODEL_35434181ad8a4542a994beff2baee3e2",
            "placeholder": "​",
            "style": "IPY_MODEL_c1c057fd35fd472fb5b966acbb896d92",
            "value": " 63/63 [00:51&lt;00:00,  1.22ba/s]"
          }
        },
        "10cfb1711975464aa09f6fa0192f9278": {
          "model_module": "@jupyter-widgets/controls",
          "model_name": "ProgressStyleModel",
          "state": {
            "_model_module": "@jupyter-widgets/controls",
            "_model_module_version": "1.5.0",
            "_model_name": "ProgressStyleModel",
            "_view_count": null,
            "_view_module": "@jupyter-widgets/base",
            "_view_module_version": "1.2.0",
            "_view_name": "StyleView",
            "bar_color": null,
            "description_width": "initial"
          }
        },
        "50b20d4d2b4943a191a0236763366852": {
          "model_module": "@jupyter-widgets/base",
          "model_name": "LayoutModel",
          "state": {
            "_model_module": "@jupyter-widgets/base",
            "_model_module_version": "1.2.0",
            "_model_name": "LayoutModel",
            "_view_count": null,
            "_view_module": "@jupyter-widgets/base",
            "_view_module_version": "1.2.0",
            "_view_name": "LayoutView",
            "align_content": null,
            "align_items": null,
            "align_self": null,
            "border": null,
            "bottom": null,
            "display": null,
            "flex": null,
            "flex_flow": null,
            "grid_area": null,
            "grid_auto_columns": null,
            "grid_auto_flow": null,
            "grid_auto_rows": null,
            "grid_column": null,
            "grid_gap": null,
            "grid_row": null,
            "grid_template_areas": null,
            "grid_template_columns": null,
            "grid_template_rows": null,
            "height": null,
            "justify_content": null,
            "justify_items": null,
            "left": null,
            "margin": null,
            "max_height": null,
            "max_width": null,
            "min_height": null,
            "min_width": null,
            "object_fit": null,
            "object_position": null,
            "order": null,
            "overflow": null,
            "overflow_x": null,
            "overflow_y": null,
            "padding": null,
            "right": null,
            "top": null,
            "visibility": null,
            "width": null
          }
        },
        "c1c057fd35fd472fb5b966acbb896d92": {
          "model_module": "@jupyter-widgets/controls",
          "model_name": "DescriptionStyleModel",
          "state": {
            "_model_module": "@jupyter-widgets/controls",
            "_model_module_version": "1.5.0",
            "_model_name": "DescriptionStyleModel",
            "_view_count": null,
            "_view_module": "@jupyter-widgets/base",
            "_view_module_version": "1.2.0",
            "_view_name": "StyleView",
            "description_width": ""
          }
        },
        "35434181ad8a4542a994beff2baee3e2": {
          "model_module": "@jupyter-widgets/base",
          "model_name": "LayoutModel",
          "state": {
            "_model_module": "@jupyter-widgets/base",
            "_model_module_version": "1.2.0",
            "_model_name": "LayoutModel",
            "_view_count": null,
            "_view_module": "@jupyter-widgets/base",
            "_view_module_version": "1.2.0",
            "_view_name": "LayoutView",
            "align_content": null,
            "align_items": null,
            "align_self": null,
            "border": null,
            "bottom": null,
            "display": null,
            "flex": null,
            "flex_flow": null,
            "grid_area": null,
            "grid_auto_columns": null,
            "grid_auto_flow": null,
            "grid_auto_rows": null,
            "grid_column": null,
            "grid_gap": null,
            "grid_row": null,
            "grid_template_areas": null,
            "grid_template_columns": null,
            "grid_template_rows": null,
            "height": null,
            "justify_content": null,
            "justify_items": null,
            "left": null,
            "margin": null,
            "max_height": null,
            "max_width": null,
            "min_height": null,
            "min_width": null,
            "object_fit": null,
            "object_position": null,
            "order": null,
            "overflow": null,
            "overflow_x": null,
            "overflow_y": null,
            "padding": null,
            "right": null,
            "top": null,
            "visibility": null,
            "width": null
          }
        },
        "f16d95f63adb4b9cad1fb2efbd05e722": {
          "model_module": "@jupyter-widgets/controls",
          "model_name": "HBoxModel",
          "state": {
            "_dom_classes": [],
            "_model_module": "@jupyter-widgets/controls",
            "_model_module_version": "1.5.0",
            "_model_name": "HBoxModel",
            "_view_count": null,
            "_view_module": "@jupyter-widgets/controls",
            "_view_module_version": "1.5.0",
            "_view_name": "HBoxView",
            "box_style": "",
            "children": [
              "IPY_MODEL_4bf549dcd9f04bff8a8e901a535022f6",
              "IPY_MODEL_0895a15a2fa8450d9afa46fac91ad157"
            ],
            "layout": "IPY_MODEL_47d14cf8a0d84c18a236590e1544ba1e"
          }
        },
        "47d14cf8a0d84c18a236590e1544ba1e": {
          "model_module": "@jupyter-widgets/base",
          "model_name": "LayoutModel",
          "state": {
            "_model_module": "@jupyter-widgets/base",
            "_model_module_version": "1.2.0",
            "_model_name": "LayoutModel",
            "_view_count": null,
            "_view_module": "@jupyter-widgets/base",
            "_view_module_version": "1.2.0",
            "_view_name": "LayoutView",
            "align_content": null,
            "align_items": null,
            "align_self": null,
            "border": null,
            "bottom": null,
            "display": null,
            "flex": null,
            "flex_flow": null,
            "grid_area": null,
            "grid_auto_columns": null,
            "grid_auto_flow": null,
            "grid_auto_rows": null,
            "grid_column": null,
            "grid_gap": null,
            "grid_row": null,
            "grid_template_areas": null,
            "grid_template_columns": null,
            "grid_template_rows": null,
            "height": null,
            "justify_content": null,
            "justify_items": null,
            "left": null,
            "margin": null,
            "max_height": null,
            "max_width": null,
            "min_height": null,
            "min_width": null,
            "object_fit": null,
            "object_position": null,
            "order": null,
            "overflow": null,
            "overflow_x": null,
            "overflow_y": null,
            "padding": null,
            "right": null,
            "top": null,
            "visibility": null,
            "width": null
          }
        },
        "4bf549dcd9f04bff8a8e901a535022f6": {
          "model_module": "@jupyter-widgets/controls",
          "model_name": "FloatProgressModel",
          "state": {
            "_dom_classes": [],
            "_model_module": "@jupyter-widgets/controls",
            "_model_module_version": "1.5.0",
            "_model_name": "FloatProgressModel",
            "_view_count": null,
            "_view_module": "@jupyter-widgets/controls",
            "_view_module_version": "1.5.0",
            "_view_name": "ProgressView",
            "bar_style": "success",
            "description": "#0: 100%",
            "description_tooltip": null,
            "layout": "IPY_MODEL_5b66d8cc01704072a472b1f83cd8db67",
            "max": 7,
            "min": 0,
            "orientation": "horizontal",
            "style": "IPY_MODEL_b8f367a049754f7eb06c363611dbb1d3",
            "value": 7
          }
        },
        "0895a15a2fa8450d9afa46fac91ad157": {
          "model_module": "@jupyter-widgets/controls",
          "model_name": "HTMLModel",
          "state": {
            "_dom_classes": [],
            "_model_module": "@jupyter-widgets/controls",
            "_model_module_version": "1.5.0",
            "_model_name": "HTMLModel",
            "_view_count": null,
            "_view_module": "@jupyter-widgets/controls",
            "_view_module_version": "1.5.0",
            "_view_name": "HTMLView",
            "description": "",
            "description_tooltip": null,
            "layout": "IPY_MODEL_124becd965b54790852c04418cf9c47d",
            "placeholder": "​",
            "style": "IPY_MODEL_24caeee96a544f3ab50e119c02334db8",
            "value": " 7/7 [00:06&lt;00:00,  1.16ba/s]"
          }
        },
        "b8f367a049754f7eb06c363611dbb1d3": {
          "model_module": "@jupyter-widgets/controls",
          "model_name": "ProgressStyleModel",
          "state": {
            "_model_module": "@jupyter-widgets/controls",
            "_model_module_version": "1.5.0",
            "_model_name": "ProgressStyleModel",
            "_view_count": null,
            "_view_module": "@jupyter-widgets/base",
            "_view_module_version": "1.2.0",
            "_view_name": "StyleView",
            "bar_color": null,
            "description_width": "initial"
          }
        },
        "5b66d8cc01704072a472b1f83cd8db67": {
          "model_module": "@jupyter-widgets/base",
          "model_name": "LayoutModel",
          "state": {
            "_model_module": "@jupyter-widgets/base",
            "_model_module_version": "1.2.0",
            "_model_name": "LayoutModel",
            "_view_count": null,
            "_view_module": "@jupyter-widgets/base",
            "_view_module_version": "1.2.0",
            "_view_name": "LayoutView",
            "align_content": null,
            "align_items": null,
            "align_self": null,
            "border": null,
            "bottom": null,
            "display": null,
            "flex": null,
            "flex_flow": null,
            "grid_area": null,
            "grid_auto_columns": null,
            "grid_auto_flow": null,
            "grid_auto_rows": null,
            "grid_column": null,
            "grid_gap": null,
            "grid_row": null,
            "grid_template_areas": null,
            "grid_template_columns": null,
            "grid_template_rows": null,
            "height": null,
            "justify_content": null,
            "justify_items": null,
            "left": null,
            "margin": null,
            "max_height": null,
            "max_width": null,
            "min_height": null,
            "min_width": null,
            "object_fit": null,
            "object_position": null,
            "order": null,
            "overflow": null,
            "overflow_x": null,
            "overflow_y": null,
            "padding": null,
            "right": null,
            "top": null,
            "visibility": null,
            "width": null
          }
        },
        "24caeee96a544f3ab50e119c02334db8": {
          "model_module": "@jupyter-widgets/controls",
          "model_name": "DescriptionStyleModel",
          "state": {
            "_model_module": "@jupyter-widgets/controls",
            "_model_module_version": "1.5.0",
            "_model_name": "DescriptionStyleModel",
            "_view_count": null,
            "_view_module": "@jupyter-widgets/base",
            "_view_module_version": "1.2.0",
            "_view_name": "StyleView",
            "description_width": ""
          }
        },
        "124becd965b54790852c04418cf9c47d": {
          "model_module": "@jupyter-widgets/base",
          "model_name": "LayoutModel",
          "state": {
            "_model_module": "@jupyter-widgets/base",
            "_model_module_version": "1.2.0",
            "_model_name": "LayoutModel",
            "_view_count": null,
            "_view_module": "@jupyter-widgets/base",
            "_view_module_version": "1.2.0",
            "_view_name": "LayoutView",
            "align_content": null,
            "align_items": null,
            "align_self": null,
            "border": null,
            "bottom": null,
            "display": null,
            "flex": null,
            "flex_flow": null,
            "grid_area": null,
            "grid_auto_columns": null,
            "grid_auto_flow": null,
            "grid_auto_rows": null,
            "grid_column": null,
            "grid_gap": null,
            "grid_row": null,
            "grid_template_areas": null,
            "grid_template_columns": null,
            "grid_template_rows": null,
            "height": null,
            "justify_content": null,
            "justify_items": null,
            "left": null,
            "margin": null,
            "max_height": null,
            "max_width": null,
            "min_height": null,
            "min_width": null,
            "object_fit": null,
            "object_position": null,
            "order": null,
            "overflow": null,
            "overflow_x": null,
            "overflow_y": null,
            "padding": null,
            "right": null,
            "top": null,
            "visibility": null,
            "width": null
          }
        },
        "1d47e1c232034d348de81f29bcfa234e": {
          "model_module": "@jupyter-widgets/controls",
          "model_name": "HBoxModel",
          "state": {
            "_dom_classes": [],
            "_model_module": "@jupyter-widgets/controls",
            "_model_module_version": "1.5.0",
            "_model_name": "HBoxModel",
            "_view_count": null,
            "_view_module": "@jupyter-widgets/controls",
            "_view_module_version": "1.5.0",
            "_view_name": "HBoxView",
            "box_style": "",
            "children": [
              "IPY_MODEL_5e06b2507735479c893320a88afe557e",
              "IPY_MODEL_b05c74be932d4ecabfbb869c61e37535"
            ],
            "layout": "IPY_MODEL_df730e3e78354bdb8c46791afd6ff3d5"
          }
        },
        "df730e3e78354bdb8c46791afd6ff3d5": {
          "model_module": "@jupyter-widgets/base",
          "model_name": "LayoutModel",
          "state": {
            "_model_module": "@jupyter-widgets/base",
            "_model_module_version": "1.2.0",
            "_model_name": "LayoutModel",
            "_view_count": null,
            "_view_module": "@jupyter-widgets/base",
            "_view_module_version": "1.2.0",
            "_view_name": "LayoutView",
            "align_content": null,
            "align_items": null,
            "align_self": null,
            "border": null,
            "bottom": null,
            "display": null,
            "flex": null,
            "flex_flow": null,
            "grid_area": null,
            "grid_auto_columns": null,
            "grid_auto_flow": null,
            "grid_auto_rows": null,
            "grid_column": null,
            "grid_gap": null,
            "grid_row": null,
            "grid_template_areas": null,
            "grid_template_columns": null,
            "grid_template_rows": null,
            "height": null,
            "justify_content": null,
            "justify_items": null,
            "left": null,
            "margin": null,
            "max_height": null,
            "max_width": null,
            "min_height": null,
            "min_width": null,
            "object_fit": null,
            "object_position": null,
            "order": null,
            "overflow": null,
            "overflow_x": null,
            "overflow_y": null,
            "padding": null,
            "right": null,
            "top": null,
            "visibility": null,
            "width": null
          }
        },
        "5e06b2507735479c893320a88afe557e": {
          "model_module": "@jupyter-widgets/controls",
          "model_name": "FloatProgressModel",
          "state": {
            "_dom_classes": [],
            "_model_module": "@jupyter-widgets/controls",
            "_model_module_version": "1.5.0",
            "_model_name": "FloatProgressModel",
            "_view_count": null,
            "_view_module": "@jupyter-widgets/controls",
            "_view_module_version": "1.5.0",
            "_view_name": "ProgressView",
            "bar_style": "success",
            "description": "#1: 100%",
            "description_tooltip": null,
            "layout": "IPY_MODEL_95d2dcd07f7f4153909c781296d97ace",
            "max": 7,
            "min": 0,
            "orientation": "horizontal",
            "style": "IPY_MODEL_a125940e73734d1ea6b12b073978ff35",
            "value": 7
          }
        },
        "b05c74be932d4ecabfbb869c61e37535": {
          "model_module": "@jupyter-widgets/controls",
          "model_name": "HTMLModel",
          "state": {
            "_dom_classes": [],
            "_model_module": "@jupyter-widgets/controls",
            "_model_module_version": "1.5.0",
            "_model_name": "HTMLModel",
            "_view_count": null,
            "_view_module": "@jupyter-widgets/controls",
            "_view_module_version": "1.5.0",
            "_view_name": "HTMLView",
            "description": "",
            "description_tooltip": null,
            "layout": "IPY_MODEL_bd07faa6564c4c1a97050f15cde37227",
            "placeholder": "​",
            "style": "IPY_MODEL_969d4d5b34dd40ffb3a50109fcf24d7a",
            "value": " 7/7 [00:06&lt;00:00,  1.06ba/s]"
          }
        },
        "a125940e73734d1ea6b12b073978ff35": {
          "model_module": "@jupyter-widgets/controls",
          "model_name": "ProgressStyleModel",
          "state": {
            "_model_module": "@jupyter-widgets/controls",
            "_model_module_version": "1.5.0",
            "_model_name": "ProgressStyleModel",
            "_view_count": null,
            "_view_module": "@jupyter-widgets/base",
            "_view_module_version": "1.2.0",
            "_view_name": "StyleView",
            "bar_color": null,
            "description_width": "initial"
          }
        },
        "95d2dcd07f7f4153909c781296d97ace": {
          "model_module": "@jupyter-widgets/base",
          "model_name": "LayoutModel",
          "state": {
            "_model_module": "@jupyter-widgets/base",
            "_model_module_version": "1.2.0",
            "_model_name": "LayoutModel",
            "_view_count": null,
            "_view_module": "@jupyter-widgets/base",
            "_view_module_version": "1.2.0",
            "_view_name": "LayoutView",
            "align_content": null,
            "align_items": null,
            "align_self": null,
            "border": null,
            "bottom": null,
            "display": null,
            "flex": null,
            "flex_flow": null,
            "grid_area": null,
            "grid_auto_columns": null,
            "grid_auto_flow": null,
            "grid_auto_rows": null,
            "grid_column": null,
            "grid_gap": null,
            "grid_row": null,
            "grid_template_areas": null,
            "grid_template_columns": null,
            "grid_template_rows": null,
            "height": null,
            "justify_content": null,
            "justify_items": null,
            "left": null,
            "margin": null,
            "max_height": null,
            "max_width": null,
            "min_height": null,
            "min_width": null,
            "object_fit": null,
            "object_position": null,
            "order": null,
            "overflow": null,
            "overflow_x": null,
            "overflow_y": null,
            "padding": null,
            "right": null,
            "top": null,
            "visibility": null,
            "width": null
          }
        },
        "969d4d5b34dd40ffb3a50109fcf24d7a": {
          "model_module": "@jupyter-widgets/controls",
          "model_name": "DescriptionStyleModel",
          "state": {
            "_model_module": "@jupyter-widgets/controls",
            "_model_module_version": "1.5.0",
            "_model_name": "DescriptionStyleModel",
            "_view_count": null,
            "_view_module": "@jupyter-widgets/base",
            "_view_module_version": "1.2.0",
            "_view_name": "StyleView",
            "description_width": ""
          }
        },
        "bd07faa6564c4c1a97050f15cde37227": {
          "model_module": "@jupyter-widgets/base",
          "model_name": "LayoutModel",
          "state": {
            "_model_module": "@jupyter-widgets/base",
            "_model_module_version": "1.2.0",
            "_model_name": "LayoutModel",
            "_view_count": null,
            "_view_module": "@jupyter-widgets/base",
            "_view_module_version": "1.2.0",
            "_view_name": "LayoutView",
            "align_content": null,
            "align_items": null,
            "align_self": null,
            "border": null,
            "bottom": null,
            "display": null,
            "flex": null,
            "flex_flow": null,
            "grid_area": null,
            "grid_auto_columns": null,
            "grid_auto_flow": null,
            "grid_auto_rows": null,
            "grid_column": null,
            "grid_gap": null,
            "grid_row": null,
            "grid_template_areas": null,
            "grid_template_columns": null,
            "grid_template_rows": null,
            "height": null,
            "justify_content": null,
            "justify_items": null,
            "left": null,
            "margin": null,
            "max_height": null,
            "max_width": null,
            "min_height": null,
            "min_width": null,
            "object_fit": null,
            "object_position": null,
            "order": null,
            "overflow": null,
            "overflow_x": null,
            "overflow_y": null,
            "padding": null,
            "right": null,
            "top": null,
            "visibility": null,
            "width": null
          }
        },
        "b910512c35a44597bf997b3e31a2f6d6": {
          "model_module": "@jupyter-widgets/controls",
          "model_name": "HBoxModel",
          "state": {
            "_dom_classes": [],
            "_model_module": "@jupyter-widgets/controls",
            "_model_module_version": "1.5.0",
            "_model_name": "HBoxModel",
            "_view_count": null,
            "_view_module": "@jupyter-widgets/controls",
            "_view_module_version": "1.5.0",
            "_view_name": "HBoxView",
            "box_style": "",
            "children": [
              "IPY_MODEL_4e3e124fdc2f4ed99ff104fb78c60c2c",
              "IPY_MODEL_6a71a4219afb46be89721dac6b80b44f"
            ],
            "layout": "IPY_MODEL_42102cec351a45d8aa8b497891090a3e"
          }
        },
        "42102cec351a45d8aa8b497891090a3e": {
          "model_module": "@jupyter-widgets/base",
          "model_name": "LayoutModel",
          "state": {
            "_model_module": "@jupyter-widgets/base",
            "_model_module_version": "1.2.0",
            "_model_name": "LayoutModel",
            "_view_count": null,
            "_view_module": "@jupyter-widgets/base",
            "_view_module_version": "1.2.0",
            "_view_name": "LayoutView",
            "align_content": null,
            "align_items": null,
            "align_self": null,
            "border": null,
            "bottom": null,
            "display": null,
            "flex": null,
            "flex_flow": null,
            "grid_area": null,
            "grid_auto_columns": null,
            "grid_auto_flow": null,
            "grid_auto_rows": null,
            "grid_column": null,
            "grid_gap": null,
            "grid_row": null,
            "grid_template_areas": null,
            "grid_template_columns": null,
            "grid_template_rows": null,
            "height": null,
            "justify_content": null,
            "justify_items": null,
            "left": null,
            "margin": null,
            "max_height": null,
            "max_width": null,
            "min_height": null,
            "min_width": null,
            "object_fit": null,
            "object_position": null,
            "order": null,
            "overflow": null,
            "overflow_x": null,
            "overflow_y": null,
            "padding": null,
            "right": null,
            "top": null,
            "visibility": null,
            "width": null
          }
        },
        "4e3e124fdc2f4ed99ff104fb78c60c2c": {
          "model_module": "@jupyter-widgets/controls",
          "model_name": "FloatProgressModel",
          "state": {
            "_dom_classes": [],
            "_model_module": "@jupyter-widgets/controls",
            "_model_module_version": "1.5.0",
            "_model_name": "FloatProgressModel",
            "_view_count": null,
            "_view_module": "@jupyter-widgets/controls",
            "_view_module_version": "1.5.0",
            "_view_name": "ProgressView",
            "bar_style": "success",
            "description": "#2: 100%",
            "description_tooltip": null,
            "layout": "IPY_MODEL_00784741fac442eb91ff153caa738516",
            "max": 7,
            "min": 0,
            "orientation": "horizontal",
            "style": "IPY_MODEL_4c444c7392934f15b3f4378a452659e0",
            "value": 7
          }
        },
        "6a71a4219afb46be89721dac6b80b44f": {
          "model_module": "@jupyter-widgets/controls",
          "model_name": "HTMLModel",
          "state": {
            "_dom_classes": [],
            "_model_module": "@jupyter-widgets/controls",
            "_model_module_version": "1.5.0",
            "_model_name": "HTMLModel",
            "_view_count": null,
            "_view_module": "@jupyter-widgets/controls",
            "_view_module_version": "1.5.0",
            "_view_name": "HTMLView",
            "description": "",
            "description_tooltip": null,
            "layout": "IPY_MODEL_e04deb3303c1443e97fb9381af97a4c0",
            "placeholder": "​",
            "style": "IPY_MODEL_6f49d2cb8fb24169b7ee966e7ec745a4",
            "value": " 7/7 [00:05&lt;00:00,  1.17ba/s]"
          }
        },
        "4c444c7392934f15b3f4378a452659e0": {
          "model_module": "@jupyter-widgets/controls",
          "model_name": "ProgressStyleModel",
          "state": {
            "_model_module": "@jupyter-widgets/controls",
            "_model_module_version": "1.5.0",
            "_model_name": "ProgressStyleModel",
            "_view_count": null,
            "_view_module": "@jupyter-widgets/base",
            "_view_module_version": "1.2.0",
            "_view_name": "StyleView",
            "bar_color": null,
            "description_width": "initial"
          }
        },
        "00784741fac442eb91ff153caa738516": {
          "model_module": "@jupyter-widgets/base",
          "model_name": "LayoutModel",
          "state": {
            "_model_module": "@jupyter-widgets/base",
            "_model_module_version": "1.2.0",
            "_model_name": "LayoutModel",
            "_view_count": null,
            "_view_module": "@jupyter-widgets/base",
            "_view_module_version": "1.2.0",
            "_view_name": "LayoutView",
            "align_content": null,
            "align_items": null,
            "align_self": null,
            "border": null,
            "bottom": null,
            "display": null,
            "flex": null,
            "flex_flow": null,
            "grid_area": null,
            "grid_auto_columns": null,
            "grid_auto_flow": null,
            "grid_auto_rows": null,
            "grid_column": null,
            "grid_gap": null,
            "grid_row": null,
            "grid_template_areas": null,
            "grid_template_columns": null,
            "grid_template_rows": null,
            "height": null,
            "justify_content": null,
            "justify_items": null,
            "left": null,
            "margin": null,
            "max_height": null,
            "max_width": null,
            "min_height": null,
            "min_width": null,
            "object_fit": null,
            "object_position": null,
            "order": null,
            "overflow": null,
            "overflow_x": null,
            "overflow_y": null,
            "padding": null,
            "right": null,
            "top": null,
            "visibility": null,
            "width": null
          }
        },
        "6f49d2cb8fb24169b7ee966e7ec745a4": {
          "model_module": "@jupyter-widgets/controls",
          "model_name": "DescriptionStyleModel",
          "state": {
            "_model_module": "@jupyter-widgets/controls",
            "_model_module_version": "1.5.0",
            "_model_name": "DescriptionStyleModel",
            "_view_count": null,
            "_view_module": "@jupyter-widgets/base",
            "_view_module_version": "1.2.0",
            "_view_name": "StyleView",
            "description_width": ""
          }
        },
        "e04deb3303c1443e97fb9381af97a4c0": {
          "model_module": "@jupyter-widgets/base",
          "model_name": "LayoutModel",
          "state": {
            "_model_module": "@jupyter-widgets/base",
            "_model_module_version": "1.2.0",
            "_model_name": "LayoutModel",
            "_view_count": null,
            "_view_module": "@jupyter-widgets/base",
            "_view_module_version": "1.2.0",
            "_view_name": "LayoutView",
            "align_content": null,
            "align_items": null,
            "align_self": null,
            "border": null,
            "bottom": null,
            "display": null,
            "flex": null,
            "flex_flow": null,
            "grid_area": null,
            "grid_auto_columns": null,
            "grid_auto_flow": null,
            "grid_auto_rows": null,
            "grid_column": null,
            "grid_gap": null,
            "grid_row": null,
            "grid_template_areas": null,
            "grid_template_columns": null,
            "grid_template_rows": null,
            "height": null,
            "justify_content": null,
            "justify_items": null,
            "left": null,
            "margin": null,
            "max_height": null,
            "max_width": null,
            "min_height": null,
            "min_width": null,
            "object_fit": null,
            "object_position": null,
            "order": null,
            "overflow": null,
            "overflow_x": null,
            "overflow_y": null,
            "padding": null,
            "right": null,
            "top": null,
            "visibility": null,
            "width": null
          }
        },
        "2157ba0a60224f198c88d70aac20cd18": {
          "model_module": "@jupyter-widgets/controls",
          "model_name": "HBoxModel",
          "state": {
            "_dom_classes": [],
            "_model_module": "@jupyter-widgets/controls",
            "_model_module_version": "1.5.0",
            "_model_name": "HBoxModel",
            "_view_count": null,
            "_view_module": "@jupyter-widgets/controls",
            "_view_module_version": "1.5.0",
            "_view_name": "HBoxView",
            "box_style": "",
            "children": [
              "IPY_MODEL_4125dfbb09a0488487cf59ad5c99d23b",
              "IPY_MODEL_4774c3eea9474340be9791d1d8d6d3e8"
            ],
            "layout": "IPY_MODEL_bc649215677c407ab66e0090fcd889e6"
          }
        },
        "bc649215677c407ab66e0090fcd889e6": {
          "model_module": "@jupyter-widgets/base",
          "model_name": "LayoutModel",
          "state": {
            "_model_module": "@jupyter-widgets/base",
            "_model_module_version": "1.2.0",
            "_model_name": "LayoutModel",
            "_view_count": null,
            "_view_module": "@jupyter-widgets/base",
            "_view_module_version": "1.2.0",
            "_view_name": "LayoutView",
            "align_content": null,
            "align_items": null,
            "align_self": null,
            "border": null,
            "bottom": null,
            "display": null,
            "flex": null,
            "flex_flow": null,
            "grid_area": null,
            "grid_auto_columns": null,
            "grid_auto_flow": null,
            "grid_auto_rows": null,
            "grid_column": null,
            "grid_gap": null,
            "grid_row": null,
            "grid_template_areas": null,
            "grid_template_columns": null,
            "grid_template_rows": null,
            "height": null,
            "justify_content": null,
            "justify_items": null,
            "left": null,
            "margin": null,
            "max_height": null,
            "max_width": null,
            "min_height": null,
            "min_width": null,
            "object_fit": null,
            "object_position": null,
            "order": null,
            "overflow": null,
            "overflow_x": null,
            "overflow_y": null,
            "padding": null,
            "right": null,
            "top": null,
            "visibility": null,
            "width": null
          }
        },
        "4125dfbb09a0488487cf59ad5c99d23b": {
          "model_module": "@jupyter-widgets/controls",
          "model_name": "FloatProgressModel",
          "state": {
            "_dom_classes": [],
            "_model_module": "@jupyter-widgets/controls",
            "_model_module_version": "1.5.0",
            "_model_name": "FloatProgressModel",
            "_view_count": null,
            "_view_module": "@jupyter-widgets/controls",
            "_view_module_version": "1.5.0",
            "_view_name": "ProgressView",
            "bar_style": "success",
            "description": "#3: 100%",
            "description_tooltip": null,
            "layout": "IPY_MODEL_c5f54a9741d84212ba14c4369e23caf5",
            "max": 7,
            "min": 0,
            "orientation": "horizontal",
            "style": "IPY_MODEL_c1b68b9374254afd84e1de67f4406a02",
            "value": 7
          }
        },
        "4774c3eea9474340be9791d1d8d6d3e8": {
          "model_module": "@jupyter-widgets/controls",
          "model_name": "HTMLModel",
          "state": {
            "_dom_classes": [],
            "_model_module": "@jupyter-widgets/controls",
            "_model_module_version": "1.5.0",
            "_model_name": "HTMLModel",
            "_view_count": null,
            "_view_module": "@jupyter-widgets/controls",
            "_view_module_version": "1.5.0",
            "_view_name": "HTMLView",
            "description": "",
            "description_tooltip": null,
            "layout": "IPY_MODEL_031cfb3999184b60bab119c806899662",
            "placeholder": "​",
            "style": "IPY_MODEL_4b735d4a041c46fd9239865ce7578997",
            "value": " 7/7 [00:06&lt;00:00,  1.14ba/s]"
          }
        },
        "c1b68b9374254afd84e1de67f4406a02": {
          "model_module": "@jupyter-widgets/controls",
          "model_name": "ProgressStyleModel",
          "state": {
            "_model_module": "@jupyter-widgets/controls",
            "_model_module_version": "1.5.0",
            "_model_name": "ProgressStyleModel",
            "_view_count": null,
            "_view_module": "@jupyter-widgets/base",
            "_view_module_version": "1.2.0",
            "_view_name": "StyleView",
            "bar_color": null,
            "description_width": "initial"
          }
        },
        "c5f54a9741d84212ba14c4369e23caf5": {
          "model_module": "@jupyter-widgets/base",
          "model_name": "LayoutModel",
          "state": {
            "_model_module": "@jupyter-widgets/base",
            "_model_module_version": "1.2.0",
            "_model_name": "LayoutModel",
            "_view_count": null,
            "_view_module": "@jupyter-widgets/base",
            "_view_module_version": "1.2.0",
            "_view_name": "LayoutView",
            "align_content": null,
            "align_items": null,
            "align_self": null,
            "border": null,
            "bottom": null,
            "display": null,
            "flex": null,
            "flex_flow": null,
            "grid_area": null,
            "grid_auto_columns": null,
            "grid_auto_flow": null,
            "grid_auto_rows": null,
            "grid_column": null,
            "grid_gap": null,
            "grid_row": null,
            "grid_template_areas": null,
            "grid_template_columns": null,
            "grid_template_rows": null,
            "height": null,
            "justify_content": null,
            "justify_items": null,
            "left": null,
            "margin": null,
            "max_height": null,
            "max_width": null,
            "min_height": null,
            "min_width": null,
            "object_fit": null,
            "object_position": null,
            "order": null,
            "overflow": null,
            "overflow_x": null,
            "overflow_y": null,
            "padding": null,
            "right": null,
            "top": null,
            "visibility": null,
            "width": null
          }
        },
        "4b735d4a041c46fd9239865ce7578997": {
          "model_module": "@jupyter-widgets/controls",
          "model_name": "DescriptionStyleModel",
          "state": {
            "_model_module": "@jupyter-widgets/controls",
            "_model_module_version": "1.5.0",
            "_model_name": "DescriptionStyleModel",
            "_view_count": null,
            "_view_module": "@jupyter-widgets/base",
            "_view_module_version": "1.2.0",
            "_view_name": "StyleView",
            "description_width": ""
          }
        },
        "031cfb3999184b60bab119c806899662": {
          "model_module": "@jupyter-widgets/base",
          "model_name": "LayoutModel",
          "state": {
            "_model_module": "@jupyter-widgets/base",
            "_model_module_version": "1.2.0",
            "_model_name": "LayoutModel",
            "_view_count": null,
            "_view_module": "@jupyter-widgets/base",
            "_view_module_version": "1.2.0",
            "_view_name": "LayoutView",
            "align_content": null,
            "align_items": null,
            "align_self": null,
            "border": null,
            "bottom": null,
            "display": null,
            "flex": null,
            "flex_flow": null,
            "grid_area": null,
            "grid_auto_columns": null,
            "grid_auto_flow": null,
            "grid_auto_rows": null,
            "grid_column": null,
            "grid_gap": null,
            "grid_row": null,
            "grid_template_areas": null,
            "grid_template_columns": null,
            "grid_template_rows": null,
            "height": null,
            "justify_content": null,
            "justify_items": null,
            "left": null,
            "margin": null,
            "max_height": null,
            "max_width": null,
            "min_height": null,
            "min_width": null,
            "object_fit": null,
            "object_position": null,
            "order": null,
            "overflow": null,
            "overflow_x": null,
            "overflow_y": null,
            "padding": null,
            "right": null,
            "top": null,
            "visibility": null,
            "width": null
          }
        },
        "1dff98b1b2504f189bd42a4fa9f6c501": {
          "model_module": "@jupyter-widgets/controls",
          "model_name": "HBoxModel",
          "state": {
            "_dom_classes": [],
            "_model_module": "@jupyter-widgets/controls",
            "_model_module_version": "1.5.0",
            "_model_name": "HBoxModel",
            "_view_count": null,
            "_view_module": "@jupyter-widgets/controls",
            "_view_module_version": "1.5.0",
            "_view_name": "HBoxView",
            "box_style": "",
            "children": [
              "IPY_MODEL_805b74e985fd4b338ec7de3d1d31cefa",
              "IPY_MODEL_762d11f4b1074f469523b861b129a12a"
            ],
            "layout": "IPY_MODEL_51e9b6e5a47945c8be108bde1d8a805d"
          }
        },
        "51e9b6e5a47945c8be108bde1d8a805d": {
          "model_module": "@jupyter-widgets/base",
          "model_name": "LayoutModel",
          "state": {
            "_model_module": "@jupyter-widgets/base",
            "_model_module_version": "1.2.0",
            "_model_name": "LayoutModel",
            "_view_count": null,
            "_view_module": "@jupyter-widgets/base",
            "_view_module_version": "1.2.0",
            "_view_name": "LayoutView",
            "align_content": null,
            "align_items": null,
            "align_self": null,
            "border": null,
            "bottom": null,
            "display": null,
            "flex": null,
            "flex_flow": null,
            "grid_area": null,
            "grid_auto_columns": null,
            "grid_auto_flow": null,
            "grid_auto_rows": null,
            "grid_column": null,
            "grid_gap": null,
            "grid_row": null,
            "grid_template_areas": null,
            "grid_template_columns": null,
            "grid_template_rows": null,
            "height": null,
            "justify_content": null,
            "justify_items": null,
            "left": null,
            "margin": null,
            "max_height": null,
            "max_width": null,
            "min_height": null,
            "min_width": null,
            "object_fit": null,
            "object_position": null,
            "order": null,
            "overflow": null,
            "overflow_x": null,
            "overflow_y": null,
            "padding": null,
            "right": null,
            "top": null,
            "visibility": null,
            "width": null
          }
        },
        "805b74e985fd4b338ec7de3d1d31cefa": {
          "model_module": "@jupyter-widgets/controls",
          "model_name": "FloatProgressModel",
          "state": {
            "_dom_classes": [],
            "_model_module": "@jupyter-widgets/controls",
            "_model_module_version": "1.5.0",
            "_model_name": "FloatProgressModel",
            "_view_count": null,
            "_view_module": "@jupyter-widgets/controls",
            "_view_module_version": "1.5.0",
            "_view_name": "ProgressView",
            "bar_style": "success",
            "description": "Downloading: ",
            "description_tooltip": null,
            "layout": "IPY_MODEL_36179f0ef16f47ed98d0cdd27dac8f76",
            "max": 1764,
            "min": 0,
            "orientation": "horizontal",
            "style": "IPY_MODEL_a9dd15fb16724b978f08d2bfc736ccc3",
            "value": 1764
          }
        },
        "762d11f4b1074f469523b861b129a12a": {
          "model_module": "@jupyter-widgets/controls",
          "model_name": "HTMLModel",
          "state": {
            "_dom_classes": [],
            "_model_module": "@jupyter-widgets/controls",
            "_model_module_version": "1.5.0",
            "_model_name": "HTMLModel",
            "_view_count": null,
            "_view_module": "@jupyter-widgets/controls",
            "_view_module_version": "1.5.0",
            "_view_name": "HTMLView",
            "description": "",
            "description_tooltip": null,
            "layout": "IPY_MODEL_5d5ad221d1da485c92da3c9b0992aa97",
            "placeholder": "​",
            "style": "IPY_MODEL_b0f9687169b34f1c900b0022e84f8754",
            "value": " 3.90k/? [02:53&lt;00:00, 22.5B/s]"
          }
        },
        "a9dd15fb16724b978f08d2bfc736ccc3": {
          "model_module": "@jupyter-widgets/controls",
          "model_name": "ProgressStyleModel",
          "state": {
            "_model_module": "@jupyter-widgets/controls",
            "_model_module_version": "1.5.0",
            "_model_name": "ProgressStyleModel",
            "_view_count": null,
            "_view_module": "@jupyter-widgets/base",
            "_view_module_version": "1.2.0",
            "_view_name": "StyleView",
            "bar_color": null,
            "description_width": "initial"
          }
        },
        "36179f0ef16f47ed98d0cdd27dac8f76": {
          "model_module": "@jupyter-widgets/base",
          "model_name": "LayoutModel",
          "state": {
            "_model_module": "@jupyter-widgets/base",
            "_model_module_version": "1.2.0",
            "_model_name": "LayoutModel",
            "_view_count": null,
            "_view_module": "@jupyter-widgets/base",
            "_view_module_version": "1.2.0",
            "_view_name": "LayoutView",
            "align_content": null,
            "align_items": null,
            "align_self": null,
            "border": null,
            "bottom": null,
            "display": null,
            "flex": null,
            "flex_flow": null,
            "grid_area": null,
            "grid_auto_columns": null,
            "grid_auto_flow": null,
            "grid_auto_rows": null,
            "grid_column": null,
            "grid_gap": null,
            "grid_row": null,
            "grid_template_areas": null,
            "grid_template_columns": null,
            "grid_template_rows": null,
            "height": null,
            "justify_content": null,
            "justify_items": null,
            "left": null,
            "margin": null,
            "max_height": null,
            "max_width": null,
            "min_height": null,
            "min_width": null,
            "object_fit": null,
            "object_position": null,
            "order": null,
            "overflow": null,
            "overflow_x": null,
            "overflow_y": null,
            "padding": null,
            "right": null,
            "top": null,
            "visibility": null,
            "width": null
          }
        },
        "b0f9687169b34f1c900b0022e84f8754": {
          "model_module": "@jupyter-widgets/controls",
          "model_name": "DescriptionStyleModel",
          "state": {
            "_model_module": "@jupyter-widgets/controls",
            "_model_module_version": "1.5.0",
            "_model_name": "DescriptionStyleModel",
            "_view_count": null,
            "_view_module": "@jupyter-widgets/base",
            "_view_module_version": "1.2.0",
            "_view_name": "StyleView",
            "description_width": ""
          }
        },
        "5d5ad221d1da485c92da3c9b0992aa97": {
          "model_module": "@jupyter-widgets/base",
          "model_name": "LayoutModel",
          "state": {
            "_model_module": "@jupyter-widgets/base",
            "_model_module_version": "1.2.0",
            "_model_name": "LayoutModel",
            "_view_count": null,
            "_view_module": "@jupyter-widgets/base",
            "_view_module_version": "1.2.0",
            "_view_name": "LayoutView",
            "align_content": null,
            "align_items": null,
            "align_self": null,
            "border": null,
            "bottom": null,
            "display": null,
            "flex": null,
            "flex_flow": null,
            "grid_area": null,
            "grid_auto_columns": null,
            "grid_auto_flow": null,
            "grid_auto_rows": null,
            "grid_column": null,
            "grid_gap": null,
            "grid_row": null,
            "grid_template_areas": null,
            "grid_template_columns": null,
            "grid_template_rows": null,
            "height": null,
            "justify_content": null,
            "justify_items": null,
            "left": null,
            "margin": null,
            "max_height": null,
            "max_width": null,
            "min_height": null,
            "min_width": null,
            "object_fit": null,
            "object_position": null,
            "order": null,
            "overflow": null,
            "overflow_x": null,
            "overflow_y": null,
            "padding": null,
            "right": null,
            "top": null,
            "visibility": null,
            "width": null
          }
        },
        "a39b5e3aac974494a4f64e245cb640ff": {
          "model_module": "@jupyter-widgets/controls",
          "model_name": "HBoxModel",
          "state": {
            "_dom_classes": [],
            "_model_module": "@jupyter-widgets/controls",
            "_model_module_version": "1.5.0",
            "_model_name": "HBoxModel",
            "_view_count": null,
            "_view_module": "@jupyter-widgets/controls",
            "_view_module_version": "1.5.0",
            "_view_name": "HBoxView",
            "box_style": "",
            "children": [
              "IPY_MODEL_cf3e36d6c6774914880cd958bc25e814",
              "IPY_MODEL_b1083a0e4d154a459440f133581cdd98"
            ],
            "layout": "IPY_MODEL_2b36a43e248b4872a13344130c4e8e3d"
          }
        },
        "2b36a43e248b4872a13344130c4e8e3d": {
          "model_module": "@jupyter-widgets/base",
          "model_name": "LayoutModel",
          "state": {
            "_model_module": "@jupyter-widgets/base",
            "_model_module_version": "1.2.0",
            "_model_name": "LayoutModel",
            "_view_count": null,
            "_view_module": "@jupyter-widgets/base",
            "_view_module_version": "1.2.0",
            "_view_name": "LayoutView",
            "align_content": null,
            "align_items": null,
            "align_self": null,
            "border": null,
            "bottom": null,
            "display": null,
            "flex": null,
            "flex_flow": null,
            "grid_area": null,
            "grid_auto_columns": null,
            "grid_auto_flow": null,
            "grid_auto_rows": null,
            "grid_column": null,
            "grid_gap": null,
            "grid_row": null,
            "grid_template_areas": null,
            "grid_template_columns": null,
            "grid_template_rows": null,
            "height": null,
            "justify_content": null,
            "justify_items": null,
            "left": null,
            "margin": null,
            "max_height": null,
            "max_width": null,
            "min_height": null,
            "min_width": null,
            "object_fit": null,
            "object_position": null,
            "order": null,
            "overflow": null,
            "overflow_x": null,
            "overflow_y": null,
            "padding": null,
            "right": null,
            "top": null,
            "visibility": null,
            "width": null
          }
        },
        "cf3e36d6c6774914880cd958bc25e814": {
          "model_module": "@jupyter-widgets/controls",
          "model_name": "FloatProgressModel",
          "state": {
            "_dom_classes": [],
            "_model_module": "@jupyter-widgets/controls",
            "_model_module_version": "1.5.0",
            "_model_name": "FloatProgressModel",
            "_view_count": null,
            "_view_module": "@jupyter-widgets/controls",
            "_view_module_version": "1.5.0",
            "_view_name": "ProgressView",
            "bar_style": "success",
            "description": "Downloading: 100%",
            "description_tooltip": null,
            "layout": "IPY_MODEL_4d2708f465b74ed1ae665a2cbf063d71",
            "max": 1451,
            "min": 0,
            "orientation": "horizontal",
            "style": "IPY_MODEL_b61b005f6cc7471e824216389332cc2d",
            "value": 1451
          }
        },
        "b1083a0e4d154a459440f133581cdd98": {
          "model_module": "@jupyter-widgets/controls",
          "model_name": "HTMLModel",
          "state": {
            "_dom_classes": [],
            "_model_module": "@jupyter-widgets/controls",
            "_model_module_version": "1.5.0",
            "_model_name": "HTMLModel",
            "_view_count": null,
            "_view_module": "@jupyter-widgets/controls",
            "_view_module_version": "1.5.0",
            "_view_name": "HTMLView",
            "description": "",
            "description_tooltip": null,
            "layout": "IPY_MODEL_0b559c6ad9f746d7a7c74be005d3b9d4",
            "placeholder": "​",
            "style": "IPY_MODEL_0283c0d57277432b8806013e89fb28c4",
            "value": " 1.45k/1.45k [00:00&lt;00:00, 7.74kB/s]"
          }
        },
        "b61b005f6cc7471e824216389332cc2d": {
          "model_module": "@jupyter-widgets/controls",
          "model_name": "ProgressStyleModel",
          "state": {
            "_model_module": "@jupyter-widgets/controls",
            "_model_module_version": "1.5.0",
            "_model_name": "ProgressStyleModel",
            "_view_count": null,
            "_view_module": "@jupyter-widgets/base",
            "_view_module_version": "1.2.0",
            "_view_name": "StyleView",
            "bar_color": null,
            "description_width": "initial"
          }
        },
        "4d2708f465b74ed1ae665a2cbf063d71": {
          "model_module": "@jupyter-widgets/base",
          "model_name": "LayoutModel",
          "state": {
            "_model_module": "@jupyter-widgets/base",
            "_model_module_version": "1.2.0",
            "_model_name": "LayoutModel",
            "_view_count": null,
            "_view_module": "@jupyter-widgets/base",
            "_view_module_version": "1.2.0",
            "_view_name": "LayoutView",
            "align_content": null,
            "align_items": null,
            "align_self": null,
            "border": null,
            "bottom": null,
            "display": null,
            "flex": null,
            "flex_flow": null,
            "grid_area": null,
            "grid_auto_columns": null,
            "grid_auto_flow": null,
            "grid_auto_rows": null,
            "grid_column": null,
            "grid_gap": null,
            "grid_row": null,
            "grid_template_areas": null,
            "grid_template_columns": null,
            "grid_template_rows": null,
            "height": null,
            "justify_content": null,
            "justify_items": null,
            "left": null,
            "margin": null,
            "max_height": null,
            "max_width": null,
            "min_height": null,
            "min_width": null,
            "object_fit": null,
            "object_position": null,
            "order": null,
            "overflow": null,
            "overflow_x": null,
            "overflow_y": null,
            "padding": null,
            "right": null,
            "top": null,
            "visibility": null,
            "width": null
          }
        },
        "0283c0d57277432b8806013e89fb28c4": {
          "model_module": "@jupyter-widgets/controls",
          "model_name": "DescriptionStyleModel",
          "state": {
            "_model_module": "@jupyter-widgets/controls",
            "_model_module_version": "1.5.0",
            "_model_name": "DescriptionStyleModel",
            "_view_count": null,
            "_view_module": "@jupyter-widgets/base",
            "_view_module_version": "1.2.0",
            "_view_name": "StyleView",
            "description_width": ""
          }
        },
        "0b559c6ad9f746d7a7c74be005d3b9d4": {
          "model_module": "@jupyter-widgets/base",
          "model_name": "LayoutModel",
          "state": {
            "_model_module": "@jupyter-widgets/base",
            "_model_module_version": "1.2.0",
            "_model_name": "LayoutModel",
            "_view_count": null,
            "_view_module": "@jupyter-widgets/base",
            "_view_module_version": "1.2.0",
            "_view_name": "LayoutView",
            "align_content": null,
            "align_items": null,
            "align_self": null,
            "border": null,
            "bottom": null,
            "display": null,
            "flex": null,
            "flex_flow": null,
            "grid_area": null,
            "grid_auto_columns": null,
            "grid_auto_flow": null,
            "grid_auto_rows": null,
            "grid_column": null,
            "grid_gap": null,
            "grid_row": null,
            "grid_template_areas": null,
            "grid_template_columns": null,
            "grid_template_rows": null,
            "height": null,
            "justify_content": null,
            "justify_items": null,
            "left": null,
            "margin": null,
            "max_height": null,
            "max_width": null,
            "min_height": null,
            "min_width": null,
            "object_fit": null,
            "object_position": null,
            "order": null,
            "overflow": null,
            "overflow_x": null,
            "overflow_y": null,
            "padding": null,
            "right": null,
            "top": null,
            "visibility": null,
            "width": null
          }
        },
        "f920344b4f3149b0b2651107c1c28477": {
          "model_module": "@jupyter-widgets/controls",
          "model_name": "HBoxModel",
          "state": {
            "_dom_classes": [],
            "_model_module": "@jupyter-widgets/controls",
            "_model_module_version": "1.5.0",
            "_model_name": "HBoxModel",
            "_view_count": null,
            "_view_module": "@jupyter-widgets/controls",
            "_view_module_version": "1.5.0",
            "_view_name": "HBoxView",
            "box_style": "",
            "children": [
              "IPY_MODEL_07431653921747e5b7ad5eef3d8cce9a",
              "IPY_MODEL_fb5d85742bbc42d29598793afe8f6b58"
            ],
            "layout": "IPY_MODEL_4b3f99c940fe4f289435789385fa32cb"
          }
        },
        "4b3f99c940fe4f289435789385fa32cb": {
          "model_module": "@jupyter-widgets/base",
          "model_name": "LayoutModel",
          "state": {
            "_model_module": "@jupyter-widgets/base",
            "_model_module_version": "1.2.0",
            "_model_name": "LayoutModel",
            "_view_count": null,
            "_view_module": "@jupyter-widgets/base",
            "_view_module_version": "1.2.0",
            "_view_name": "LayoutView",
            "align_content": null,
            "align_items": null,
            "align_self": null,
            "border": null,
            "bottom": null,
            "display": null,
            "flex": null,
            "flex_flow": null,
            "grid_area": null,
            "grid_auto_columns": null,
            "grid_auto_flow": null,
            "grid_auto_rows": null,
            "grid_column": null,
            "grid_gap": null,
            "grid_row": null,
            "grid_template_areas": null,
            "grid_template_columns": null,
            "grid_template_rows": null,
            "height": null,
            "justify_content": null,
            "justify_items": null,
            "left": null,
            "margin": null,
            "max_height": null,
            "max_width": null,
            "min_height": null,
            "min_width": null,
            "object_fit": null,
            "object_position": null,
            "order": null,
            "overflow": null,
            "overflow_x": null,
            "overflow_y": null,
            "padding": null,
            "right": null,
            "top": null,
            "visibility": null,
            "width": null
          }
        },
        "07431653921747e5b7ad5eef3d8cce9a": {
          "model_module": "@jupyter-widgets/controls",
          "model_name": "FloatProgressModel",
          "state": {
            "_dom_classes": [],
            "_model_module": "@jupyter-widgets/controls",
            "_model_module_version": "1.5.0",
            "_model_name": "FloatProgressModel",
            "_view_count": null,
            "_view_module": "@jupyter-widgets/controls",
            "_view_module_version": "1.5.0",
            "_view_name": "ProgressView",
            "bar_style": "success",
            "description": "Downloading: 100%",
            "description_tooltip": null,
            "layout": "IPY_MODEL_269f442894684258815b0ef71408adbf",
            "max": 1261920069,
            "min": 0,
            "orientation": "horizontal",
            "style": "IPY_MODEL_211b32d82f9c4e9b9f1ccc072e7ed488",
            "value": 1261920069
          }
        },
        "fb5d85742bbc42d29598793afe8f6b58": {
          "model_module": "@jupyter-widgets/controls",
          "model_name": "HTMLModel",
          "state": {
            "_dom_classes": [],
            "_model_module": "@jupyter-widgets/controls",
            "_model_module_version": "1.5.0",
            "_model_name": "HTMLModel",
            "_view_count": null,
            "_view_module": "@jupyter-widgets/controls",
            "_view_module_version": "1.5.0",
            "_view_name": "HTMLView",
            "description": "",
            "description_tooltip": null,
            "layout": "IPY_MODEL_9046b21986c345f8b107fb19003e1982",
            "placeholder": "​",
            "style": "IPY_MODEL_579800f5d14d430b83ecd26e92364d9e",
            "value": " 1.26G/1.26G [00:32&lt;00:00, 39.4MB/s]"
          }
        },
        "211b32d82f9c4e9b9f1ccc072e7ed488": {
          "model_module": "@jupyter-widgets/controls",
          "model_name": "ProgressStyleModel",
          "state": {
            "_model_module": "@jupyter-widgets/controls",
            "_model_module_version": "1.5.0",
            "_model_name": "ProgressStyleModel",
            "_view_count": null,
            "_view_module": "@jupyter-widgets/base",
            "_view_module_version": "1.2.0",
            "_view_name": "StyleView",
            "bar_color": null,
            "description_width": "initial"
          }
        },
        "269f442894684258815b0ef71408adbf": {
          "model_module": "@jupyter-widgets/base",
          "model_name": "LayoutModel",
          "state": {
            "_model_module": "@jupyter-widgets/base",
            "_model_module_version": "1.2.0",
            "_model_name": "LayoutModel",
            "_view_count": null,
            "_view_module": "@jupyter-widgets/base",
            "_view_module_version": "1.2.0",
            "_view_name": "LayoutView",
            "align_content": null,
            "align_items": null,
            "align_self": null,
            "border": null,
            "bottom": null,
            "display": null,
            "flex": null,
            "flex_flow": null,
            "grid_area": null,
            "grid_auto_columns": null,
            "grid_auto_flow": null,
            "grid_auto_rows": null,
            "grid_column": null,
            "grid_gap": null,
            "grid_row": null,
            "grid_template_areas": null,
            "grid_template_columns": null,
            "grid_template_rows": null,
            "height": null,
            "justify_content": null,
            "justify_items": null,
            "left": null,
            "margin": null,
            "max_height": null,
            "max_width": null,
            "min_height": null,
            "min_width": null,
            "object_fit": null,
            "object_position": null,
            "order": null,
            "overflow": null,
            "overflow_x": null,
            "overflow_y": null,
            "padding": null,
            "right": null,
            "top": null,
            "visibility": null,
            "width": null
          }
        },
        "579800f5d14d430b83ecd26e92364d9e": {
          "model_module": "@jupyter-widgets/controls",
          "model_name": "DescriptionStyleModel",
          "state": {
            "_model_module": "@jupyter-widgets/controls",
            "_model_module_version": "1.5.0",
            "_model_name": "DescriptionStyleModel",
            "_view_count": null,
            "_view_module": "@jupyter-widgets/base",
            "_view_module_version": "1.2.0",
            "_view_name": "StyleView",
            "description_width": ""
          }
        },
        "9046b21986c345f8b107fb19003e1982": {
          "model_module": "@jupyter-widgets/base",
          "model_name": "LayoutModel",
          "state": {
            "_model_module": "@jupyter-widgets/base",
            "_model_module_version": "1.2.0",
            "_model_name": "LayoutModel",
            "_view_count": null,
            "_view_module": "@jupyter-widgets/base",
            "_view_module_version": "1.2.0",
            "_view_name": "LayoutView",
            "align_content": null,
            "align_items": null,
            "align_self": null,
            "border": null,
            "bottom": null,
            "display": null,
            "flex": null,
            "flex_flow": null,
            "grid_area": null,
            "grid_auto_columns": null,
            "grid_auto_flow": null,
            "grid_auto_rows": null,
            "grid_column": null,
            "grid_gap": null,
            "grid_row": null,
            "grid_template_areas": null,
            "grid_template_columns": null,
            "grid_template_rows": null,
            "height": null,
            "justify_content": null,
            "justify_items": null,
            "left": null,
            "margin": null,
            "max_height": null,
            "max_width": null,
            "min_height": null,
            "min_width": null,
            "object_fit": null,
            "object_position": null,
            "order": null,
            "overflow": null,
            "overflow_x": null,
            "overflow_y": null,
            "padding": null,
            "right": null,
            "top": null,
            "visibility": null,
            "width": null
          }
        },
        "5cb237d879a84bc2b930159f2aa372b4": {
          "model_module": "@jupyter-widgets/controls",
          "model_name": "HBoxModel",
          "state": {
            "_dom_classes": [],
            "_model_module": "@jupyter-widgets/controls",
            "_model_module_version": "1.5.0",
            "_model_name": "HBoxModel",
            "_view_count": null,
            "_view_module": "@jupyter-widgets/controls",
            "_view_module_version": "1.5.0",
            "_view_name": "HBoxView",
            "box_style": "",
            "children": [
              "IPY_MODEL_12698946d0494305bd438921957b8a6d",
              "IPY_MODEL_cd15c942173349548e398eb84985e80a"
            ],
            "layout": "IPY_MODEL_87f3eb1dc9374daaaaab7cfe402fb85e"
          }
        },
        "87f3eb1dc9374daaaaab7cfe402fb85e": {
          "model_module": "@jupyter-widgets/base",
          "model_name": "LayoutModel",
          "state": {
            "_model_module": "@jupyter-widgets/base",
            "_model_module_version": "1.2.0",
            "_model_name": "LayoutModel",
            "_view_count": null,
            "_view_module": "@jupyter-widgets/base",
            "_view_module_version": "1.2.0",
            "_view_name": "LayoutView",
            "align_content": null,
            "align_items": null,
            "align_self": null,
            "border": null,
            "bottom": null,
            "display": null,
            "flex": null,
            "flex_flow": null,
            "grid_area": null,
            "grid_auto_columns": null,
            "grid_auto_flow": null,
            "grid_auto_rows": null,
            "grid_column": null,
            "grid_gap": null,
            "grid_row": null,
            "grid_template_areas": null,
            "grid_template_columns": null,
            "grid_template_rows": null,
            "height": null,
            "justify_content": null,
            "justify_items": null,
            "left": null,
            "margin": null,
            "max_height": null,
            "max_width": null,
            "min_height": null,
            "min_width": null,
            "object_fit": null,
            "object_position": null,
            "order": null,
            "overflow": null,
            "overflow_x": null,
            "overflow_y": null,
            "padding": null,
            "right": null,
            "top": null,
            "visibility": null,
            "width": null
          }
        },
        "12698946d0494305bd438921957b8a6d": {
          "model_module": "@jupyter-widgets/controls",
          "model_name": "FloatProgressModel",
          "state": {
            "_dom_classes": [],
            "_model_module": "@jupyter-widgets/controls",
            "_model_module_version": "1.5.0",
            "_model_name": "FloatProgressModel",
            "_view_count": null,
            "_view_module": "@jupyter-widgets/controls",
            "_view_module_version": "1.5.0",
            "_view_name": "ProgressView",
            "bar_style": "success",
            "description": "100%",
            "description_tooltip": null,
            "layout": "IPY_MODEL_b50c338506ac45da9292faeac56971b7",
            "max": 157,
            "min": 0,
            "orientation": "horizontal",
            "style": "IPY_MODEL_80256a5362804a75929a6d7d8a1761a0",
            "value": 157
          }
        },
        "cd15c942173349548e398eb84985e80a": {
          "model_module": "@jupyter-widgets/controls",
          "model_name": "HTMLModel",
          "state": {
            "_dom_classes": [],
            "_model_module": "@jupyter-widgets/controls",
            "_model_module_version": "1.5.0",
            "_model_name": "HTMLModel",
            "_view_count": null,
            "_view_module": "@jupyter-widgets/controls",
            "_view_module_version": "1.5.0",
            "_view_name": "HTMLView",
            "description": "",
            "description_tooltip": null,
            "layout": "IPY_MODEL_a05f0ec7693848c685942f449a204752",
            "placeholder": "​",
            "style": "IPY_MODEL_4be688fab7d94f1fa00826e229f27509",
            "value": " 157/157 [00:08&lt;00:00, 18.06ex/s]"
          }
        },
        "80256a5362804a75929a6d7d8a1761a0": {
          "model_module": "@jupyter-widgets/controls",
          "model_name": "ProgressStyleModel",
          "state": {
            "_model_module": "@jupyter-widgets/controls",
            "_model_module_version": "1.5.0",
            "_model_name": "ProgressStyleModel",
            "_view_count": null,
            "_view_module": "@jupyter-widgets/base",
            "_view_module_version": "1.2.0",
            "_view_name": "StyleView",
            "bar_color": null,
            "description_width": "initial"
          }
        },
        "b50c338506ac45da9292faeac56971b7": {
          "model_module": "@jupyter-widgets/base",
          "model_name": "LayoutModel",
          "state": {
            "_model_module": "@jupyter-widgets/base",
            "_model_module_version": "1.2.0",
            "_model_name": "LayoutModel",
            "_view_count": null,
            "_view_module": "@jupyter-widgets/base",
            "_view_module_version": "1.2.0",
            "_view_name": "LayoutView",
            "align_content": null,
            "align_items": null,
            "align_self": null,
            "border": null,
            "bottom": null,
            "display": null,
            "flex": null,
            "flex_flow": null,
            "grid_area": null,
            "grid_auto_columns": null,
            "grid_auto_flow": null,
            "grid_auto_rows": null,
            "grid_column": null,
            "grid_gap": null,
            "grid_row": null,
            "grid_template_areas": null,
            "grid_template_columns": null,
            "grid_template_rows": null,
            "height": null,
            "justify_content": null,
            "justify_items": null,
            "left": null,
            "margin": null,
            "max_height": null,
            "max_width": null,
            "min_height": null,
            "min_width": null,
            "object_fit": null,
            "object_position": null,
            "order": null,
            "overflow": null,
            "overflow_x": null,
            "overflow_y": null,
            "padding": null,
            "right": null,
            "top": null,
            "visibility": null,
            "width": null
          }
        },
        "4be688fab7d94f1fa00826e229f27509": {
          "model_module": "@jupyter-widgets/controls",
          "model_name": "DescriptionStyleModel",
          "state": {
            "_model_module": "@jupyter-widgets/controls",
            "_model_module_version": "1.5.0",
            "_model_name": "DescriptionStyleModel",
            "_view_count": null,
            "_view_module": "@jupyter-widgets/base",
            "_view_module_version": "1.2.0",
            "_view_name": "StyleView",
            "description_width": ""
          }
        },
        "a05f0ec7693848c685942f449a204752": {
          "model_module": "@jupyter-widgets/base",
          "model_name": "LayoutModel",
          "state": {
            "_model_module": "@jupyter-widgets/base",
            "_model_module_version": "1.2.0",
            "_model_name": "LayoutModel",
            "_view_count": null,
            "_view_module": "@jupyter-widgets/base",
            "_view_module_version": "1.2.0",
            "_view_name": "LayoutView",
            "align_content": null,
            "align_items": null,
            "align_self": null,
            "border": null,
            "bottom": null,
            "display": null,
            "flex": null,
            "flex_flow": null,
            "grid_area": null,
            "grid_auto_columns": null,
            "grid_auto_flow": null,
            "grid_auto_rows": null,
            "grid_column": null,
            "grid_gap": null,
            "grid_row": null,
            "grid_template_areas": null,
            "grid_template_columns": null,
            "grid_template_rows": null,
            "height": null,
            "justify_content": null,
            "justify_items": null,
            "left": null,
            "margin": null,
            "max_height": null,
            "max_width": null,
            "min_height": null,
            "min_width": null,
            "object_fit": null,
            "object_position": null,
            "order": null,
            "overflow": null,
            "overflow_x": null,
            "overflow_y": null,
            "padding": null,
            "right": null,
            "top": null,
            "visibility": null,
            "width": null
          }
        },
        "54d00a9adb594b07ad9669e47ed59fd3": {
          "model_module": "@jupyter-widgets/controls",
          "model_name": "HBoxModel",
          "state": {
            "_dom_classes": [],
            "_model_module": "@jupyter-widgets/controls",
            "_model_module_version": "1.5.0",
            "_model_name": "HBoxModel",
            "_view_count": null,
            "_view_module": "@jupyter-widgets/controls",
            "_view_module_version": "1.5.0",
            "_view_name": "HBoxView",
            "box_style": "",
            "children": [
              "IPY_MODEL_8cfc70fed9b642edbec8e46cf8f11814",
              "IPY_MODEL_0f69bd59d1fa4f22821ed03d25211582"
            ],
            "layout": "IPY_MODEL_837465fe80154d4689d18036c9e3d39a"
          }
        },
        "837465fe80154d4689d18036c9e3d39a": {
          "model_module": "@jupyter-widgets/base",
          "model_name": "LayoutModel",
          "state": {
            "_model_module": "@jupyter-widgets/base",
            "_model_module_version": "1.2.0",
            "_model_name": "LayoutModel",
            "_view_count": null,
            "_view_module": "@jupyter-widgets/base",
            "_view_module_version": "1.2.0",
            "_view_name": "LayoutView",
            "align_content": null,
            "align_items": null,
            "align_self": null,
            "border": null,
            "bottom": null,
            "display": null,
            "flex": null,
            "flex_flow": null,
            "grid_area": null,
            "grid_auto_columns": null,
            "grid_auto_flow": null,
            "grid_auto_rows": null,
            "grid_column": null,
            "grid_gap": null,
            "grid_row": null,
            "grid_template_areas": null,
            "grid_template_columns": null,
            "grid_template_rows": null,
            "height": null,
            "justify_content": null,
            "justify_items": null,
            "left": null,
            "margin": null,
            "max_height": null,
            "max_width": null,
            "min_height": null,
            "min_width": null,
            "object_fit": null,
            "object_position": null,
            "order": null,
            "overflow": null,
            "overflow_x": null,
            "overflow_y": null,
            "padding": null,
            "right": null,
            "top": null,
            "visibility": null,
            "width": null
          }
        },
        "8cfc70fed9b642edbec8e46cf8f11814": {
          "model_module": "@jupyter-widgets/controls",
          "model_name": "FloatProgressModel",
          "state": {
            "_dom_classes": [],
            "_model_module": "@jupyter-widgets/controls",
            "_model_module_version": "1.5.0",
            "_model_name": "FloatProgressModel",
            "_view_count": null,
            "_view_module": "@jupyter-widgets/controls",
            "_view_module_version": "1.5.0",
            "_view_name": "ProgressView",
            "bar_style": "success",
            "description": "100%",
            "description_tooltip": null,
            "layout": "IPY_MODEL_264d1ef48ecc43c1b41e6b4a174d418a",
            "max": 20,
            "min": 0,
            "orientation": "horizontal",
            "style": "IPY_MODEL_7eac4b5970b048c1afc0dd737e7dc4c8",
            "value": 20
          }
        },
        "0f69bd59d1fa4f22821ed03d25211582": {
          "model_module": "@jupyter-widgets/controls",
          "model_name": "HTMLModel",
          "state": {
            "_dom_classes": [],
            "_model_module": "@jupyter-widgets/controls",
            "_model_module_version": "1.5.0",
            "_model_name": "HTMLModel",
            "_view_count": null,
            "_view_module": "@jupyter-widgets/controls",
            "_view_module_version": "1.5.0",
            "_view_name": "HTMLView",
            "description": "",
            "description_tooltip": null,
            "layout": "IPY_MODEL_2773ae8661bc4151baf003a73291301a",
            "placeholder": "​",
            "style": "IPY_MODEL_ae5b1f05997540b5987eea640c167b6c",
            "value": " 20/20 [01:02&lt;00:00,  3.11s/ba]"
          }
        },
        "7eac4b5970b048c1afc0dd737e7dc4c8": {
          "model_module": "@jupyter-widgets/controls",
          "model_name": "ProgressStyleModel",
          "state": {
            "_model_module": "@jupyter-widgets/controls",
            "_model_module_version": "1.5.0",
            "_model_name": "ProgressStyleModel",
            "_view_count": null,
            "_view_module": "@jupyter-widgets/base",
            "_view_module_version": "1.2.0",
            "_view_name": "StyleView",
            "bar_color": null,
            "description_width": "initial"
          }
        },
        "264d1ef48ecc43c1b41e6b4a174d418a": {
          "model_module": "@jupyter-widgets/base",
          "model_name": "LayoutModel",
          "state": {
            "_model_module": "@jupyter-widgets/base",
            "_model_module_version": "1.2.0",
            "_model_name": "LayoutModel",
            "_view_count": null,
            "_view_module": "@jupyter-widgets/base",
            "_view_module_version": "1.2.0",
            "_view_name": "LayoutView",
            "align_content": null,
            "align_items": null,
            "align_self": null,
            "border": null,
            "bottom": null,
            "display": null,
            "flex": null,
            "flex_flow": null,
            "grid_area": null,
            "grid_auto_columns": null,
            "grid_auto_flow": null,
            "grid_auto_rows": null,
            "grid_column": null,
            "grid_gap": null,
            "grid_row": null,
            "grid_template_areas": null,
            "grid_template_columns": null,
            "grid_template_rows": null,
            "height": null,
            "justify_content": null,
            "justify_items": null,
            "left": null,
            "margin": null,
            "max_height": null,
            "max_width": null,
            "min_height": null,
            "min_width": null,
            "object_fit": null,
            "object_position": null,
            "order": null,
            "overflow": null,
            "overflow_x": null,
            "overflow_y": null,
            "padding": null,
            "right": null,
            "top": null,
            "visibility": null,
            "width": null
          }
        },
        "ae5b1f05997540b5987eea640c167b6c": {
          "model_module": "@jupyter-widgets/controls",
          "model_name": "DescriptionStyleModel",
          "state": {
            "_model_module": "@jupyter-widgets/controls",
            "_model_module_version": "1.5.0",
            "_model_name": "DescriptionStyleModel",
            "_view_count": null,
            "_view_module": "@jupyter-widgets/base",
            "_view_module_version": "1.2.0",
            "_view_name": "StyleView",
            "description_width": ""
          }
        },
        "2773ae8661bc4151baf003a73291301a": {
          "model_module": "@jupyter-widgets/base",
          "model_name": "LayoutModel",
          "state": {
            "_model_module": "@jupyter-widgets/base",
            "_model_module_version": "1.2.0",
            "_model_name": "LayoutModel",
            "_view_count": null,
            "_view_module": "@jupyter-widgets/base",
            "_view_module_version": "1.2.0",
            "_view_name": "LayoutView",
            "align_content": null,
            "align_items": null,
            "align_self": null,
            "border": null,
            "bottom": null,
            "display": null,
            "flex": null,
            "flex_flow": null,
            "grid_area": null,
            "grid_auto_columns": null,
            "grid_auto_flow": null,
            "grid_auto_rows": null,
            "grid_column": null,
            "grid_gap": null,
            "grid_row": null,
            "grid_template_areas": null,
            "grid_template_columns": null,
            "grid_template_rows": null,
            "height": null,
            "justify_content": null,
            "justify_items": null,
            "left": null,
            "margin": null,
            "max_height": null,
            "max_width": null,
            "min_height": null,
            "min_width": null,
            "object_fit": null,
            "object_position": null,
            "order": null,
            "overflow": null,
            "overflow_x": null,
            "overflow_y": null,
            "padding": null,
            "right": null,
            "top": null,
            "visibility": null,
            "width": null
          }
        }
      }
    }
  },
  "cells": [
    {
      "cell_type": "markdown",
      "metadata": {
        "id": "view-in-github",
        "colab_type": "text"
      },
      "source": [
        "<a href=\"https://colab.research.google.com/github/amoghgopadi/wav2vec2-xlsr-kannada/blob/main/Fine_Tune_XLSR_Wav2Vec2_on_Kannada_ASR.ipynb\" target=\"_parent\"><img src=\"https://colab.research.google.com/assets/colab-badge.svg\" alt=\"Open In Colab\"/></a>"
      ]
    },
    {
      "cell_type": "markdown",
      "metadata": {
        "id": "-QoI4mIfzdll"
      },
      "source": [
        "# **Fine-tuning XLSR-Wav2Vec2 for Multi-Lingual ASR with 🤗 Transformers**"
      ]
    },
    {
      "cell_type": "markdown",
      "metadata": {
        "id": "pK-9BViuzhsG"
      },
      "source": [
        "Wav2Vec2 is a pretrained model for Automatic Speech Recognition (ASR) and was released in [September 2020](https://ai.facebook.com/blog/wav2vec-20-learning-the-structure-of-speech-from-raw-audio/) by Alexei Baevski, Michael Auli, and Alex Conneau.  Soon after the superior performance of Wav2Vec2 was demonstrated on the English ASR dataset LibriSpeech, *Facebook AI* presented XLSR-Wav2Vec2 (click [here](https://arxiv.org/abs/2006.13979)). XLSR stands for *cross-lingual  speech representations* and refers to XLSR-Wav2Vec2`s ability to learn speech representations that are useful across multiple languages.\n",
        "\n",
        "Similar to Wav2Vec2, XLSR-Wav2Vec2 learns powerful speech representations from hundreds of thousands of hours of speech in more than 50 languages of unlabeled speech. Similar, to [BERT's masked language modeling](http://jalammar.github.io/illustrated-bert/), the model learns contextualized speech representations by randomly masking feature vectors before passing them to a transformer network.\n",
        "\n",
        "![wav2vec2_structure](https://raw.githubusercontent.com/patrickvonplaten/scientific_images/master/xlsr_wav2vec2.png)\n",
        "\n",
        "The authors show for the first time that massively pretraining an ASR model on cross-lingual unlabeled speech data, followed by language-specific fine-tuning on very little labeled data achieves state-of-the-art results. See Table 1-5 of the official [paper](https://arxiv.org/pdf/2006.13979.pdf)."
      ]
    },
    {
      "cell_type": "markdown",
      "metadata": {
        "id": "pTad_Kcozlbb"
      },
      "source": [
        "In this notebook, we will give an in-detail explanation of how XLSR-Wav2Vec2's pretrained checkpoint can be fine-tuned on a low-resource ASR dataset of any language. Note that in this notebook, we will fine-tune XLSR-Wav2Vec2 without making use of a language model. It is much simpler and more efficient to use XLSR-Wav2Vec2 without a language model, but better results can be achieved by including a language model. \n",
        "\n",
        "For demonstration purposes, we fine-tune the [wav2vec2-large-xlsr-53](https://huggingface.co/facebook/wav2vec2-large-xlsr-53) on the low resource Kannada ASR multi-speaker dataset of [OpenSLR](http://openslr.org/79/)."
      ]
    },
    {
      "cell_type": "markdown",
      "metadata": {
        "id": "jFVFD39Cz8t9"
      },
      "source": [
        "XLSR-Wav2Vec2 is fine-tuned using Connectionist Temporal Classification (CTC), which is an algorithm that is used to train neural networks for sequence-to-sequence problems and mainly in Automatic Speech Recognition and handwriting recognition. \n",
        "\n",
        "I highly recommend reading the blog post [Sequence Modeling with CTC (2017)](https://distill.pub/2017/ctc/) very well-written blog post by Awni Hannun."
      ]
    },
    {
      "cell_type": "markdown",
      "metadata": {
        "id": "xwGUuB6Jz-gz"
      },
      "source": [
        "Before we start, let's install both `datasets` and `transformers` from master. Also, we need the `torchaudio` and `librosa` package to load audio files and the `jiwer` to evaluate our fine-tuned model using the [word error rate (WER)](https://huggingface.co/metrics/wer) metric ${}^1$."
      ]
    },
    {
      "cell_type": "code",
      "metadata": {
        "colab": {
          "base_uri": "https://localhost:8080/"
        },
        "id": "pJbYXou6chZf",
        "outputId": "8cdbd78f-9b60-4d32-f958-b3e257e8ce51"
      },
      "source": [
        "!nvidia-smi"
      ],
      "execution_count": null,
      "outputs": [
        {
          "output_type": "stream",
          "text": [
            "Sat Mar 27 06:25:03 2021       \n",
            "+-----------------------------------------------------------------------------+\n",
            "| NVIDIA-SMI 450.51.05    Driver Version: 450.51.05    CUDA Version: 11.0     |\n",
            "|-------------------------------+----------------------+----------------------+\n",
            "| GPU  Name        Persistence-M| Bus-Id        Disp.A | Volatile Uncorr. ECC |\n",
            "| Fan  Temp  Perf  Pwr:Usage/Cap|         Memory-Usage | GPU-Util  Compute M. |\n",
            "|                               |                      |               MIG M. |\n",
            "|===============================+======================+======================|\n",
            "|   0  Tesla V100S-PCI...  Off  | 00000000:00:0A.0 Off |                    0 |\n",
            "| N/A   35C    P0    25W / 250W |      0MiB / 32510MiB |      0%      Default |\n",
            "|                               |                      |                  N/A |\n",
            "+-------------------------------+----------------------+----------------------+\n",
            "                                                                               \n",
            "+-----------------------------------------------------------------------------+\n",
            "| Processes:                                                                  |\n",
            "|  GPU   GI   CI        PID   Type   Process name                  GPU Memory |\n",
            "|        ID   ID                                                   Usage      |\n",
            "|=============================================================================|\n",
            "|  No running processes found                                                 |\n",
            "+-----------------------------------------------------------------------------+\n"
          ],
          "name": "stdout"
        }
      ]
    },
    {
      "cell_type": "code",
      "metadata": {
        "id": "9gjxyjp4QpyU"
      },
      "source": [
        "%%capture\n",
        "!pip install git+https://github.com/huggingface/datasets.git\n",
        "!pip install git+https://github.com/huggingface/transformers.git\n",
        "!pip install torchaudio\n",
        "!pip install librosa\n",
        "!pip install jiwer"
      ],
      "execution_count": null,
      "outputs": []
    },
    {
      "cell_type": "markdown",
      "metadata": {
        "id": "G6JQnS_R0Ckw"
      },
      "source": [
        "\n",
        "\n",
        "\n",
        "---\n",
        "\n",
        "${}^1$ In the [paper](https://arxiv.org/pdf/2006.13979.pdf), the model was evaluated using the phoneme error rate (PER), but by far the most common metric in ASR is the word error rate (WER). To keep this notebook as general as possible we decided to evaluate the model using WER."
      ]
    },
    {
      "cell_type": "markdown",
      "metadata": {
        "id": "YpRtryAX0Ebp"
      },
      "source": [
        "## Prepare Data, Tokenizer, Feature Extractor"
      ]
    },
    {
      "cell_type": "markdown",
      "metadata": {
        "id": "Bg6P5vg40HJE"
      },
      "source": [
        "ASR models transcribe speech to text, which means that we both need a feature extractor that processes the speech signal to the model's input format, *e.g.* a feature vector, and a tokenizer that processes the model's output format to text. \n",
        "\n",
        "In 🤗 Transformers, the XLSR-Wav2Vec2 model is thus accompanied by both a tokenizer, called [Wav2Vec2CTCTokenizer](https://huggingface.co/transformers/master/model_doc/wav2vec2.html#wav2vec2ctctokenizer), and a feature extractor, called [Wav2Vec2FeatureExtractor](https://huggingface.co/transformers/master/model_doc/wav2vec2.html#wav2vec2featureextractor).\n",
        "\n",
        "Let's start by creating the tokenizer responsible for decoding the model's predictions."
      ]
    },
    {
      "cell_type": "markdown",
      "metadata": {
        "id": "bE9KtyHd0O55"
      },
      "source": [
        "### Create Wav2Vec2CTCTokenizer"
      ]
    },
    {
      "cell_type": "markdown",
      "metadata": {
        "id": "KCOqB_qZ0QZY"
      },
      "source": [
        "The [pretrained Wav2Vec2 checkpoint]( ) maps the speech signal to a sequence of context representations as illustrated in the figure above. A fine-tuned XLSR-Wav2Vec2 checkpoint needs to map this sequence of context representations to its corresponding transcription so that a linear layer has to be added on top of the transformer block (shown in yellow). This linear layer is used to classifies each context representation to a token class analogous how, *e.g.*, after pretraining a linear layer is added on top of BERT's embeddings for further classification - *cf.* with *\"BERT\"* section of this [blog post](https://huggingface.co/blog/warm-starting-encoder-decoder).\n",
        "\n",
        "The output size of this layer corresponds to the number of tokens in the vocabulary, which does **not** depend on XLSR-Wav2Vec2's pretraining task, but only on the labeled dataset used for fine-tuning. So in the first step, we will take a look at Common Voice and define a vocabulary based on the dataset's transcriptions."
      ]
    },
    {
      "cell_type": "markdown",
      "metadata": {
        "id": "1QvyD19y0aKF"
      },
      "source": [
        "First, download the dataset to your drive and unzip it. Then, load the files and make a dataset using 🤗 Datasets' simple API."
      ]
    },
    {
      "cell_type": "code",
      "metadata": {
        "id": "RPz53riiO9xe"
      },
      "source": [
        "import os"
      ],
      "execution_count": null,
      "outputs": []
    },
    {
      "cell_type": "code",
      "metadata": {
        "id": "_Hxh6XU9QX2M"
      },
      "source": [
        "import pandas as pd"
      ],
      "execution_count": null,
      "outputs": []
    },
    {
      "cell_type": "code",
      "metadata": {
        "id": "lej-XMp7wmne"
      },
      "source": [
        "#!wget 'https://openslr.magicdatatech.com/resources/79/kn_in_male.zip' -P '/content/gdrive/MyDrive/Colab Notebooks/HuggingFace/Test2'"
      ],
      "execution_count": null,
      "outputs": []
    },
    {
      "cell_type": "code",
      "metadata": {
        "id": "WZISCClavY8T"
      },
      "source": [
        "#!wget 'https://openslr.magicdatatech.com/resources/79/kn_in_female.zip' -P '/content/gdrive/MyDrive/Colab Notebooks/HuggingFace/Test2'"
      ],
      "execution_count": null,
      "outputs": []
    },
    {
      "cell_type": "code",
      "metadata": {
        "id": "QFX1XOpvgLje"
      },
      "source": [
        "#!unzip 'container_0/kn_in_male.zip' -d 'container_0/kn_male'"
      ],
      "execution_count": null,
      "outputs": []
    },
    {
      "cell_type": "code",
      "metadata": {
        "id": "fzIl9aP-g6SG"
      },
      "source": [
        "#!unzip 'container_0/kn_in_female.zip' -d 'container_0/kn_female'"
      ],
      "execution_count": null,
      "outputs": []
    },
    {
      "cell_type": "code",
      "metadata": {
        "id": "H9JfV5iNGbZd"
      },
      "source": [
        "path_to_dir = \"container_0\"\n",
        "path_to_dir_male = \"container_0/kn_male\"\n",
        "path_to_dir_female = \"container_0/kn_female\""
      ],
      "execution_count": null,
      "outputs": []
    },
    {
      "cell_type": "code",
      "metadata": {
        "id": "m0WqgDoNQY8N"
      },
      "source": [
        "paths = []\n",
        "texts = []"
      ],
      "execution_count": null,
      "outputs": []
    },
    {
      "cell_type": "code",
      "metadata": {
        "id": "X00irPPiKon5"
      },
      "source": [
        "line_df_male = pd.read_csv(os.path.join(path_to_dir,'line_index_male.tsv'),sep=\"\\t\", header=None)\n",
        "fils = os.listdir(path_to_dir_male)\n",
        "for fil in fils:\n",
        "    if '.wav' in fil:\n",
        "        paths.append(os.path.join(path_to_dir_male,fil))\n",
        "        texts.append(line_df_male[line_df_male[0]==fil.split('.')[0]][1].values[0])"
      ],
      "execution_count": null,
      "outputs": []
    },
    {
      "cell_type": "code",
      "metadata": {
        "id": "Es6pUtT51lmy"
      },
      "source": [
        "line_df_female = pd.read_csv(os.path.join(path_to_dir,'line_index_female.tsv'),sep=\"\\t\", header=None)\n",
        "fils = os.listdir(path_to_dir_female)\n",
        "for fil in fils:\n",
        "    if '.wav' in fil:\n",
        "        paths.append(os.path.join(path_to_dir_female,fil))\n",
        "        texts.append(line_df_female[line_df_female[0]==fil.split('.')[0]][1].values[0])"
      ],
      "execution_count": null,
      "outputs": []
    },
    {
      "cell_type": "code",
      "metadata": {
        "id": "8n9CSA3AQpEK"
      },
      "source": [
        "from datasets import Dataset\n",
        "data = Dataset.from_dict({\"path\":paths,\"text\":texts})"
      ],
      "execution_count": null,
      "outputs": []
    },
    {
      "cell_type": "markdown",
      "metadata": {
        "id": "votK8hTw0xV6"
      },
      "source": [
        "Shuffle the dataset for randomness."
      ]
    },
    {
      "cell_type": "code",
      "metadata": {
        "id": "Ty7m2hCZVwMV"
      },
      "source": [
        "data = data.shuffle(seed=42)"
      ],
      "execution_count": null,
      "outputs": []
    },
    {
      "cell_type": "markdown",
      "metadata": {
        "id": "q83G-flh0ur0"
      },
      "source": [
        "Split the dataset into train and test."
      ]
    },
    {
      "cell_type": "code",
      "metadata": {
        "id": "DdobhK14W2dc"
      },
      "source": [
        "dataset = data.train_test_split(test_size=0.1,seed=42)"
      ],
      "execution_count": null,
      "outputs": []
    },
    {
      "cell_type": "code",
      "metadata": {
        "id": "sKPvjBdPGbZh",
        "outputId": "b8312c66-960d-49a3-8566-7c7a98619ba7"
      },
      "source": [
        ""
      ],
      "execution_count": null,
      "outputs": [
        {
          "output_type": "execute_result",
          "data": {
            "text/plain": [
              "Dataset({\n",
              "    features: ['path', 'text'],\n",
              "    num_rows: 4400\n",
              "})"
            ]
          },
          "metadata": {
            "tags": []
          },
          "execution_count": 64
        }
      ]
    },
    {
      "cell_type": "code",
      "metadata": {
        "colab": {
          "base_uri": "https://localhost:8080/"
        },
        "id": "eF21CtLZXnA_",
        "outputId": "5075a33e-c5e0-488a-bbc2-18da530763f3"
      },
      "source": [
        "dataset"
      ],
      "execution_count": null,
      "outputs": [
        {
          "output_type": "execute_result",
          "data": {
            "text/plain": [
              "DatasetDict({\n",
              "    train: Dataset({\n",
              "        features: ['path', 'text'],\n",
              "        num_rows: 3960\n",
              "    })\n",
              "    test: Dataset({\n",
              "        features: ['path', 'text'],\n",
              "        num_rows: 440\n",
              "    })\n",
              "})"
            ]
          },
          "metadata": {
            "tags": []
          },
          "execution_count": 16
        }
      ]
    },
    {
      "cell_type": "code",
      "metadata": {
        "id": "a1DfJ970Xjvq"
      },
      "source": [
        "train_dataset = dataset['train']\n",
        "test_dataset = dataset['test']"
      ],
      "execution_count": null,
      "outputs": []
    },
    {
      "cell_type": "markdown",
      "metadata": {
        "id": "RldrGDyx0thk"
      },
      "source": [
        "Let's write a short function to display some random samples of the dataset and run it a couple of times to get a feeling for the transcriptions."
      ]
    },
    {
      "cell_type": "code",
      "metadata": {
        "id": "p-89KcS8S7OZ"
      },
      "source": [
        "from datasets import ClassLabel\n",
        "import random\n",
        "import pandas as pd\n",
        "from IPython.display import display, HTML\n",
        "\n",
        "def show_random_elements(dataset, num_examples=10):\n",
        "    assert num_examples <= len(dataset), \"Can't pick more elements than there are in the dataset.\"\n",
        "    picks = []\n",
        "    for _ in range(num_examples):\n",
        "        pick = random.randint(0, len(dataset)-1)\n",
        "        while pick in picks:\n",
        "            pick = random.randint(0, len(dataset)-1)\n",
        "        picks.append(pick)\n",
        "    \n",
        "    df = pd.DataFrame(dataset[picks])\n",
        "    display(HTML(df.to_html()))"
      ],
      "execution_count": null,
      "outputs": []
    },
    {
      "cell_type": "code",
      "metadata": {
        "colab": {
          "base_uri": "https://localhost:8080/",
          "height": 677
        },
        "id": "JExtpyDlV4XN",
        "outputId": "82610809-1206-407d-d7b3-16c36cf1b136"
      },
      "source": [
        "show_random_elements(train_dataset.remove_columns([\"path\"]), num_examples=20)"
      ],
      "execution_count": null,
      "outputs": [
        {
          "output_type": "display_data",
          "data": {
            "text/html": [
              "<table border=\"1\" class=\"dataframe\">\n",
              "  <thead>\n",
              "    <tr style=\"text-align: right;\">\n",
              "      <th></th>\n",
              "      <th>text</th>\n",
              "    </tr>\n",
              "  </thead>\n",
              "  <tbody>\n",
              "    <tr>\n",
              "      <th>0</th>\n",
              "      <td>ತತ್ತ್ವಗಳನ್ನು ಸಂಖ್ಯಾನ ಮಾಡುವ ಪದ್ಧತಿ ಈ ನಿಕಾಯದಲ್ಲಿ ಆರಂಭವಾಗಿ ಅಭಿದಮ್ಮಪಿಟಕದಲ್ಲಿ ಬೆಳೆಯಿತು.</td>\n",
              "    </tr>\n",
              "    <tr>\n",
              "      <th>1</th>\n",
              "      <td>ಈ ರೀತಿ ಕಮಲಕ್ಕೆ ಹೋಲಿಸುವುದು ಆಯುರ್ವೇದ ಗ್ರಂಥಗಳಲ್ಲಿ ಸಾಮಾನ್ಯ</td>\n",
              "    </tr>\n",
              "    <tr>\n",
              "      <th>2</th>\n",
              "      <td>ವ್ಯವಸಾಯ ಹದಿನೈದು ದಿನಗಳಲ್ಲಿ ಮುಗಿಯಬೇಕು.</td>\n",
              "    </tr>\n",
              "    <tr>\n",
              "      <th>3</th>\n",
              "      <td>ಈ ಪ್ರಸ್ತಾಪವನ್ನು ಅವಿರೋಧವಾಗಿ ನೂರು ಮಹಿಳೆಯರು ಹದಿನೇಳು ದೇಶಗಳಿಂದ ಸಹಕರಿಸಿದರು</td>\n",
              "    </tr>\n",
              "    <tr>\n",
              "      <th>4</th>\n",
              "      <td>ಈ ಉದ್ಯಮವು ಪರಿಸರದ ಮೇಲೆ ಮಾರಕ ಪರಿಣಾಮವನ್ನುಂಟು ಮಾಡುತಿದೆ.</td>\n",
              "    </tr>\n",
              "    <tr>\n",
              "      <th>5</th>\n",
              "      <td>ಬಸವಣ್ಣನವರ ವಚನ ಸದಾಚಾರವೇ ಅಂತಃಶುದ್ಧಿಯ ಅಡಿಗಲ್ಲೆಂಬ ವಿಷಯವನ್ನು ಸ್ಪಷ್ಟಪಡಿಸುತ್ತದೆ.</td>\n",
              "    </tr>\n",
              "    <tr>\n",
              "      <th>6</th>\n",
              "      <td>ಭೂಮಿಯ ವಿದ್ಯುತ್ಕಾಂತೀಯ ಕ್ಷೇತ್ರವು ಪೃಥ್ವಿಯ ನಿಕಟವರ್ತಿ ಕಕ್ಷೆಯಲ್ಲಿನ ಸೂರ್ಯನ ಮತ್ತು ಇತರ ವಿಕಿರಣಗಳಿಂದ ಬಹುಪಾಲು ವಾಯುಮಂಡಲದಷ್ಟೇ ಸುರಕ್ಷತೆಯನ್ನು ಒದಗಿಸುತ್ತದೆ</td>\n",
              "    </tr>\n",
              "    <tr>\n",
              "      <th>7</th>\n",
              "      <td>ಸೂಕ್ಷ್ಮ ಗುರುತ್ವದಲ್ಲಿ ನಡೆಸುವ ಸ್ರವಿಯ ಭೌತಶಾಸ್ತ್ರದ ಪರೀಕ್ಷೆಯು ಒಳಗೊಂಡಿದೆ</td>\n",
              "    </tr>\n",
              "    <tr>\n",
              "      <th>8</th>\n",
              "      <td>ಮುನ್ನೂರು ಗಜಗಳಲ್ಲಿ</td>\n",
              "    </tr>\n",
              "    <tr>\n",
              "      <th>9</th>\n",
              "      <td>ಪ್ರತಿಯೊಂದು ಸಮಾಜವಾದಿ ಪಕ್ಷವೂ ಯುದ್ಧನಿವಾರಣೆಯ ಕಾರ್ಯದಲ್ಲಿ ಆಸಕ್ತಿಗೊಂಡಿತು.</td>\n",
              "    </tr>\n",
              "    <tr>\n",
              "      <th>10</th>\n",
              "      <td>ಅವರ ತಂದೆ ಪದಕ ದೂರ ಎಸೆದರು ಮತ್ತು ಸ್ಕೇಟಿಂಗ್ ಮರೆತು ಕ್ರಿಕೆಟ್ ಗಮನ ತಿಳಿಸಿದನು.</td>\n",
              "    </tr>\n",
              "    <tr>\n",
              "      <th>11</th>\n",
              "      <td>ಅಂತಿಮವಾಗಿ 36 ಅಧಿನಿಯಮವು ಪರ್ಮನಂಟ್ ಕೋರ್ಟ್ ಆಫ್ ಇಂಟರ್ ನ್ಯಾಶನಲ್ ಜಸ್ಟಿಸ್ ಶಾಸನಬದ್ದ ನಿಯಮಗಳಡಿ ತನ್ನ ಘೋಷಣೆಯನ್ನು ಪುನರ್ ಪರಿಶೀಲಿಸಿತು.</td>\n",
              "    </tr>\n",
              "    <tr>\n",
              "      <th>12</th>\n",
              "      <td>ಇದರ ಮೇಲ್ಭಾಗ ಜಲಮಟ್ಟ.</td>\n",
              "    </tr>\n",
              "    <tr>\n",
              "      <th>13</th>\n",
              "      <td>ಈ ಮೇಲಿನ ಮಾದರಿಗಳಿಗೆ ಕಷ್ಟಕರವಾಗಿದ್ದದನ್ನು ವ್ಯಾಪಾರದ ಆಧುನಿಕ ಸಿದ್ಧಾಂತವು ಎರಡು ಪ್ರಮುಖ ಮಾದರಿಮೂಲಕ ವ್ಯಾಪಾರದ ಅನೇಕ ಅಂಶಗಳ ಕುರಿತು ಮಾಹಿತಿನೀಡುತ್ತದೆ.</td>\n",
              "    </tr>\n",
              "    <tr>\n",
              "      <th>14</th>\n",
              "      <td>ಇದೇ ರೀತಿ ಮಿಕ್ಕ ಧಮನಿಗಳು.</td>\n",
              "    </tr>\n",
              "    <tr>\n",
              "      <th>15</th>\n",
              "      <td>ಆದರೆ ಇದುವರೆಗೂ ಮಾಡಿಲ್ಲ.</td>\n",
              "    </tr>\n",
              "    <tr>\n",
              "      <th>16</th>\n",
              "      <td>ಇವುಗಳಲ್ಲಿ ನಾಲ್ಕೈದು ಸಂಕೇತಗಳನ್ನು ಮಾತ್ರ ಉಪಯೋಗಿಸಲಾಗಿದ್ದು</td>\n",
              "    </tr>\n",
              "    <tr>\n",
              "      <th>17</th>\n",
              "      <td>ಉಷ್ಣತೆಯ ಪ್ರಮಾಣ ಮತ್ತು ಚಿಕಿತ್ಸೆಗೆ ಬೇಕಾಗುವ ಕಾಲ ಬೇರೆ ಬೇರೆ ಸಸ್ಯಗಳಲ್ಲಿ ಬೇರೆ ಬೇರೆಯಾಗಿರಬಹುದು.</td>\n",
              "    </tr>\n",
              "    <tr>\n",
              "      <th>18</th>\n",
              "      <td>ಇವು ಹಸ್ತಪಾದಗಳಲ್ಲಿ ಉಗುರುಗಳವರೆಗೆ ಹೋಗುತ್ತವೆಂಬುದನ್ನು ಒಪ್ಪಬಹುದು.</td>\n",
              "    </tr>\n",
              "    <tr>\n",
              "      <th>19</th>\n",
              "      <td>ಗ್ರಂಥಾಲಯ ಹಾಗೂ ಮಾಹಿತಿ ಕೇಂದ್ರವು ಅತ್ಯುನ್ನತ ಡಿಜಿಟಲ್ ಗ್ರಂಥಾಲಯ ಮತ್ತು ಸಾವಿರಾರು ಎಲ್ಲ ವಿಭಾಗದ ಪುಸ್ತಕಗಳನ್ನು ಹೊಂದಿದೆ</td>\n",
              "    </tr>\n",
              "  </tbody>\n",
              "</table>"
            ],
            "text/plain": [
              "<IPython.core.display.HTML object>"
            ]
          },
          "metadata": {
            "tags": []
          }
        }
      ]
    },
    {
      "cell_type": "markdown",
      "metadata": {
        "id": "ksIaXJXG080j"
      },
      "source": [
        "We can see that the transcriptions contain some special characters, such as `,.?!;:`. Without a language model, it is much harder to classify speech chunks to such special characters because they don't really correspond to a characteristic sound unit. *E.g.*, the letter `\"s\"` has a more or less clear sound, whereas the special character `\".\"` does not.\n",
        "Also in order to understand the meaning of a speech signal, it is usually not necessary to include special characters in the transcription.\n",
        "\n",
        "In addition, we normalize the text to only have lower case letters and append a word separator token at the end."
      ]
    },
    {
      "cell_type": "code",
      "metadata": {
        "id": "riTI_n4nV6z6"
      },
      "source": [
        "import re\n",
        "chars_to_ignore_regex = '[\\,\\?\\.\\!\\-\\;\\:\\\"\\“\\%\\‘\\”\\�\\–\\…]'\n",
        "\n",
        "def remove_special_characters(batch):\n",
        "    batch[\"text\"] = re.sub(chars_to_ignore_regex, '', batch[\"text\"]).lower() + \" \"\n",
        "    return batch"
      ],
      "execution_count": null,
      "outputs": []
    },
    {
      "cell_type": "code",
      "metadata": {
        "colab": {
          "base_uri": "https://localhost:8080/",
          "height": 116,
          "referenced_widgets": [
            "d60185396b5742bbb771c88deda07a55",
            "52c99190aa7c4871887ac3af8e2f394e",
            "133a99c8a30f4c3ba9b62617bc632414",
            "7f2374efb68b4d6080f63a8c870a64e9",
            "e7109b89d1b64221bc7e5f017d350fcc",
            "f74c2acba6b54b7aac76f89c4271a86e",
            "733d0993ea6e422593942a48aa62b7a7",
            "3581a54910ae428c83557cb19e91e824",
            "8d328b01136e4defa2e2f20f5ded224a",
            "3392e5bb1f3c4535afe41adfba71d872",
            "61ea088abfb34ccd9d04da199c292d0e",
            "44b904e1766f4a0eb3618ca23ec010dd",
            "890d64dcaa6545a7915033367ce15ddb",
            "3f15d07dca8d4ef3aaf7ed60a9eaec0b",
            "920e6f8f339d4bd9907a50fec7a115f8",
            "b010c382ec9b4f18b184fa1261fabef4",
            "44716e82bfb74c5ebd4375b191b7cdbe",
            "d32e076e8dd346d4832c5903fdcfc264"
          ]
        },
        "id": "w0ce_skUX67j",
        "outputId": "dd8a4032-6928-46ee-a1e7-d92c08a27d23"
      },
      "source": [
        "train_dataset = train_dataset.map(remove_special_characters)\n",
        "test_dataset = test_dataset.map(remove_special_characters)"
      ],
      "execution_count": null,
      "outputs": [
        {
          "output_type": "display_data",
          "data": {
            "application/vnd.jupyter.widget-view+json": {
              "model_id": "44716e82bfb74c5ebd4375b191b7cdbe",
              "version_major": 2,
              "version_minor": 0
            },
            "text/plain": [
              "HBox(children=(FloatProgress(value=0.0, max=3960.0), HTML(value='')))"
            ]
          },
          "metadata": {
            "tags": []
          }
        },
        {
          "output_type": "stream",
          "text": [
            "\n"
          ],
          "name": "stdout"
        },
        {
          "output_type": "display_data",
          "data": {
            "application/vnd.jupyter.widget-view+json": {
              "model_id": "d32e076e8dd346d4832c5903fdcfc264",
              "version_major": 2,
              "version_minor": 0
            },
            "text/plain": [
              "HBox(children=(FloatProgress(value=0.0, max=440.0), HTML(value='')))"
            ]
          },
          "metadata": {
            "tags": []
          }
        },
        {
          "output_type": "stream",
          "text": [
            "\n"
          ],
          "name": "stdout"
        }
      ]
    },
    {
      "cell_type": "code",
      "metadata": {
        "colab": {
          "base_uri": "https://localhost:8080/",
          "height": 363
        },
        "id": "GOSU5SSUX7hG",
        "outputId": "fa861229-a147-41b8-a0cd-d5dba3a16660"
      },
      "source": [
        "show_random_elements(test_dataset.remove_columns([\"path\"]))"
      ],
      "execution_count": null,
      "outputs": [
        {
          "output_type": "display_data",
          "data": {
            "text/html": [
              "<table border=\"1\" class=\"dataframe\">\n",
              "  <thead>\n",
              "    <tr style=\"text-align: right;\">\n",
              "      <th></th>\n",
              "      <th>text</th>\n",
              "    </tr>\n",
              "  </thead>\n",
              "  <tbody>\n",
              "    <tr>\n",
              "      <th>0</th>\n",
              "      <td>ಸಾಫ್ಟ್ ವೇರ್  ಅಂತರಿಕ್ಷಯಾನದ ಬಳಕೆಗಾಗಿ ಕಂಪ್ಯೂಟರ್ ಸಾಫ್ಟ್ ವೇರ್ ನ ನಿರ್ದಿಷ್ಟ ವಿಶ್ಲೇಷಣೆ ಮಾಡಲಾಗುತ್ತದೆ</td>\n",
              "    </tr>\n",
              "    <tr>\n",
              "      <th>1</th>\n",
              "      <td>ಇನ್ನೂರು ಗಜಗಳಲ್ಲಿ</td>\n",
              "    </tr>\n",
              "    <tr>\n",
              "      <th>2</th>\n",
              "      <td>ಸಾಮಾನ್ಯವಾಗಿ ಅಂತರರಾಷ್ಟ್ರೀಯ ಹಣಕಾಸು ನಿಧಿ ಹಾಗೂ ಅದರ ಬೆಂಬಲಿಗರು ವಿತ್ತೀಯ ನಿಯಂತ್ರಣವನ್ನು ಆಚರಣೆಗೆ ತರಬೇಕೆಂದು ಹೇಳುತ್ತಾರೆ</td>\n",
              "    </tr>\n",
              "    <tr>\n",
              "      <th>3</th>\n",
              "      <td>ಇದಕ್ಕೆ ಸಂಬಂಧಪಟ್ಟ ವಿಷಯಗಳು ಘಟಕಗಳ ಮಾಲೀಕತ್ವ</td>\n",
              "    </tr>\n",
              "    <tr>\n",
              "      <th>4</th>\n",
              "      <td>ಆದರೆ ಇದರಿಂದ ಯಾವುದಕ್ಕೂ ತೊಂದರೆಯುಂಟಾಗಲಿಲ್ಲ</td>\n",
              "    </tr>\n",
              "    <tr>\n",
              "      <th>5</th>\n",
              "      <td>ಈ ಎರಡೂ ವ್ಯವಹಾರಗಳ ನಡುವೆ ಅನೇಕ ವಿಷಯಗಳಲ್ಲಿ ವ್ಯತ್ಯಾಸಗಳಿವೆ</td>\n",
              "    </tr>\n",
              "    <tr>\n",
              "      <th>6</th>\n",
              "      <td>ಫ್ರಾಂಕೋ ಪರ್ಷಿಯ ಯುದ್ಧ</td>\n",
              "    </tr>\n",
              "    <tr>\n",
              "      <th>7</th>\n",
              "      <td>ಐದುನೂರು ಅಡಿಗಳಲ್ಲಿ</td>\n",
              "    </tr>\n",
              "    <tr>\n",
              "      <th>8</th>\n",
              "      <td>ಗ್ರಾಮೀಣ ಬಡ ಜನರಿಗಾಗಿ ಕಡಿಮೆ ಪ್ರೀಮಿಯಂ ಇರುವ ಆಕರ್ಷಕ ವಿಮಾ ಯೋಜನೆಗಳು</td>\n",
              "    </tr>\n",
              "    <tr>\n",
              "      <th>9</th>\n",
              "      <td>ಟ್ರಯಲ್ ನಿಬಂಧನೆಗಳು ಒಂದು ಪರ್ಯಾಯ ನಿಯಮವನ್ನೂ ಪರಿಚಯಿಸಿದೆ</td>\n",
              "    </tr>\n",
              "  </tbody>\n",
              "</table>"
            ],
            "text/plain": [
              "<IPython.core.display.HTML object>"
            ]
          },
          "metadata": {
            "tags": []
          }
        }
      ]
    },
    {
      "cell_type": "markdown",
      "metadata": {
        "id": "kR000QMn1CP3"
      },
      "source": [
        "Good! This looks better. We have removed most special characters from transcriptions and normalized them to lower-case only.\n",
        "\n",
        "In CTC, it is common to classify speech chunks into letters, so we will do the same here. \n",
        "Let's extract all distinct letters of the training and test data and build our vocabulary from this set of letters.\n",
        "\n",
        "We write a mapping function that concatenates all transcriptions into one long transcription and then transforms the string into a set of chars. \n",
        "It is important to pass the argument `batched=True` to the `map(...)` function so that the mapping function has access to all transcriptions at once."
      ]
    },
    {
      "cell_type": "code",
      "metadata": {
        "id": "8UO7vkrIX8hC"
      },
      "source": [
        "def extract_all_chars(batch):\n",
        "  all_text = \" \".join(batch[\"text\"])\n",
        "  vocab = list(set(all_text))\n",
        "  return {\"vocab\": [vocab], \"all_text\": [all_text]}"
      ],
      "execution_count": null,
      "outputs": []
    },
    {
      "cell_type": "code",
      "metadata": {
        "colab": {
          "base_uri": "https://localhost:8080/",
          "height": 116,
          "referenced_widgets": [
            "89b75b747a6f462eaf492fbcaa589e9a",
            "90bf39f3395142a7a75244f8fdca0fd0",
            "6f3b81ee074041c89b70a36da62f2b6a",
            "572bf0b392b7482d8a4fadbd62d9480c",
            "c161d1badc9a42e49dbb7a46705e9589",
            "d284cb3c459f4b73ad5302d71d737f34",
            "192e8b38267841998c4321f17f103cd5",
            "e66d7d7744784772b996a65d58a1b465",
            "afc3b9bd583c411d8bd0faa5b41c1f45",
            "54dec72f0a3d49f899c4254a65d95893",
            "68780c8f774d4dcabc7e4f39aff9be24",
            "653143f6a4ae4efebacee55f8e114ff0",
            "15c4757a022746d8b14f2ffb42c394e2",
            "447854b7d156485c8a31c4cb632cc5a3",
            "22c8c82902af470d83c0c5ea50af8d5d",
            "c3a7995f994b4d6ebf35c67af80591e2",
            "cca3931f22a24fc6a7a9676f38697ce7",
            "03b382e806334661b3449f4851a0a0c4"
          ]
        },
        "id": "909Io-pMYofl",
        "outputId": "ea578f14-312e-426c-f334-b80fd9dd31e8"
      },
      "source": [
        "vocab_train = train_dataset.map(extract_all_chars, batched=True, batch_size=-1, keep_in_memory=True, remove_columns=train_dataset.column_names)\n",
        "vocab_test = test_dataset.map(extract_all_chars, batched=True, batch_size=-1, keep_in_memory=True, remove_columns=test_dataset.column_names)"
      ],
      "execution_count": null,
      "outputs": [
        {
          "output_type": "display_data",
          "data": {
            "application/vnd.jupyter.widget-view+json": {
              "model_id": "cca3931f22a24fc6a7a9676f38697ce7",
              "version_major": 2,
              "version_minor": 0
            },
            "text/plain": [
              "HBox(children=(FloatProgress(value=0.0, max=1.0), HTML(value='')))"
            ]
          },
          "metadata": {
            "tags": []
          }
        },
        {
          "output_type": "stream",
          "text": [
            "\n"
          ],
          "name": "stdout"
        },
        {
          "output_type": "display_data",
          "data": {
            "application/vnd.jupyter.widget-view+json": {
              "model_id": "03b382e806334661b3449f4851a0a0c4",
              "version_major": 2,
              "version_minor": 0
            },
            "text/plain": [
              "HBox(children=(FloatProgress(value=0.0, max=1.0), HTML(value='')))"
            ]
          },
          "metadata": {
            "tags": []
          }
        },
        {
          "output_type": "stream",
          "text": [
            "\n"
          ],
          "name": "stdout"
        }
      ]
    },
    {
      "cell_type": "markdown",
      "metadata": {
        "id": "b-mvxtP51EQZ"
      },
      "source": [
        "Now, we create the union of all distinct letters in the training dataset and test dataset and convert the resulting list into an enumerated dictionary."
      ]
    },
    {
      "cell_type": "code",
      "metadata": {
        "id": "DfB5pExeYpI-"
      },
      "source": [
        "vocab_list = list(set(vocab_train[\"vocab\"][0])| set(vocab_test[\"vocab\"][0]))"
      ],
      "execution_count": null,
      "outputs": []
    },
    {
      "cell_type": "code",
      "metadata": {
        "colab": {
          "base_uri": "https://localhost:8080/"
        },
        "id": "HVzXHvfrYqzJ",
        "outputId": "395c6a12-17d4-4e5f-89f4-87ad325f5a61"
      },
      "source": [
        "vocab_dict = {v: k for k, v in enumerate(vocab_list)}\n",
        "vocab_dict"
      ],
      "execution_count": null,
      "outputs": [
        {
          "output_type": "execute_result",
          "data": {
            "text/plain": [
              "{'6': 0,\n",
              " '೨': 1,\n",
              " 'ೇ': 2,\n",
              " 'ಛ': 3,\n",
              " 'ಿ': 4,\n",
              " 'ಞ': 5,\n",
              " 'ಊ': 6,\n",
              " '೧': 7,\n",
              " 'ಾ': 8,\n",
              " 'n': 9,\n",
              " \"'\": 10,\n",
              " 'ಆ': 11,\n",
              " '೯': 12,\n",
              " '/': 13,\n",
              " '2': 14,\n",
              " 'ಉ': 15,\n",
              " 'ಂ': 16,\n",
              " '8': 17,\n",
              " 'ಢ': 18,\n",
              " '೪': 19,\n",
              " '೮': 20,\n",
              " 'ಲ': 21,\n",
              " 'ೌ': 22,\n",
              " 'ಙ': 23,\n",
              " 'ವ': 24,\n",
              " 'ಬ': 25,\n",
              " 'ಧ': 26,\n",
              " 'ಗ': 27,\n",
              " 'ೋ': 28,\n",
              " 'ಳ': 29,\n",
              " 'e': 30,\n",
              " 'u': 31,\n",
              " 'ಥ': 32,\n",
              " 'ಭ': 33,\n",
              " 'ಚ': 34,\n",
              " '೩': 35,\n",
              " 'ಖ': 36,\n",
              " '’': 37,\n",
              " 'ಓ': 38,\n",
              " 'ಠ': 39,\n",
              " 'ಈ': 40,\n",
              " 'ಕ': 41,\n",
              " 'ಔ': 42,\n",
              " 'ು': 43,\n",
              " ' ': 44,\n",
              " 'ಋ': 45,\n",
              " 'ತ': 46,\n",
              " 'ಐ': 47,\n",
              " 'ೀ': 48,\n",
              " 'ೆ': 49,\n",
              " 'ಮ': 50,\n",
              " 'ಘ': 51,\n",
              " '೫': 52,\n",
              " 'ೃ': 53,\n",
              " '\\u200c': 54,\n",
              " 'ೈ': 55,\n",
              " '೬': 56,\n",
              " '5': 57,\n",
              " 'ಷ': 58,\n",
              " 't': 59,\n",
              " '1': 60,\n",
              " '\\u200d': 61,\n",
              " '_': 62,\n",
              " 'ಏ': 63,\n",
              " 'r': 64,\n",
              " 'ದ': 65,\n",
              " 'ರ': 66,\n",
              " 'x': 67,\n",
              " 'ಇ': 68,\n",
              " '್': 69,\n",
              " '7': 70,\n",
              " '೭': 71,\n",
              " '(': 72,\n",
              " 'ಫ': 73,\n",
              " 'ನ': 74,\n",
              " 'ೊ': 75,\n",
              " 'ೂ': 76,\n",
              " 'ಅ': 77,\n",
              " 'ಪ': 78,\n",
              " 'ಝ': 79,\n",
              " ')': 80,\n",
              " 'ಜ': 81,\n",
              " 'ಒ': 82,\n",
              " 'ಯ': 83,\n",
              " '೦': 84,\n",
              " '3': 85,\n",
              " '4': 86,\n",
              " 'l': 87,\n",
              " 'ಶ': 88,\n",
              " 'ಣ': 89,\n",
              " 'ಟ': 90,\n",
              " 'ಎ': 91,\n",
              " 'ಸ': 92,\n",
              " 'ಹ': 93,\n",
              " 'ಃ': 94,\n",
              " '0': 95,\n",
              " 'i': 96,\n",
              " '9': 97,\n",
              " 'ಡ': 98}"
            ]
          },
          "metadata": {
            "tags": []
          },
          "execution_count": 27
        }
      ]
    },
    {
      "cell_type": "markdown",
      "metadata": {
        "id": "6AnH5roc1H3Y"
      },
      "source": [
        "Cool, we see that all letters of the Devanagri occur in the dataset (which is not really surprising) and we also extracted the special character `\" \"`. Note that we did not exclude those special characters because: \n",
        "\n",
        "- The model has to learn to predict when a word is finished or else the model prediction would always be a sequence of chars which would make it impossible to separate words from each other.\n",
        "\n",
        "One should always keep in mind that the data-preprocessing is a very important step before training your model. E.g., we don't want our model to differentiate between `a` and `A` just because we forgot to normalize the data. The difference between `a` and `A` does not depend on the \"sound\" of the letter at all, but more on grammatical rules - *e.g.* use a capitalized letter at the beginning of the sentence. So it is sensible to remove the difference between capitalized and non-capitalized letters so that the model has an easier time learning to transcribe speech. \n",
        "\n",
        "It is always advantageous to get help from a native speaker of the language you would like to transcribe to verify whether the assumptions you made are sensible."
      ]
    },
    {
      "cell_type": "markdown",
      "metadata": {
        "id": "M_icq3IR1bxO"
      },
      "source": [
        "To make it clearer that `\" \"` has its own token class, we give it a more visible character `|`. In addition, we also add an \"unknown\" token so that the model can later deal with characters not encountered in training set. \n",
        "\n",
        "Finally, we also add a padding token that corresponds to CTC's \"*blank token*\". The \"blank token\" is a core component of the CTC algorithm. For more information, please take a look at the \"Alignment\" section [here](https://distill.pub/2017/ctc/)."
      ]
    },
    {
      "cell_type": "code",
      "metadata": {
        "id": "0kB9tHYOYrfv"
      },
      "source": [
        "vocab_dict[\"|\"] = vocab_dict[\" \"]\n",
        "del vocab_dict[\" \"]"
      ],
      "execution_count": null,
      "outputs": []
    },
    {
      "cell_type": "code",
      "metadata": {
        "colab": {
          "base_uri": "https://localhost:8080/"
        },
        "id": "L6uveajWb-Xa",
        "outputId": "0aac21cc-5755-419d-fee5-bdb2f94bb46c"
      },
      "source": [
        "vocab_dict[\"[UNK]\"] = len(vocab_dict)\n",
        "vocab_dict[\"[PAD]\"] = len(vocab_dict)\n",
        "len(vocab_dict)"
      ],
      "execution_count": null,
      "outputs": [
        {
          "output_type": "execute_result",
          "data": {
            "text/plain": [
              "101"
            ]
          },
          "metadata": {
            "tags": []
          },
          "execution_count": 29
        }
      ]
    },
    {
      "cell_type": "markdown",
      "metadata": {
        "id": "R4Sdc5RI1qth"
      },
      "source": [
        "Cool, now our vocabulary is complete and consists of 101 tokens, which means that the linear layer that we will add on top of the pretrained XLSR-Wav2Vec2 checkpoint will have an output dimension of 101."
      ]
    },
    {
      "cell_type": "markdown",
      "metadata": {
        "id": "J8-IBtQx1umI"
      },
      "source": [
        "Let's now save the vocabulary as a json file."
      ]
    },
    {
      "cell_type": "code",
      "metadata": {
        "id": "6zc5OYMBcFTv"
      },
      "source": [
        "import json\n",
        "with open('vocab.json', 'w') as vocab_file:\n",
        "    json.dump(vocab_dict, vocab_file)"
      ],
      "execution_count": null,
      "outputs": []
    },
    {
      "cell_type": "markdown",
      "metadata": {
        "id": "U71NEki21wFO"
      },
      "source": [
        "In a final step, we use the json file to instantiate an object of the `Wav2Vec2CTCTokenizer` class."
      ]
    },
    {
      "cell_type": "code",
      "metadata": {
        "id": "vq4lHvMicJzQ"
      },
      "source": [
        "from transformers import Wav2Vec2CTCTokenizer\n",
        "\n",
        "tokenizer = Wav2Vec2CTCTokenizer(\"./vocab.json\", unk_token=\"[UNK]\", pad_token=\"[PAD]\", word_delimiter_token=\"|\")"
      ],
      "execution_count": null,
      "outputs": []
    },
    {
      "cell_type": "markdown",
      "metadata": {
        "id": "9IjN-dSP1x1a"
      },
      "source": [
        "Next, we will create the feature extractor."
      ]
    },
    {
      "cell_type": "markdown",
      "metadata": {
        "id": "1-dm8R9N1zFQ"
      },
      "source": [
        "### Create XLSR-Wav2Vec2 Feature Extractor"
      ]
    },
    {
      "cell_type": "markdown",
      "metadata": {
        "id": "OdAWWVQo10mL"
      },
      "source": [
        "Speech is a continuous signal and to be treated by computers, it first has to be discretized, which is usually called **sampling**. The sampling rate hereby plays an important role in that it defines how many data points of the speech signal are measured per second. Therefore, sampling with a higher sampling rate results in a better approximation of the *real* speech signal but also necessitates more values per second.\n",
        "\n",
        "A pretrained checkpoint expects its input data to have been sampled more or less from the same distribution as the data it was trained on. The same speech signals sampled at two different rates have a very different distribution, *e.g.*, doubling the sampling rate results in data points being twice as long. Thus, \n",
        "before fine-tuning a pretrained checkpoint of an ASR model, it is crucial to verify that the sampling rate of the data that was used to pretrain the model matches the sampling rate of the dataset used to fine-tune the model.\n",
        "\n",
        "XLSR-Wav2Vec2 was pretrained on the audio data of [Babel](https://huggingface.co/datasets/librispeech_asr), \n",
        "[Multilingual LibriSpeech (MLS)](https://ai.facebook.com/blog/a-new-open-data-set-for-multilingual-speech-research/), and [Common Voice](https://huggingface.co/datasets/common_voice). Most of those datasets were sampled at 16kHz, so that Common Voice, sampled at 48kHz, has to be downsampled to 16kHz for training. Therefore, we will have to downsample our fine-tuning data to 16kHz in the following.\n",
        "\n"
      ]
    },
    {
      "cell_type": "markdown",
      "metadata": {
        "id": "fq6bx3aK131M"
      },
      "source": [
        "A XLSR-Wav2Vec2 feature extractor object requires the following parameters to be instantiated:\n",
        "\n",
        "- `feature_size`: Speech models take a sequence of feature vectors as an input. While the length of this sequence obviously varies, the feature size should not. In the case of Wav2Vec2, the feature size is 1 because the model was trained on the raw speech signal ${}^2$.\n",
        "- `sampling_rate`: The sampling rate at which the model is trained on.\n",
        "- `padding_value`: For batched inference, shorter inputs need to be padded with a specific value\n",
        "- `do_normalize`: Whether the input should be *zero-mean-unit-variance* normalized or not. Usually, speech models perform better when normalizing the input\n",
        "- `return_attention_mask`: Whether the model should make use of an `attention_mask` for batched inference. In general, XLSR-Wav2Vec2 models should **always** make use of the `attention_mask`."
      ]
    },
    {
      "cell_type": "code",
      "metadata": {
        "id": "NWs4QgI9cMDI"
      },
      "source": [
        "from transformers import Wav2Vec2FeatureExtractor\n",
        "\n",
        "feature_extractor = Wav2Vec2FeatureExtractor(feature_size=1, sampling_rate=16000, padding_value=0.0, do_normalize=True, return_attention_mask=True)"
      ],
      "execution_count": null,
      "outputs": []
    },
    {
      "cell_type": "markdown",
      "metadata": {
        "id": "OImXd4zn15tq"
      },
      "source": [
        "Great, XLSR-Wav2Vec2's feature extraction pipeline is thereby fully defined!\n",
        "\n",
        "To make the usage of XLSR-Wav2Vec2 as user-friendly as possible, the feature extractor and tokenizer are *wrapped* into a single `Wav2Vec2Processor` class so that one only needs a `model` and `processor` object."
      ]
    },
    {
      "cell_type": "code",
      "metadata": {
        "id": "Wu3g6v8kcPmZ"
      },
      "source": [
        "from transformers import Wav2Vec2Processor\n",
        "\n",
        "processor = Wav2Vec2Processor(feature_extractor=feature_extractor, tokenizer=tokenizer)"
      ],
      "execution_count": null,
      "outputs": []
    },
    {
      "cell_type": "markdown",
      "metadata": {
        "id": "lQjdd5Zd17Zj"
      },
      "source": [
        "If one wants to re-use the just created processor and the fine-tuned model of this notebook, one can mount his/her google drive to the notebook and save all relevant files there. To do so, please uncomment the following lines. \n",
        "\n",
        "We will give the fine-tuned model the name `\"wav2vec2-large-xlsr-kn\"`."
      ]
    },
    {
      "cell_type": "code",
      "metadata": {
        "id": "XMPAt79vdMie"
      },
      "source": [
        "processor.save_pretrained(\"container_0/wav2vec2-large-xlsr-kn\")"
      ],
      "execution_count": null,
      "outputs": []
    },
    {
      "cell_type": "markdown",
      "metadata": {
        "id": "3xH4S8JN1_i1"
      },
      "source": [
        "Next, we can prepare the dataset."
      ]
    },
    {
      "cell_type": "markdown",
      "metadata": {
        "id": "a8VKcT3k2Aq-"
      },
      "source": [
        "### Preprocess Data\n",
        "\n",
        "So far, we have not looked at the actual values of the speech signal but just kept the path to its file in the dataset. `XLSR-Wav2Vec2` expects the audio file in the format of a 1-dimensional array, so in the first step, let's load all audio files into the dataset object.\n"
      ]
    },
    {
      "cell_type": "markdown",
      "metadata": {
        "id": "kGX9McsW2GUQ"
      },
      "source": [
        "The audio is present in `.wav` format. We use `torchaudio` here to load the file.\n",
        "\n",
        "An audio file usually stores both its values and the sampling rate with which the speech signal was digitalized. We want to store both in the dataset and write a `map(...)` function accordingly."
      ]
    },
    {
      "cell_type": "code",
      "metadata": {
        "id": "1KXpESQw9JfT",
        "outputId": "bed6e69a-7324-4f2b-ca37-c3ea02e441d0"
      },
      "source": [
        "import torchaudio\n",
        "\n",
        "def speech_file_to_array_fn(batch):\n",
        "    speech_array, sampling_rate = torchaudio.load(batch[\"path\"])\n",
        "    batch[\"speech\"] = speech_array[0].numpy()\n",
        "    batch[\"sampling_rate\"] = sampling_rate\n",
        "    batch[\"target_text\"] = batch[\"text\"]\n",
        "    return batch"
      ],
      "execution_count": null,
      "outputs": [
        {
          "output_type": "stream",
          "text": [
            "/opt/conda/lib/python3.7/site-packages/torchaudio/backend/utils.py:54: UserWarning: \"sox\" backend is being deprecated. The default backend will be changed to \"sox_io\" backend in 0.8.0 and \"sox\" backend will be removed in 0.9.0. Please migrate to \"sox_io\" backend. Please refer to https://github.com/pytorch/audio/issues/903 for the detail.\n",
            "  '\"sox\" backend is being deprecated. '\n"
          ],
          "name": "stderr"
        }
      ]
    },
    {
      "cell_type": "code",
      "metadata": {
        "colab": {
          "base_uri": "https://localhost:8080/",
          "height": 66,
          "referenced_widgets": [
            "6e01faa6031c4ad1984b94decc0ce50e",
            "be5572a25d094bd58cb3e3482e98a207",
            "b03514a133a6473398b74ee89ecb7d3f",
            "54f461263aea49699533a2c7c339e8e7",
            "f7884d5d7b9a427e946db359c82280e6",
            "e4a27ede1e2e487a8b3580dd5127fb7e",
            "3e31db744aa8427c8ca09ab1d64daffb",
            "3681f1e906ab44edb031cfaad24139d1",
            "2ebd41e214ac4f30ac840af9dc065d3c"
          ]
        },
        "id": "2HwwBKp99KdM",
        "outputId": "bec1e864-e606-4cd2-d56b-668941e83061"
      },
      "source": [
        "train_dataset = train_dataset.map(speech_file_to_array_fn, remove_columns=train_dataset.column_names)"
      ],
      "execution_count": null,
      "outputs": [
        {
          "output_type": "display_data",
          "data": {
            "application/vnd.jupyter.widget-view+json": {
              "model_id": "2ebd41e214ac4f30ac840af9dc065d3c",
              "version_major": 2,
              "version_minor": 0
            },
            "text/plain": [
              "HBox(children=(FloatProgress(value=0.0, max=3960.0), HTML(value='')))"
            ]
          },
          "metadata": {
            "tags": []
          }
        },
        {
          "output_type": "stream",
          "text": [
            "\n"
          ],
          "name": "stdout"
        }
      ]
    },
    {
      "cell_type": "code",
      "metadata": {
        "colab": {
          "base_uri": "https://localhost:8080/",
          "height": 66,
          "referenced_widgets": [
            "127b718e40594b4088da1ca085137078",
            "552ba78aff5245a4904f210d0a47fafa",
            "ea65fe2b7603482189913832a9817aa1",
            "71a5088fc1704a1484ad6263f9c9a531",
            "01772f021ef7442284dc0a9d7ed4d318",
            "fa2aa73b89b14598af0cefaccad1ee58",
            "5fee0752390f46c4b98fd3f9fa2a8a04",
            "499eec733bae4ca8b0cd58108ead8fca",
            "1af5258c8da4425791294b92aa7c4945"
          ]
        },
        "id": "CqRBSG2uQF7F",
        "outputId": "1d19e5e2-3fc0-4ec5-9cb8-2f8dc2b1d7fd"
      },
      "source": [
        "test_dataset = test_dataset.map(speech_file_to_array_fn, remove_columns=test_dataset.column_names)"
      ],
      "execution_count": null,
      "outputs": [
        {
          "output_type": "display_data",
          "data": {
            "application/vnd.jupyter.widget-view+json": {
              "model_id": "1af5258c8da4425791294b92aa7c4945",
              "version_major": 2,
              "version_minor": 0
            },
            "text/plain": [
              "HBox(children=(FloatProgress(value=0.0, max=440.0), HTML(value='')))"
            ]
          },
          "metadata": {
            "tags": []
          }
        },
        {
          "output_type": "stream",
          "text": [
            "\n"
          ],
          "name": "stdout"
        }
      ]
    },
    {
      "cell_type": "code",
      "metadata": {
        "colab": {
          "base_uri": "https://localhost:8080/"
        },
        "id": "KsjdtwuVZMhB",
        "outputId": "4cff765d-fb68-4cb8-ba49-0999b7e6e963"
      },
      "source": [
        "train_dataset[\"sampling_rate\"][:10]"
      ],
      "execution_count": null,
      "outputs": [
        {
          "output_type": "execute_result",
          "data": {
            "text/plain": [
              "[48000, 48000, 48000, 48000, 48000, 48000, 48000, 48000, 48000, 48000]"
            ]
          },
          "metadata": {
            "tags": []
          },
          "execution_count": 38
        }
      ]
    },
    {
      "cell_type": "markdown",
      "metadata": {
        "id": "7UmyXDwh2d0D"
      },
      "source": [
        "Great, now we've successfully read in all the audio files, but since we know that data is sampled at 48kHz, we need to resample the audio files to 16kHz. \n",
        "\n",
        "Let's make use of the [`librosa`](https://github.com/librosa/librosa) library to downsample the data."
      ]
    },
    {
      "cell_type": "code",
      "metadata": {
        "id": "AmfTR3ExcTZJ"
      },
      "source": [
        "import librosa\n",
        "import numpy as np\n",
        "\n",
        "def resample(batch):\n",
        "    batch[\"speech\"] = librosa.resample(np.asarray(batch[\"speech\"]), 48_000, 16_000)\n",
        "    batch[\"sampling_rate\"] = 16_000\n",
        "    return batch"
      ],
      "execution_count": null,
      "outputs": []
    },
    {
      "cell_type": "code",
      "metadata": {
        "colab": {
          "base_uri": "https://localhost:8080/",
          "height": 116,
          "referenced_widgets": [
            "abfa0b1618344c11b0abeb4105399f63",
            "6f84c8d818b6416c92c10ce94960c135",
            "09abf44ee59e45409a78846763ea53b1",
            "48391fe9fc3844f5970e02c3c3eb481c",
            "7d0c16259c2a48fe9869366a6e89ba15",
            "9b0cd76a65e04512b41be82e66bcbe60",
            "f994a774ee7244f3af49bca8b2409be0",
            "9b143dda6d78412498e371f48c113d13",
            "c81c92adf1394129b332181f7fd99cb7",
            "412d694550b84e35885f57f6fdd2e081",
            "e77d1d6f16c04d9686939873a0f9821f",
            "5980074bdbe44f7bb107c67d2bb45b3b",
            "f7fda90897fb4626ba39fe5c88850e73",
            "ed3e6fe93320440b8238b848659cc49b",
            "59a7ecb151f14df7b29ee30a539a37fb",
            "4bbcaf6ac446408fa9a912caab0d1c10",
            "e3f81c90b1cf4da3bda7ae53b5a210cf",
            "5048506975704915a1da59e68624ccf7"
          ]
        },
        "id": "D6jyVf5fcaTn",
        "outputId": "5da21e91-5538-43dc-bc3e-c3dc84112373"
      },
      "source": [
        "train_dataset = train_dataset.map(resample)\n",
        "test_dataset = test_dataset.map(resample)"
      ],
      "execution_count": null,
      "outputs": [
        {
          "output_type": "display_data",
          "data": {
            "application/vnd.jupyter.widget-view+json": {
              "model_id": "e3f81c90b1cf4da3bda7ae53b5a210cf",
              "version_major": 2,
              "version_minor": 0
            },
            "text/plain": [
              "HBox(children=(FloatProgress(value=0.0, max=3960.0), HTML(value='')))"
            ]
          },
          "metadata": {
            "tags": []
          }
        },
        {
          "output_type": "stream",
          "text": [
            "\n"
          ],
          "name": "stdout"
        },
        {
          "output_type": "display_data",
          "data": {
            "application/vnd.jupyter.widget-view+json": {
              "model_id": "5048506975704915a1da59e68624ccf7",
              "version_major": 2,
              "version_minor": 0
            },
            "text/plain": [
              "HBox(children=(FloatProgress(value=0.0, max=440.0), HTML(value='')))"
            ]
          },
          "metadata": {
            "tags": []
          }
        },
        {
          "output_type": "stream",
          "text": [
            "\n"
          ],
          "name": "stdout"
        }
      ]
    },
    {
      "cell_type": "markdown",
      "metadata": {
        "id": "HubeIdqS2khO"
      },
      "source": [
        "This seemed to have worked! Let's listen to a couple of audio files to better understand the dataset and verify that the audio was correctly loaded. \n",
        "\n",
        "**Note**: *You can click the following cell a couple of times to listen to different speech samples.*"
      ]
    },
    {
      "cell_type": "code",
      "metadata": {
        "colab": {
          "base_uri": "https://localhost:8080/",
          "height": 61
        },
        "id": "sxodssdzclj-",
        "outputId": "21a45ea5-5e16-4e4f-cddd-0a8875712cbc"
      },
      "source": [
        "import IPython.display as ipd\n",
        "import numpy as np\n",
        "import random\n",
        "\n",
        "rand_int = random.randint(0, len(train_dataset))\n",
        "\n",
        "ipd.Audio(data=np.asarray(train_dataset[rand_int][\"speech\"]), autoplay=True, rate=16000)"
      ],
      "execution_count": null,
      "outputs": [
        {
          "output_type": "execute_result",
          "data": {
            "text/html": [
              "\n",
              "                <audio  controls=\"controls\" autoplay=\"autoplay\">\n",
              "                    <source src=\"data:audio/wav;base64,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\" type=\"audio/wav\" />\n",
              "                    Your browser does not support the audio element.\n",
              "                </audio>\n",
              "              "
            ],
            "text/plain": [
              "<IPython.lib.display.Audio object>"
            ]
          },
          "metadata": {
            "tags": []
          },
          "execution_count": 41
        }
      ]
    },
    {
      "cell_type": "markdown",
      "metadata": {
        "id": "d98uJry52mE5"
      },
      "source": [
        "It can be heard, that the speakers change along with their speaking rate, accent, and background environment, etc. Overall, the recordings sound acceptably clear though, which is to be expected from a crowd-sourced read speech corpus.\n",
        "\n",
        "Let's do a final check that the data is correctly prepared, by printing the shape of the speech input, its transcription, and the corresponding sampling rate.\n",
        "\n",
        "**Note**: *You can click the following cell a couple of times to verify multiple samples.*"
      ]
    },
    {
      "cell_type": "code",
      "metadata": {
        "colab": {
          "base_uri": "https://localhost:8080/"
        },
        "id": "QDD1y4iwco0W",
        "outputId": "8b3781df-65c8-4094-abf5-77f60dd6550f"
      },
      "source": [
        "# rand_int = random.randint(0, len(common_voice_train))\n",
        "\n",
        "print(\"Target text:\", train_dataset[rand_int][\"target_text\"])\n",
        "print(\"Input array shape:\", np.asarray(train_dataset[rand_int][\"speech\"]).shape)\n",
        "print(\"Sampling rate:\", train_dataset[rand_int][\"sampling_rate\"])"
      ],
      "execution_count": null,
      "outputs": [
        {
          "output_type": "stream",
          "text": [
            "Target text: ಹೀಗೆ ಮಾಡುವುದರಿಂದ ದುರ್ಬಲ ಸ್ಥಾನಗಳಿಲ್ಲದೆ ಮೇಲಿನ ಮೈ ಎಲ್ಲವೂ ಸರಿಯಾಗಿ ಅಂಟಿಕೊಳ್ಳುವುದು \n",
            "Input array shape: (128342,)\n",
            "Sampling rate: 16000\n"
          ],
          "name": "stdout"
        }
      ]
    },
    {
      "cell_type": "markdown",
      "metadata": {
        "id": "1LZL7vLP2pNA"
      },
      "source": [
        "Good! Everything looks fine - the data is a 1-dimensional array, the sampling rate always corresponds to 16kHz, and the target text is normalized."
      ]
    },
    {
      "cell_type": "markdown",
      "metadata": {
        "id": "_anJJZj_2qWR"
      },
      "source": [
        "Finally, we can process the dataset to the format expected by the model for training. We will again make use of the `map(...)` function.\n",
        "\n",
        "First, we check that the data samples have the same sampling rate of 16kHz.\n",
        "Second, we extract the `input_values` from the loaded audio file. In our case, this includes only normalization, but for other speech models, this step could correspond to extracting, *e.g.* [Log-Mel features](https://en.wikipedia.org/wiki/Mel-frequency_cepstrum). \n",
        "Third, we encode the transcriptions to label ids.\n",
        "\n",
        "**Note**: This mapping function is a good example of how the `Wav2Vec2Processor` class should be used. In \"normal\" context, calling `processor(...)` is redirected to `Wav2Vec2FeatureExtractor`'s call method. When wrapping the processor into the `as_target_processor` context, however, the same method is redirected to `Wav2Vec2CTCTokenizer`'s call method.\n",
        "For more information please check the [docs](https://huggingface.co/transformers/master/model_doc/wav2vec2.html#transformers.Wav2Vec2Processor.__call__)."
      ]
    },
    {
      "cell_type": "code",
      "metadata": {
        "id": "jTOZHvE_csvZ"
      },
      "source": [
        "def prepare_dataset(batch):\n",
        "    # check that all files have the correct sampling rate\n",
        "    assert (\n",
        "        len(set(batch[\"sampling_rate\"])) == 1\n",
        "    ), f\"Make sure all inputs have the same sampling rate of {processor.feature_extractor.sampling_rate}.\"\n",
        "\n",
        "    batch[\"input_values\"] = processor(batch[\"speech\"], sampling_rate=batch[\"sampling_rate\"][0]).input_values\n",
        "    \n",
        "    with processor.as_target_processor():\n",
        "        batch[\"labels\"] = processor(batch[\"target_text\"]).input_ids\n",
        "    return batch"
      ],
      "execution_count": null,
      "outputs": []
    },
    {
      "cell_type": "code",
      "metadata": {
        "colab": {
          "base_uri": "https://localhost:8080/",
          "height": 814,
          "referenced_widgets": [
            "2d4baf180fab481b8be64125e7b40f5a",
            "1ea9d99c426b4065bf89452c0ec7e77b",
            "5f50a64e93c44635ab131c3a66e3f690",
            "ebc988e01f6e4e789db6897e4dfd6e32",
            "683e446722a14b73899b3f16eb72d3cd",
            "54d6d1368b654afb8f497d128617b86d",
            "cc94cf2940bc46e89e69278d908e7d8b",
            "8bce7582737f4cb8821a6601cd626047",
            "817682ba3d1d4f6c8a10e7f69dff7155",
            "79acc2f971e2417e852e31e5d8f47bc0",
            "8bd33689a21e4536b697a775dcc3ab97",
            "89431bdbe7ba492cb2e39028bb9e830f",
            "a72b9c3094d3464c9a8e947a16145e53",
            "69b8bff825994222bd7df71f26237c8a",
            "86015221ec7943b3a7d6f44e85546058",
            "cefdb3be0ed045c980b9779bf0dd29f6",
            "948aa82879f042338f4c07feb500a584",
            "71f3533ced3e48749fab355f5ccf38c1",
            "6c73acfe455244fe91b2b8178482d27d",
            "e0005a517fa342c19906064358726c5c",
            "3794dc502d1a4c8bb2d7ce1762e57a25",
            "a333808d0d1c46f486a9ea0473930f1e",
            "9b40a980b8fd4ec59bf2e92e87b6d7c3",
            "edc639c0d3ad4dcda3b12d86ec84f6a2",
            "fbbf1e08f1ae40d5b82f33f12a458583",
            "f566f3d4f2ae4bd0aa3d575fe49723a8",
            "ee4b3b762a274e1e841043873cfb0d18",
            "4adbd91e1f85426f9ceaac279ac1fea5",
            "10cfb1711975464aa09f6fa0192f9278",
            "50b20d4d2b4943a191a0236763366852",
            "c1c057fd35fd472fb5b966acbb896d92",
            "35434181ad8a4542a994beff2baee3e2",
            "f16d95f63adb4b9cad1fb2efbd05e722",
            "47d14cf8a0d84c18a236590e1544ba1e",
            "4bf549dcd9f04bff8a8e901a535022f6",
            "0895a15a2fa8450d9afa46fac91ad157",
            "b8f367a049754f7eb06c363611dbb1d3",
            "5b66d8cc01704072a472b1f83cd8db67",
            "24caeee96a544f3ab50e119c02334db8",
            "124becd965b54790852c04418cf9c47d",
            "1d47e1c232034d348de81f29bcfa234e",
            "df730e3e78354bdb8c46791afd6ff3d5",
            "5e06b2507735479c893320a88afe557e",
            "b05c74be932d4ecabfbb869c61e37535",
            "a125940e73734d1ea6b12b073978ff35",
            "95d2dcd07f7f4153909c781296d97ace",
            "969d4d5b34dd40ffb3a50109fcf24d7a",
            "bd07faa6564c4c1a97050f15cde37227",
            "b910512c35a44597bf997b3e31a2f6d6",
            "42102cec351a45d8aa8b497891090a3e",
            "4e3e124fdc2f4ed99ff104fb78c60c2c",
            "6a71a4219afb46be89721dac6b80b44f",
            "4c444c7392934f15b3f4378a452659e0",
            "00784741fac442eb91ff153caa738516",
            "6f49d2cb8fb24169b7ee966e7ec745a4",
            "e04deb3303c1443e97fb9381af97a4c0",
            "2157ba0a60224f198c88d70aac20cd18",
            "bc649215677c407ab66e0090fcd889e6",
            "4125dfbb09a0488487cf59ad5c99d23b",
            "4774c3eea9474340be9791d1d8d6d3e8",
            "c1b68b9374254afd84e1de67f4406a02",
            "c5f54a9741d84212ba14c4369e23caf5",
            "4b735d4a041c46fd9239865ce7578997",
            "031cfb3999184b60bab119c806899662",
            "d156977fd1814ad6b3e649dca3dd9249",
            "84f0cbfb34c94063831446dcf8ea2ee1"
          ]
        },
        "id": "l9eJ3TVpc8zs",
        "outputId": "9e96da2d-ef4e-4f71-9aa6-5800b91183e6"
      },
      "source": [
        "train_dataset = train_dataset.map(prepare_dataset, remove_columns=train_dataset.column_names, batch_size=8, num_proc=1, batched=True)\n",
        "test_dataset = test_dataset.map(prepare_dataset, remove_columns=test_dataset.column_names, batch_size=8, num_proc=1, batched=True)"
      ],
      "execution_count": null,
      "outputs": [
        {
          "output_type": "display_data",
          "data": {
            "application/vnd.jupyter.widget-view+json": {
              "model_id": "d156977fd1814ad6b3e649dca3dd9249",
              "version_major": 2,
              "version_minor": 0
            },
            "text/plain": [
              "HBox(children=(FloatProgress(value=0.0, max=495.0), HTML(value='')))"
            ]
          },
          "metadata": {
            "tags": []
          }
        },
        {
          "output_type": "stream",
          "text": [
            "\n"
          ],
          "name": "stdout"
        },
        {
          "output_type": "display_data",
          "data": {
            "application/vnd.jupyter.widget-view+json": {
              "model_id": "84f0cbfb34c94063831446dcf8ea2ee1",
              "version_major": 2,
              "version_minor": 0
            },
            "text/plain": [
              "HBox(children=(FloatProgress(value=0.0, max=55.0), HTML(value='')))"
            ]
          },
          "metadata": {
            "tags": []
          }
        },
        {
          "output_type": "stream",
          "text": [
            "\n"
          ],
          "name": "stdout"
        }
      ]
    },
    {
      "cell_type": "markdown",
      "metadata": {
        "id": "LLZ4toiX2ss_"
      },
      "source": [
        "## Training\n",
        "\n",
        "The data is processed so that we are ready to start setting up the training pipeline. We will make use of 🤗's [Trainer](https://huggingface.co/transformers/master/main_classes/trainer.html?highlight=trainer) for which we essentially need to do the following:\n",
        "\n",
        "- Define a data collator. In contrast to most NLP models, XLSR-Wav2Vec2 has a much larger input length than output length. *E.g.*, a sample of input length 50000 has an output length of no more than 100. Given the large input sizes, it is much more efficient to pad the training batches dynamically meaning that all training samples should only be padded to the longest sample in their batch and not the overall longest sample. Therefore, fine-tuning XLSR-Wav2Vec2 requires a special padding data collator, which we will define below\n",
        "\n",
        "- Evaluation metric. During training, the model should be evaluated on the word error rate. We should define a `compute_metrics` function accordingly\n",
        "\n",
        "- Load a pretrained checkpoint. We need to load a pretrained checkpoint and configure it correctly for training.\n",
        "\n",
        "- Define the training configuration.\n",
        "\n",
        "After having fine-tuned the model, we will correctly evaluate it on the test data and verify that it has indeed learned to correctly transcribe speech."
      ]
    },
    {
      "cell_type": "markdown",
      "metadata": {
        "id": "3jUdTAsL2vH2"
      },
      "source": [
        "### Set-up Trainer\n",
        "\n",
        "Let's start by defining the data collator. The code for the data collator was copied from [this example](https://github.com/huggingface/transformers/blob/9a06b6b11bdfc42eea08fa91d0c737d1863c99e3/examples/research_projects/wav2vec2/run_asr.py#L81).\n",
        "\n",
        "Without going into too many details, in contrast to the common data collators, this data collator treats the `input_values` and `labels` differently and thus applies to separate padding functions on them (again making use of XLSR-Wav2Vec2's context manager). This is necessary because in speech input and output are of different modalities meaning that they should not be treated by the same padding function.\n",
        "Analogous to the common data collators, the padding tokens in the labels with `-100` so that those tokens are **not** taken into account when computing the loss."
      ]
    },
    {
      "cell_type": "code",
      "metadata": {
        "id": "ZFBPSQ6Fd-rN"
      },
      "source": [
        "import torch\n",
        "\n",
        "from dataclasses import dataclass, field\n",
        "from typing import Any, Dict, List, Optional, Union\n",
        "\n",
        "@dataclass\n",
        "class DataCollatorCTCWithPadding:\n",
        "    \"\"\"\n",
        "    Data collator that will dynamically pad the inputs received.\n",
        "    Args:\n",
        "        processor (:class:`~transformers.Wav2Vec2Processor`)\n",
        "            The processor used for proccessing the data.\n",
        "        padding (:obj:`bool`, :obj:`str` or :class:`~transformers.tokenization_utils_base.PaddingStrategy`, `optional`, defaults to :obj:`True`):\n",
        "            Select a strategy to pad the returned sequences (according to the model's padding side and padding index)\n",
        "            among:\n",
        "            * :obj:`True` or :obj:`'longest'`: Pad to the longest sequence in the batch (or no padding if only a single\n",
        "              sequence if provided).\n",
        "            * :obj:`'max_length'`: Pad to a maximum length specified with the argument :obj:`max_length` or to the\n",
        "              maximum acceptable input length for the model if that argument is not provided.\n",
        "            * :obj:`False` or :obj:`'do_not_pad'` (default): No padding (i.e., can output a batch with sequences of\n",
        "              different lengths).\n",
        "        max_length (:obj:`int`, `optional`):\n",
        "            Maximum length of the ``input_values`` of the returned list and optionally padding length (see above).\n",
        "        max_length_labels (:obj:`int`, `optional`):\n",
        "            Maximum length of the ``labels`` returned list and optionally padding length (see above).\n",
        "        pad_to_multiple_of (:obj:`int`, `optional`):\n",
        "            If set will pad the sequence to a multiple of the provided value.\n",
        "            This is especially useful to enable the use of Tensor Cores on NVIDIA hardware with compute capability >=\n",
        "            7.5 (Volta).\n",
        "    \"\"\"\n",
        "\n",
        "    processor: Wav2Vec2Processor\n",
        "    padding: Union[bool, str] = True\n",
        "    max_length: Optional[int] = None\n",
        "    max_length_labels: Optional[int] = None\n",
        "    pad_to_multiple_of: Optional[int] = None\n",
        "    pad_to_multiple_of_labels: Optional[int] = None\n",
        "\n",
        "    def __call__(self, features: List[Dict[str, Union[List[int], torch.Tensor]]]) -> Dict[str, torch.Tensor]:\n",
        "        # split inputs and labels since they have to be of different lenghts and need\n",
        "        # different padding methods\n",
        "        input_features = [{\"input_values\": feature[\"input_values\"]} for feature in features]\n",
        "        label_features = [{\"input_ids\": feature[\"labels\"]} for feature in features]\n",
        "\n",
        "        batch = self.processor.pad(\n",
        "            input_features,\n",
        "            padding=self.padding,\n",
        "            max_length=self.max_length,\n",
        "            pad_to_multiple_of=self.pad_to_multiple_of,\n",
        "            return_tensors=\"pt\",\n",
        "        )\n",
        "        with self.processor.as_target_processor():\n",
        "            labels_batch = self.processor.pad(\n",
        "                label_features,\n",
        "                padding=self.padding,\n",
        "                max_length=self.max_length_labels,\n",
        "                pad_to_multiple_of=self.pad_to_multiple_of_labels,\n",
        "                return_tensors=\"pt\",\n",
        "            )\n",
        "\n",
        "        # replace padding with -100 to ignore loss correctly\n",
        "        labels = labels_batch[\"input_ids\"].masked_fill(labels_batch.attention_mask.ne(1), -100)\n",
        "\n",
        "        batch[\"labels\"] = labels\n",
        "\n",
        "        return batch"
      ],
      "execution_count": null,
      "outputs": []
    },
    {
      "cell_type": "code",
      "metadata": {
        "id": "OmrJtTL2elB2"
      },
      "source": [
        "data_collator = DataCollatorCTCWithPadding(processor=processor, padding=True)"
      ],
      "execution_count": null,
      "outputs": []
    },
    {
      "cell_type": "markdown",
      "metadata": {
        "id": "IBnNQ5or2yGe"
      },
      "source": [
        "Next, the evaluation metric is defined. As mentioned earlier, the \n",
        "predominant metric in ASR is the word error rate (WER), hence we will use it in this notebook as well."
      ]
    },
    {
      "cell_type": "code",
      "metadata": {
        "id": "KT4h9BEEnCl5"
      },
      "source": [
        "from datasets import load_metric"
      ],
      "execution_count": null,
      "outputs": []
    },
    {
      "cell_type": "code",
      "metadata": {
        "colab": {
          "base_uri": "https://localhost:8080/",
          "height": 66,
          "referenced_widgets": [
            "1dff98b1b2504f189bd42a4fa9f6c501",
            "51e9b6e5a47945c8be108bde1d8a805d",
            "805b74e985fd4b338ec7de3d1d31cefa",
            "762d11f4b1074f469523b861b129a12a",
            "a9dd15fb16724b978f08d2bfc736ccc3",
            "36179f0ef16f47ed98d0cdd27dac8f76",
            "b0f9687169b34f1c900b0022e84f8754",
            "5d5ad221d1da485c92da3c9b0992aa97",
            "d06705fde16441ed9b56e12247af85fa"
          ]
        },
        "id": "YirlQMMAeN2O",
        "outputId": "a64c2cad-e3fb-4ba9-a21f-b344eaab8539"
      },
      "source": [
        "wer_metric = load_metric(\"wer\")"
      ],
      "execution_count": null,
      "outputs": [
        {
          "output_type": "display_data",
          "data": {
            "application/vnd.jupyter.widget-view+json": {
              "model_id": "d06705fde16441ed9b56e12247af85fa",
              "version_major": 2,
              "version_minor": 0
            },
            "text/plain": [
              "HBox(children=(FloatProgress(value=0.0, description='Downloading', max=1764.0, style=ProgressStyle(description…"
            ]
          },
          "metadata": {
            "tags": []
          }
        },
        {
          "output_type": "stream",
          "text": [
            "\n"
          ],
          "name": "stdout"
        }
      ]
    },
    {
      "cell_type": "markdown",
      "metadata": {
        "id": "hzhmzEog20zv"
      },
      "source": [
        "The model will return a sequence of logit vectors:\n",
        "$\\mathbf{y}_1, \\ldots, \\mathbf{y}_m$ with $\\mathbf{y}_1 = f_{\\theta}(x_1, \\ldots, x_n)[0]$ and $n >> m$.\n",
        "\n",
        "A logit vector $\\mathbf{y}_1$ contains the log-odds for each word in the vocabulary we defined earlier, thus $\\text{len}(\\mathbf{y}_i) =$ `config.vocab_size`. We are interested in the most likely prediction of the model and thus take the `argmax(...)` of the logits. Also, we transform the encoded labels back to the original string by replacing `-100` with the `pad_token_id` and decoding the ids while making sure that consecutive tokens are **not** grouped to the same token in CTC style ${}^1$."
      ]
    },
    {
      "cell_type": "code",
      "metadata": {
        "id": "AO0mL2yGeO2Q"
      },
      "source": [
        "def compute_metrics(pred):\n",
        "    pred_logits = pred.predictions\n",
        "    pred_ids = np.argmax(pred_logits, axis=-1)\n",
        "\n",
        "    pred.label_ids[pred.label_ids == -100] = processor.tokenizer.pad_token_id\n",
        "\n",
        "    pred_str = processor.batch_decode(pred_ids)\n",
        "    # we do not want to group tokens when computing the metrics\n",
        "    label_str = processor.batch_decode(pred.label_ids, group_tokens=False)\n",
        "\n",
        "    wer = wer_metric.compute(predictions=pred_str, references=label_str)\n",
        "\n",
        "    return {\"wer\": wer}"
      ],
      "execution_count": null,
      "outputs": []
    },
    {
      "cell_type": "markdown",
      "metadata": {
        "id": "AcShy12m2166"
      },
      "source": [
        "Now, we can load the pretrained `XLSR-Wav2Vec2` checkpoint. The tokenizer's `pad_token_id` must be to define the model's `pad_token_id` or in the case of `Wav2Vec2ForCTC` also CTC's *blank token* ${}^2$. To save GPU memory, we enable PyTorch's [gradient checkpointing](https://pytorch.org/docs/stable/checkpoint.html) and also set the loss reduction to \"*mean*\".\n",
        "\n",
        "Because the dataset is quite small (~6h of training data) and because Common Voice is quite noisy, fine-tuning Facebook's [wav2vec2-large-xlsr-53 checkpoint](https://huggingface.co/facebook/wav2vec2-large-xlsr-53) seems to require some hyper-parameter tuning. Therefore, I had to play around a bit with different values for dropout, [SpecAugment](https://arxiv.org/abs/1904.08779)'s masking dropout rate, layer dropout, and the learning rate until training seemed to be stable enough. \n",
        "\n",
        "**Note**: When using this notebook to train XLSR-Wav2Vec2 on another language of Common Voice those hyper-parameter settings might not work very well. Feel free to adapt those depending on your use case. "
      ]
    },
    {
      "cell_type": "code",
      "metadata": {
        "colab": {
          "base_uri": "https://localhost:8080/",
          "height": 170,
          "referenced_widgets": [
            "a39b5e3aac974494a4f64e245cb640ff",
            "2b36a43e248b4872a13344130c4e8e3d",
            "cf3e36d6c6774914880cd958bc25e814",
            "b1083a0e4d154a459440f133581cdd98",
            "b61b005f6cc7471e824216389332cc2d",
            "4d2708f465b74ed1ae665a2cbf063d71",
            "0283c0d57277432b8806013e89fb28c4",
            "0b559c6ad9f746d7a7c74be005d3b9d4",
            "f920344b4f3149b0b2651107c1c28477",
            "4b3f99c940fe4f289435789385fa32cb",
            "07431653921747e5b7ad5eef3d8cce9a",
            "fb5d85742bbc42d29598793afe8f6b58",
            "211b32d82f9c4e9b9f1ccc072e7ed488",
            "269f442894684258815b0ef71408adbf",
            "579800f5d14d430b83ecd26e92364d9e",
            "9046b21986c345f8b107fb19003e1982",
            "b062e2be5dce4ce2ac73c53cc330bd4c",
            "b2397ad98d444b5493d12c6ac7a259aa"
          ]
        },
        "id": "3fe_Ore_eRUD",
        "outputId": "c8f78c4c-e017-4e00-83ff-ae92236aa9db"
      },
      "source": [
        "from transformers import Wav2Vec2ForCTC\n",
        "model = Wav2Vec2ForCTC.from_pretrained(\n",
        "    \"facebook/wav2vec2-large-xlsr-53\", \n",
        "    attention_dropout=0.1,\n",
        "    hidden_dropout=0.1,\n",
        "    feat_proj_dropout=0.0,\n",
        "    mask_time_prob=0.05,\n",
        "    layerdrop=0.1,\n",
        "    gradient_checkpointing=True, \n",
        "    ctc_loss_reduction=\"mean\", \n",
        "    pad_token_id=processor.tokenizer.pad_token_id,\n",
        "    vocab_size=len(processor.tokenizer)\n",
        ")"
      ],
      "execution_count": null,
      "outputs": [
        {
          "output_type": "display_data",
          "data": {
            "application/vnd.jupyter.widget-view+json": {
              "model_id": "b062e2be5dce4ce2ac73c53cc330bd4c",
              "version_major": 2,
              "version_minor": 0
            },
            "text/plain": [
              "HBox(children=(FloatProgress(value=0.0, description='Downloading', max=1451.0, style=ProgressStyle(description…"
            ]
          },
          "metadata": {
            "tags": []
          }
        },
        {
          "output_type": "stream",
          "text": [
            "\n"
          ],
          "name": "stdout"
        },
        {
          "output_type": "display_data",
          "data": {
            "application/vnd.jupyter.widget-view+json": {
              "model_id": "b2397ad98d444b5493d12c6ac7a259aa",
              "version_major": 2,
              "version_minor": 0
            },
            "text/plain": [
              "HBox(children=(FloatProgress(value=0.0, description='Downloading', max=1261920069.0, style=ProgressStyle(descr…"
            ]
          },
          "metadata": {
            "tags": []
          }
        },
        {
          "output_type": "stream",
          "text": [
            "\n"
          ],
          "name": "stdout"
        },
        {
          "output_type": "stream",
          "text": [
            "Some weights of Wav2Vec2ForCTC were not initialized from the model checkpoint at facebook/wav2vec2-large-xlsr-53 and are newly initialized: ['lm_head.bias', 'lm_head.weight']\n",
            "You should probably TRAIN this model on a down-stream task to be able to use it for predictions and inference.\n"
          ],
          "name": "stderr"
        }
      ]
    },
    {
      "cell_type": "markdown",
      "metadata": {
        "id": "f56IzxS4261o"
      },
      "source": [
        "The first component of XLSR-Wav2Vec2 consists of a stack of CNN layers that are used to extract acoustically meaningful - but contextually independent - features from the raw speech signal. This part of the model has already been sufficiently trained during pretraining and as stated in the [paper](https://arxiv.org/pdf/2006.13979.pdf) does not need to be fine-tuned anymore. \n",
        "Thus, we can set the `requires_grad` to `False` for all parameters of the *feature extraction* part."
      ]
    },
    {
      "cell_type": "code",
      "metadata": {
        "id": "ad-L6aY7eRx3"
      },
      "source": [
        "model.freeze_feature_extractor()"
      ],
      "execution_count": null,
      "outputs": []
    },
    {
      "cell_type": "markdown",
      "metadata": {
        "id": "_krGchlE25tk"
      },
      "source": [
        "In a final step, we define all parameters related to training. \n",
        "To give more explanation on some of the parameters:\n",
        "- `group_by_length` makes training more efficient by grouping training samples of similar input length into one batch. This can significantly speed up training time by heavily reducing the overall number of useless padding tokens that are passed through the model\n",
        "- `learning_rate` and `weight_decay` were heuristically tuned until fine-tuning has become stable. Note that those parameters strongly depend on the Common Voice dataset and might be suboptimal for other speech datasets.\n",
        "\n",
        "For more explanations on other parameters, one can take a look at the [docs](https://huggingface.co/transformers/master/main_classes/trainer.html?highlight=trainer#trainingarguments).\n",
        "\n",
        "**Note**: If one wants to save the trained models in his/her google drive the commented-out `output_dir` can be used instead."
      ]
    },
    {
      "cell_type": "code",
      "metadata": {
        "id": "ls5yX8KYeWJu"
      },
      "source": [
        "from transformers import TrainingArguments, Trainer\n",
        "\n",
        "training_args = TrainingArguments(\n",
        "  output_dir=\"container_0/ckpts/\",\n",
        "  logging_dir = \"container_0/runs/\",\n",
        "  group_by_length=True,\n",
        "  per_device_train_batch_size=8,\n",
        "  per_device_eval_batch_size=8,\n",
        "  gradient_accumulation_steps=2,\n",
        "  evaluation_strategy=\"steps\",\n",
        "  num_train_epochs=30,\n",
        "  fp16=True,\n",
        "  save_steps=200,\n",
        "  eval_steps=200,\n",
        "  logging_steps=200,\n",
        "  learning_rate=4e-4,\n",
        "  warmup_steps=int(0.1*1320), #10%\n",
        "  save_total_limit=2,\n",
        ")"
      ],
      "execution_count": null,
      "outputs": []
    },
    {
      "cell_type": "markdown",
      "metadata": {
        "id": "MVE8oEgK2_jK"
      },
      "source": [
        "Now, all instances can be passed to Trainer and we are ready to start training!"
      ]
    },
    {
      "cell_type": "code",
      "metadata": {
        "id": "X3jgVSKqeWgd"
      },
      "source": [
        "trainer = Trainer(\n",
        "    model=model,\n",
        "    data_collator=data_collator,\n",
        "    args=training_args,\n",
        "    compute_metrics=compute_metrics,\n",
        "    train_dataset=train_dataset,\n",
        "    eval_dataset=test_dataset,\n",
        "    tokenizer=processor.feature_extractor,\n",
        ")"
      ],
      "execution_count": null,
      "outputs": []
    },
    {
      "cell_type": "markdown",
      "metadata": {
        "id": "KQKF1vZe3B5x"
      },
      "source": [
        "\n",
        "\n",
        "---\n",
        "\n",
        "${}^1$ To allow models to become independent of the speaker rate, in CTC, consecutive tokens that are identical are simply grouped as a single token. However, the encoded labels should not be grouped when decoding since they don't correspond to the predicted tokens of the model, which is why the `group_tokens=False` parameter has to be passed. If we wouldn't pass this parameter a word like `\"hello\"` would incorrectly be encoded, and decoded as `\"helo\"`.\n",
        "\n",
        "${}^2$ The blank token allows the model to predict a word, such as `\"hello\"` by forcing it to insert the blank token between the two l's. A CTC-conform prediction of `\"hello\"` of our model would be `[PAD] [PAD] \"h\" \"e\" \"e\" \"l\" \"l\" [PAD] \"l\" \"o\" \"o\" [PAD]`."
      ]
    },
    {
      "cell_type": "markdown",
      "metadata": {
        "id": "6m2pRLqT3Mah"
      },
      "source": [
        "### Training"
      ]
    },
    {
      "cell_type": "markdown",
      "metadata": {
        "id": "Z1gNtuFx3Gbp"
      },
      "source": [
        "In case you want to use this google colab to fine-tune your model, you should make sure that your training doesn't stop due to inactivity. A simple hack to prevent this is to paste the following code into the console of this tab (*right mouse click -> inspect -> Console tab and insert code*)."
      ]
    },
    {
      "cell_type": "markdown",
      "metadata": {
        "id": "LYka4llN3H7Q"
      },
      "source": [
        "```javascript\n",
        "function ConnectButton(){\n",
        "    console.log(\"Connect pushed\"); \n",
        "    document.querySelector(\"#top-toolbar > colab-connect-button\").shadowRoot.querySelector(\"#connect\").click() \n",
        "}\n",
        "setInterval(ConnectButton,60000);\n",
        "```"
      ]
    },
    {
      "cell_type": "code",
      "metadata": {
        "colab": {
          "base_uri": "https://localhost:8080/",
          "height": 886
        },
        "id": "CJJ-xAN8QC4N",
        "outputId": "99406b8d-eb7a-4015-ccbf-c7bf46ba3088"
      },
      "source": [
        "trainer.train()"
      ],
      "execution_count": null,
      "outputs": [
        {
          "output_type": "stream",
          "text": [
            "\u001b[34m\u001b[1mwandb\u001b[0m: You can find your API key in your browser here: https://wandb.ai/authorize\n"
          ],
          "name": "stderr"
        },
        {
          "output_type": "stream",
          "text": [
            "\u001b[34m\u001b[1mwandb\u001b[0m: Paste an API key from your profile and hit enter:  ········································\n"
          ],
          "name": "stdin"
        },
        {
          "output_type": "stream",
          "text": [
            "\u001b[34m\u001b[1mwandb\u001b[0m: Appending key for api.wandb.ai to your netrc file: /workspace/.netrc\n",
            "\u001b[34m\u001b[1mwandb\u001b[0m: wandb version 0.10.23 is available!  To upgrade, please run:\n",
            "\u001b[34m\u001b[1mwandb\u001b[0m:  $ pip install wandb --upgrade\n"
          ],
          "name": "stderr"
        },
        {
          "output_type": "display_data",
          "data": {
            "text/html": [
              "\n",
              "                Tracking run with wandb version 0.10.12<br/>\n",
              "                Syncing run <strong style=\"color:#cdcd00\">container_0/ckpts/</strong> to <a href=\"https://wandb.ai\" target=\"_blank\">Weights & Biases</a> <a href=\"https://docs.wandb.com/integrations/jupyter.html\" target=\"_blank\">(Documentation)</a>.<br/>\n",
              "                Project page: <a href=\"https://wandb.ai/amoghsgopadi/huggingface\" target=\"_blank\">https://wandb.ai/amoghsgopadi/huggingface</a><br/>\n",
              "                Run page: <a href=\"https://wandb.ai/amoghsgopadi/huggingface/runs/2nfu3adw\" target=\"_blank\">https://wandb.ai/amoghsgopadi/huggingface/runs/2nfu3adw</a><br/>\n",
              "                Run data is saved locally in <code>/workspace/wandb/run-20210327_073605-2nfu3adw</code><br/><br/>\n",
              "            "
            ],
            "text/plain": [
              "<IPython.core.display.HTML object>"
            ]
          },
          "metadata": {
            "tags": []
          }
        },
        {
          "output_type": "stream",
          "text": [
            "/opt/conda/lib/python3.7/site-packages/torch/optim/lr_scheduler.py:136: UserWarning: Detected call of `lr_scheduler.step()` before `optimizer.step()`. In PyTorch 1.1.0 and later, you should call them in the opposite order: `optimizer.step()` before `lr_scheduler.step()`.  Failure to do this will result in PyTorch skipping the first value of the learning rate schedule. See more details at https://pytorch.org/docs/stable/optim.html#how-to-adjust-learning-rate\n",
            "  \"https://pytorch.org/docs/stable/optim.html#how-to-adjust-learning-rate\", UserWarning)\n"
          ],
          "name": "stderr"
        },
        {
          "output_type": "display_data",
          "data": {
            "text/html": [
              "\n",
              "    <div>\n",
              "        <style>\n",
              "            /* Turns off some styling */\n",
              "            progress {\n",
              "                /* gets rid of default border in Firefox and Opera. */\n",
              "                border: none;\n",
              "                /* Needs to be in here for Safari polyfill so background images work as expected. */\n",
              "                background-size: auto;\n",
              "            }\n",
              "        </style>\n",
              "      \n",
              "      <progress value='7410' max='7410' style='width:300px; height:20px; vertical-align: middle;'></progress>\n",
              "      [7410/7410 7:00:41, Epoch 29/30]\n",
              "    </div>\n",
              "    <table border=\"1\" class=\"dataframe\">\n",
              "  <thead>\n",
              "    <tr style=\"text-align: left;\">\n",
              "      <th>Step</th>\n",
              "      <th>Training Loss</th>\n",
              "      <th>Validation Loss</th>\n",
              "      <th>Wer</th>\n",
              "      <th>Runtime</th>\n",
              "      <th>Samples Per Second</th>\n",
              "    </tr>\n",
              "  </thead>\n",
              "  <tbody>\n",
              "    <tr>\n",
              "      <td>200</td>\n",
              "      <td>8.824500</td>\n",
              "      <td>3.603292</td>\n",
              "      <td>1.000000</td>\n",
              "      <td>70.919800</td>\n",
              "      <td>6.204000</td>\n",
              "    </tr>\n",
              "    <tr>\n",
              "      <td>400</td>\n",
              "      <td>3.528700</td>\n",
              "      <td>3.452219</td>\n",
              "      <td>1.000000</td>\n",
              "      <td>70.960200</td>\n",
              "      <td>6.201000</td>\n",
              "    </tr>\n",
              "    <tr>\n",
              "      <td>600</td>\n",
              "      <td>3.014500</td>\n",
              "      <td>1.026335</td>\n",
              "      <td>0.973120</td>\n",
              "      <td>71.779400</td>\n",
              "      <td>6.130000</td>\n",
              "    </tr>\n",
              "    <tr>\n",
              "      <td>800</td>\n",
              "      <td>0.809200</td>\n",
              "      <td>0.473118</td>\n",
              "      <td>0.697280</td>\n",
              "      <td>72.626100</td>\n",
              "      <td>6.058000</td>\n",
              "    </tr>\n",
              "    <tr>\n",
              "      <td>1000</td>\n",
              "      <td>0.537800</td>\n",
              "      <td>0.378213</td>\n",
              "      <td>0.620480</td>\n",
              "      <td>72.618100</td>\n",
              "      <td>6.059000</td>\n",
              "    </tr>\n",
              "    <tr>\n",
              "      <td>1200</td>\n",
              "      <td>0.414500</td>\n",
              "      <td>0.315756</td>\n",
              "      <td>0.553280</td>\n",
              "      <td>73.113400</td>\n",
              "      <td>6.018000</td>\n",
              "    </tr>\n",
              "    <tr>\n",
              "      <td>1400</td>\n",
              "      <td>0.348900</td>\n",
              "      <td>0.301182</td>\n",
              "      <td>0.519360</td>\n",
              "      <td>73.292200</td>\n",
              "      <td>6.003000</td>\n",
              "    </tr>\n",
              "    <tr>\n",
              "      <td>1600</td>\n",
              "      <td>0.299500</td>\n",
              "      <td>0.290357</td>\n",
              "      <td>0.493760</td>\n",
              "      <td>74.332800</td>\n",
              "      <td>5.919000</td>\n",
              "    </tr>\n",
              "    <tr>\n",
              "      <td>1800</td>\n",
              "      <td>0.257500</td>\n",
              "      <td>0.283907</td>\n",
              "      <td>0.481280</td>\n",
              "      <td>74.281000</td>\n",
              "      <td>5.923000</td>\n",
              "    </tr>\n",
              "    <tr>\n",
              "      <td>2000</td>\n",
              "      <td>0.231700</td>\n",
              "      <td>0.286065</td>\n",
              "      <td>0.493440</td>\n",
              "      <td>74.057700</td>\n",
              "      <td>5.941000</td>\n",
              "    </tr>\n",
              "    <tr>\n",
              "      <td>2200</td>\n",
              "      <td>0.202400</td>\n",
              "      <td>0.264691</td>\n",
              "      <td>0.482240</td>\n",
              "      <td>74.060700</td>\n",
              "      <td>5.941000</td>\n",
              "    </tr>\n",
              "    <tr>\n",
              "      <td>2400</td>\n",
              "      <td>0.181900</td>\n",
              "      <td>0.277543</td>\n",
              "      <td>0.464320</td>\n",
              "      <td>74.136100</td>\n",
              "      <td>5.935000</td>\n",
              "    </tr>\n",
              "    <tr>\n",
              "      <td>2600</td>\n",
              "      <td>0.168800</td>\n",
              "      <td>0.263202</td>\n",
              "      <td>0.451520</td>\n",
              "      <td>75.266300</td>\n",
              "      <td>5.846000</td>\n",
              "    </tr>\n",
              "    <tr>\n",
              "      <td>2800</td>\n",
              "      <td>0.148800</td>\n",
              "      <td>0.274776</td>\n",
              "      <td>0.445760</td>\n",
              "      <td>73.405700</td>\n",
              "      <td>5.994000</td>\n",
              "    </tr>\n",
              "    <tr>\n",
              "      <td>3000</td>\n",
              "      <td>0.150600</td>\n",
              "      <td>0.257015</td>\n",
              "      <td>0.440320</td>\n",
              "      <td>74.440500</td>\n",
              "      <td>5.911000</td>\n",
              "    </tr>\n",
              "    <tr>\n",
              "      <td>3200</td>\n",
              "      <td>0.147100</td>\n",
              "      <td>0.278102</td>\n",
              "      <td>0.444800</td>\n",
              "      <td>74.725100</td>\n",
              "      <td>5.888000</td>\n",
              "    </tr>\n",
              "    <tr>\n",
              "      <td>3400</td>\n",
              "      <td>0.126200</td>\n",
              "      <td>0.254719</td>\n",
              "      <td>0.430720</td>\n",
              "      <td>74.374300</td>\n",
              "      <td>5.916000</td>\n",
              "    </tr>\n",
              "    <tr>\n",
              "      <td>3600</td>\n",
              "      <td>0.114000</td>\n",
              "      <td>0.276374</td>\n",
              "      <td>0.426240</td>\n",
              "      <td>74.912800</td>\n",
              "      <td>5.873000</td>\n",
              "    </tr>\n",
              "    <tr>\n",
              "      <td>3800</td>\n",
              "      <td>0.116200</td>\n",
              "      <td>0.259562</td>\n",
              "      <td>0.423040</td>\n",
              "      <td>75.384500</td>\n",
              "      <td>5.837000</td>\n",
              "    </tr>\n",
              "    <tr>\n",
              "      <td>4000</td>\n",
              "      <td>0.101400</td>\n",
              "      <td>0.266410</td>\n",
              "      <td>0.428160</td>\n",
              "      <td>75.032000</td>\n",
              "      <td>5.864000</td>\n",
              "    </tr>\n",
              "    <tr>\n",
              "      <td>4200</td>\n",
              "      <td>0.096300</td>\n",
              "      <td>0.280665</td>\n",
              "      <td>0.427520</td>\n",
              "      <td>75.753100</td>\n",
              "      <td>5.808000</td>\n",
              "    </tr>\n",
              "    <tr>\n",
              "      <td>4400</td>\n",
              "      <td>0.088000</td>\n",
              "      <td>0.291531</td>\n",
              "      <td>0.419200</td>\n",
              "      <td>75.810600</td>\n",
              "      <td>5.804000</td>\n",
              "    </tr>\n",
              "    <tr>\n",
              "      <td>4600</td>\n",
              "      <td>0.087300</td>\n",
              "      <td>0.276252</td>\n",
              "      <td>0.408960</td>\n",
              "      <td>75.474100</td>\n",
              "      <td>5.830000</td>\n",
              "    </tr>\n",
              "    <tr>\n",
              "      <td>4800</td>\n",
              "      <td>0.078900</td>\n",
              "      <td>0.275902</td>\n",
              "      <td>0.412800</td>\n",
              "      <td>76.238800</td>\n",
              "      <td>5.771000</td>\n",
              "    </tr>\n",
              "    <tr>\n",
              "      <td>5000</td>\n",
              "      <td>0.078900</td>\n",
              "      <td>0.289984</td>\n",
              "      <td>0.408640</td>\n",
              "      <td>76.018800</td>\n",
              "      <td>5.788000</td>\n",
              "    </tr>\n",
              "    <tr>\n",
              "      <td>5200</td>\n",
              "      <td>0.072800</td>\n",
              "      <td>0.282154</td>\n",
              "      <td>0.406720</td>\n",
              "      <td>75.693900</td>\n",
              "      <td>5.813000</td>\n",
              "    </tr>\n",
              "    <tr>\n",
              "      <td>5400</td>\n",
              "      <td>0.070200</td>\n",
              "      <td>0.281814</td>\n",
              "      <td>0.406400</td>\n",
              "      <td>76.145200</td>\n",
              "      <td>5.778000</td>\n",
              "    </tr>\n",
              "    <tr>\n",
              "      <td>5600</td>\n",
              "      <td>0.062300</td>\n",
              "      <td>0.275681</td>\n",
              "      <td>0.402560</td>\n",
              "      <td>76.682300</td>\n",
              "      <td>5.738000</td>\n",
              "    </tr>\n",
              "    <tr>\n",
              "      <td>5800</td>\n",
              "      <td>0.062400</td>\n",
              "      <td>0.291728</td>\n",
              "      <td>0.393280</td>\n",
              "      <td>77.035500</td>\n",
              "      <td>5.712000</td>\n",
              "    </tr>\n",
              "    <tr>\n",
              "      <td>6000</td>\n",
              "      <td>0.063000</td>\n",
              "      <td>0.289520</td>\n",
              "      <td>0.397440</td>\n",
              "      <td>76.885500</td>\n",
              "      <td>5.723000</td>\n",
              "    </tr>\n",
              "    <tr>\n",
              "      <td>6200</td>\n",
              "      <td>0.062800</td>\n",
              "      <td>0.296446</td>\n",
              "      <td>0.400000</td>\n",
              "      <td>77.035500</td>\n",
              "      <td>5.712000</td>\n",
              "    </tr>\n",
              "    <tr>\n",
              "      <td>6400</td>\n",
              "      <td>0.055300</td>\n",
              "      <td>0.297377</td>\n",
              "      <td>0.397760</td>\n",
              "      <td>77.054600</td>\n",
              "      <td>5.710000</td>\n",
              "    </tr>\n",
              "    <tr>\n",
              "      <td>6600</td>\n",
              "      <td>0.051700</td>\n",
              "      <td>0.299309</td>\n",
              "      <td>0.389440</td>\n",
              "      <td>77.551400</td>\n",
              "      <td>5.674000</td>\n",
              "    </tr>\n",
              "    <tr>\n",
              "      <td>6800</td>\n",
              "      <td>0.051700</td>\n",
              "      <td>0.296883</td>\n",
              "      <td>0.390720</td>\n",
              "      <td>77.596300</td>\n",
              "      <td>5.670000</td>\n",
              "    </tr>\n",
              "    <tr>\n",
              "      <td>7000</td>\n",
              "      <td>0.050000</td>\n",
              "      <td>0.295058</td>\n",
              "      <td>0.390400</td>\n",
              "      <td>77.722600</td>\n",
              "      <td>5.661000</td>\n",
              "    </tr>\n",
              "    <tr>\n",
              "      <td>7200</td>\n",
              "      <td>0.048900</td>\n",
              "      <td>0.301914</td>\n",
              "      <td>0.388480</td>\n",
              "      <td>77.748200</td>\n",
              "      <td>5.659000</td>\n",
              "    </tr>\n",
              "    <tr>\n",
              "      <td>7400</td>\n",
              "      <td>0.047100</td>\n",
              "      <td>0.301700</td>\n",
              "      <td>0.389440</td>\n",
              "      <td>78.134000</td>\n",
              "      <td>5.631000</td>\n",
              "    </tr>\n",
              "  </tbody>\n",
              "</table><p>"
            ],
            "text/plain": [
              "<IPython.core.display.HTML object>"
            ]
          },
          "metadata": {
            "tags": []
          }
        },
        {
          "output_type": "execute_result",
          "data": {
            "text/plain": [
              "TrainOutput(global_step=7410, training_loss=0.5628429738535733, metrics={'train_runtime': 25342.5891, 'train_samples_per_second': 0.292, 'total_flos': 2.56750694618022e+19, 'epoch': 30.0, 'init_mem_cpu_alloc_delta': 9868187, 'init_mem_gpu_alloc_delta': 1262169088, 'init_mem_cpu_peaked_delta': 18306, 'init_mem_gpu_peaked_delta': 0, 'train_mem_cpu_alloc_delta': 52373522, 'train_mem_gpu_alloc_delta': 3786999808, 'train_mem_cpu_peaked_delta': 193443886, 'train_mem_gpu_peaked_delta': 6116016128})"
            ]
          },
          "metadata": {
            "tags": []
          },
          "execution_count": 59
        }
      ]
    },
    {
      "cell_type": "markdown",
      "metadata": {
        "id": "4G_g-t3m3O_g"
      },
      "source": [
        "The training loss goes down and we can see that the WER on the test set also improves nicely. Because this notebook is just for demonstration purposes, we can stop here.\n",
        "\n",
        "The resulting model of this notebook has been saved.\n",
        "\n",
        "Lastly, we save the final model :)"
      ]
    },
    {
      "cell_type": "code",
      "metadata": {
        "id": "9CXoM-CrQFP7"
      },
      "source": [
        "trainer.save_model(\"container_0/wav2vec2-large-xlsr-kn\")"
      ],
      "execution_count": null,
      "outputs": []
    },
    {
      "cell_type": "markdown",
      "metadata": {
        "id": "8McYrERGGDqU"
      },
      "source": [
        "# Usage"
      ]
    },
    {
      "cell_type": "code",
      "metadata": {
        "id": "_X3CQu3gGE7-"
      },
      "source": [
        "import torch\n",
        "import torchaudio\n",
        "from datasets import load_dataset\n",
        "from transformers import Wav2Vec2ForCTC, Wav2Vec2Processor\n",
        "\n",
        "# test_dataset = #TODO: WRITE YOUR CODE TO LOAD THE TEST DATASET. For sample see the Colab link in Training Section.\n",
        "\n",
        "processor = Wav2Vec2Processor.from_pretrained(\"container_0/wav2vec2-large-xlsr-kn\")\n",
        "model = Wav2Vec2ForCTC.from_pretrained(\"container_0/wav2vec2-large-xlsr-kn\")\n",
        "\n",
        "resampler = torchaudio.transforms.Resample(48_000, 16_000) # The original data was with 48,000 sampling rate. You can change it according to your input.\n",
        "\n",
        "# Preprocessing the datasets.\n",
        "# We need to read the audio files as arrays\n",
        "def speech_file_to_array_fn(batch):\n",
        "    speech_array, sampling_rate = torchaudio.load(batch[\"path\"])\n",
        "    batch[\"speech\"] = resampler(speech_array).squeeze().numpy()\n",
        "    return batch\n",
        "\n",
        "test_dataset = test_dataset.map(speech_file_to_array_fn)\n",
        "inputs = processor(test_dataset[\"speech\"][:2], sampling_rate=16_000, return_tensors=\"pt\", padding=True)\n",
        "\n",
        "with torch.no_grad():\n",
        "    logits = model(inputs.input_values, attention_mask=inputs.attention_mask).logits\n",
        "\n",
        "predicted_ids = torch.argmax(logits, dim=-1)\n",
        "\n",
        "print(\"Prediction:\", processor.batch_decode(predicted_ids))\n",
        "print(\"Reference:\", test_dataset[\"text\"][:2])"
      ],
      "execution_count": null,
      "outputs": []
    },
    {
      "cell_type": "markdown",
      "metadata": {
        "id": "lL0_E5tdGFcP"
      },
      "source": [
        "# Evaluation"
      ]
    },
    {
      "cell_type": "code",
      "metadata": {
        "colab": {
          "base_uri": "https://localhost:8080/",
          "height": 154,
          "referenced_widgets": [
            "5cb237d879a84bc2b930159f2aa372b4",
            "87f3eb1dc9374daaaaab7cfe402fb85e",
            "12698946d0494305bd438921957b8a6d",
            "cd15c942173349548e398eb84985e80a",
            "80256a5362804a75929a6d7d8a1761a0",
            "b50c338506ac45da9292faeac56971b7",
            "4be688fab7d94f1fa00826e229f27509",
            "a05f0ec7693848c685942f449a204752",
            "54d00a9adb594b07ad9669e47ed59fd3",
            "837465fe80154d4689d18036c9e3d39a",
            "8cfc70fed9b642edbec8e46cf8f11814",
            "0f69bd59d1fa4f22821ed03d25211582",
            "7eac4b5970b048c1afc0dd737e7dc4c8",
            "264d1ef48ecc43c1b41e6b4a174d418a",
            "ae5b1f05997540b5987eea640c167b6c",
            "2773ae8661bc4151baf003a73291301a",
            "7fa181345f7945f6a3f6fd3b5a494f99",
            "f1dc020040764ded9d70222e45b2cc02",
            "67cb1180bc8f4902955a30d3df185e84"
          ]
        },
        "id": "rQoRyVc9GGdY",
        "outputId": "8229a2d4-b520-445d-d256-e9b8f841c74b"
      },
      "source": [
        "import torch\n",
        "import torchaudio\n",
        "from datasets import load_dataset, load_metric\n",
        "from transformers import Wav2Vec2ForCTC, Wav2Vec2Processor\n",
        "import re\n",
        "\n",
        "# test_dataset = #TODO: WRITE YOUR CODE TO LOAD THE TEST DATASET. For sample see the Colab link in Training Section.\n",
        "test_dataset = dataset['test'].map(remove_special_characters)\n",
        "\n",
        "wer = load_metric(\"wer\")\n",
        "\n",
        "processor = Wav2Vec2Processor.from_pretrained(\"container_0/wav2vec2-large-xlsr-kn\")\n",
        "model = Wav2Vec2ForCTC.from_pretrained(\"container_0/wav2vec2-large-xlsr-kn\")\n",
        "model.to(\"cuda\")\n",
        "\n",
        "chars_to_ignore_regex = '[\\,\\?\\.\\!\\-\\;\\:\\\"\\“\\%\\‘\\”\\�\\–\\…]'\n",
        "resampler = torchaudio.transforms.Resample(48_000, 16_000)\n",
        "\n",
        "# Preprocessing the datasets.\n",
        "# We need to read the aduio files as arrays\n",
        "def speech_file_to_array_fn(batch):\n",
        "    batch[\"text\"] = re.sub(chars_to_ignore_regex, '', batch[\"text\"]).lower()\n",
        "    speech_array, sampling_rate = torchaudio.load(batch[\"path\"])\n",
        "    batch[\"speech\"] = resampler(speech_array).squeeze().numpy()\n",
        "    return batch\n",
        "\n",
        "test_dataset = test_dataset.map(speech_file_to_array_fn)\n",
        "\n",
        "# Preprocessing the datasets.\n",
        "# We need to read the aduio files as arrays\n",
        "def evaluate(batch):\n",
        "    inputs = processor(batch[\"speech\"], sampling_rate=16_000, return_tensors=\"pt\", padding=True)\n",
        "    with torch.no_grad():\n",
        "        logits = model(inputs.input_values.to(\"cuda\"), attention_mask=inputs.attention_mask.to(\"cuda\")).logits\n",
        "        pred_ids = torch.argmax(logits, dim=-1)\n",
        "        batch[\"pred_strings\"] = processor.batch_decode(pred_ids)\n",
        "        return batch\n",
        "\n",
        "result = test_dataset.map(evaluate, batched=True, batch_size=8)\n",
        "# NOTE : The original test set was different and this result may be skewed. The original test set gave around 14.53% WER.\n",
        "print(\"WER: {:2f}\".format(100 * wer.compute(predictions=result[\"pred_strings\"], references=result[\"text\"])))"
      ],
      "execution_count": null,
      "outputs": [
        {
          "output_type": "display_data",
          "data": {
            "application/vnd.jupyter.widget-view+json": {
              "model_id": "7fa181345f7945f6a3f6fd3b5a494f99",
              "version_major": 2,
              "version_minor": 0
            },
            "text/plain": [
              "HBox(children=(FloatProgress(value=0.0, max=440.0), HTML(value='')))"
            ]
          },
          "metadata": {
            "tags": []
          }
        },
        {
          "output_type": "stream",
          "text": [
            "\n"
          ],
          "name": "stdout"
        },
        {
          "output_type": "stream",
          "text": [
            "Special tokens have been added in the vocabulary, make sure the associated word embedding are fine-tuned or trained.\n"
          ],
          "name": "stderr"
        },
        {
          "output_type": "display_data",
          "data": {
            "application/vnd.jupyter.widget-view+json": {
              "model_id": "f1dc020040764ded9d70222e45b2cc02",
              "version_major": 2,
              "version_minor": 0
            },
            "text/plain": [
              "HBox(children=(FloatProgress(value=0.0, max=440.0), HTML(value='')))"
            ]
          },
          "metadata": {
            "tags": []
          }
        },
        {
          "output_type": "stream",
          "text": [
            "\n"
          ],
          "name": "stdout"
        },
        {
          "output_type": "display_data",
          "data": {
            "application/vnd.jupyter.widget-view+json": {
              "model_id": "67cb1180bc8f4902955a30d3df185e84",
              "version_major": 2,
              "version_minor": 0
            },
            "text/plain": [
              "HBox(children=(FloatProgress(value=0.0, max=55.0), HTML(value='')))"
            ]
          },
          "metadata": {
            "tags": []
          }
        },
        {
          "output_type": "stream",
          "text": [
            "\n",
            "WER: 27.086665\n"
          ],
          "name": "stdout"
        }
      ]
    },
    {
      "cell_type": "markdown",
      "metadata": {
        "id": "MvzSRLw5JZhH"
      },
      "source": [
        "## Test with your own Audio"
      ]
    },
    {
      "cell_type": "markdown",
      "metadata": {
        "id": "xx5oULDoLPu6"
      },
      "source": [
        "Thanks to [Eric Liam](https://huggingface.co/voidful) for sharing his notebook on which this is based. "
      ]
    },
    {
      "cell_type": "code",
      "metadata": {
        "id": "a_kjnYRQH1NB"
      },
      "source": [
        "%%capture\n",
        "!pip install git+https://github.com/huggingface/datasets.git\n",
        "!pip install git+https://github.com/huggingface/transformers.git\n",
        "!pip install torchaudio\n",
        "!pip install librosa\n",
        "!pip install jiwer\n",
        "!pip install ffmpeg-python"
      ],
      "execution_count": null,
      "outputs": []
    },
    {
      "cell_type": "code",
      "metadata": {
        "id": "oY5AtbpBLduJ"
      },
      "source": [
        "AUDIO_HTML = \"\"\"\n",
        "<script>\n",
        "var my_div = document.createElement(\"DIV\");\n",
        "var my_p = document.createElement(\"P\");\n",
        "var my_btn = document.createElement(\"BUTTON\");\n",
        "var t = document.createTextNode(\"Press to start recording\");\n",
        "\n",
        "my_btn.appendChild(t);\n",
        "//my_p.appendChild(my_btn);\n",
        "my_div.appendChild(my_btn);\n",
        "document.body.appendChild(my_div);\n",
        "\n",
        "var base64data = 0;\n",
        "var reader;\n",
        "var recorder, gumStream;\n",
        "var recordButton = my_btn;\n",
        "\n",
        "var handleSuccess = function(stream) {\n",
        "  gumStream = stream;\n",
        "  var options = {\n",
        "    //bitsPerSecond: 8000, //chrome seems to ignore, always 48k\n",
        "    mimeType : 'audio/webm;codecs=opus'\n",
        "    //mimeType : 'audio/webm;codecs=pcm'\n",
        "  };            \n",
        "  //recorder = new MediaRecorder(stream, options);\n",
        "  recorder = new MediaRecorder(stream);\n",
        "  recorder.ondataavailable = function(e) {            \n",
        "    var url = URL.createObjectURL(e.data);\n",
        "    var preview = document.createElement('audio');\n",
        "    preview.controls = true;\n",
        "    preview.src = url;\n",
        "    document.body.appendChild(preview);\n",
        "\n",
        "    reader = new FileReader();\n",
        "    reader.readAsDataURL(e.data); \n",
        "    reader.onloadend = function() {\n",
        "      base64data = reader.result;\n",
        "      //console.log(\"Inside FileReader:\" + base64data);\n",
        "    }\n",
        "  };\n",
        "  recorder.start();\n",
        "  };\n",
        "\n",
        "recordButton.innerText = \"Recording... press to stop\";\n",
        "\n",
        "navigator.mediaDevices.getUserMedia({audio: true}).then(handleSuccess);\n",
        "\n",
        "function toggleRecording() {\n",
        "  if (recorder && recorder.state == \"recording\") {\n",
        "      recorder.stop();\n",
        "      gumStream.getAudioTracks()[0].stop();\n",
        "      recordButton.innerText = \"Saving the recording... pls wait!\"\n",
        "  }\n",
        "}\n",
        "\n",
        "// https://stackoverflow.com/a/951057\n",
        "function sleep(ms) {\n",
        "  return new Promise(resolve => setTimeout(resolve, ms));\n",
        "}\n",
        "\n",
        "var data = new Promise(resolve=>{\n",
        "//recordButton.addEventListener(\"click\", toggleRecording);\n",
        "recordButton.onclick = ()=>{\n",
        "toggleRecording()\n",
        "\n",
        "sleep(2000).then(() => {\n",
        "  // wait 2000ms for the data to be available...\n",
        "  // ideally this should use something like await...\n",
        "  //console.log(\"Inside data:\" + base64data)\n",
        "  resolve(base64data.toString())\n",
        "\n",
        "});\n",
        "\n",
        "}\n",
        "});\n",
        "      \n",
        "</script>\n",
        "\"\"\""
      ],
      "execution_count": null,
      "outputs": []
    },
    {
      "cell_type": "code",
      "metadata": {
        "id": "-ivQVq3dGbaC"
      },
      "source": [
        "pip install Js2Py"
      ],
      "execution_count": null,
      "outputs": []
    },
    {
      "cell_type": "code",
      "metadata": {
        "id": "Bv7A1llbLeyU"
      },
      "source": [
        "from IPython.display import HTML, Audio\n",
        "from js2py import eval_js\n",
        "from base64 import b64decode\n",
        "import wave\n",
        "from scipy.io.wavfile import read as wav_read\n",
        "import io\n",
        "import numpy as np\n",
        "import ffmpeg\n",
        "\n",
        "def write_wav(f, sr, x, normalized=False):\n",
        "    f = wave.open(f, \"wb\")\n",
        "    f.setnchannels(1)\n",
        "    f.setsampwidth(2)\n",
        "    f.setframerate(sr)\n",
        "    \n",
        "    wave_data = x.astype(np.short)\n",
        "    f.writeframes(wave_data.tobytes())\n",
        "    f.close()\n",
        "\n",
        "def get_audio():\n",
        "  global hnum\n",
        "\n",
        "  # call microphone\n",
        "  display(HTML(AUDIO_HTML))\n",
        "  data = eval_js('data')\n",
        "  binary = b64decode(data.split(',')[1])\n",
        "\n",
        "  process = (ffmpeg\n",
        "      .input('pipe:0')\n",
        "      .output('pipe:1', format='wav')\n",
        "      .run_async(pipe_stdin=True, pipe_stdout=True, pipe_stderr=True, quiet=True, overwrite_output=True)\n",
        "  )\n",
        "  output, err = process.communicate(input=binary)\n",
        "\n",
        "  riff_chunk_size = len(output) - 8\n",
        "  # Break up the chunk size into four bytes, held in b.\n",
        "  q = riff_chunk_size\n",
        "  b = []\n",
        "  for i in range(4):\n",
        "      q, r = divmod(q, 256)\n",
        "      b.append(r)\n",
        "\n",
        "  # Replace bytes 4:8 in proc.stdout with the actual size of the RIFF chunk.\n",
        "  riff = output[:4] + bytes(b) + output[8:]\n",
        "  sr, audio = wav_read(io.BytesIO(riff))\n",
        "  # save\n",
        "  human_sound_file = \"demo.wav\"\n",
        "  write_wav(human_sound_file, sr, audio)\n",
        "\n",
        "  return human_sound_file"
      ],
      "execution_count": null,
      "outputs": []
    },
    {
      "cell_type": "code",
      "metadata": {
        "colab": {
          "base_uri": "https://localhost:8080/"
        },
        "id": "yOFx_RR5Lf9Z",
        "outputId": "52a2fbe1-e37d-4ff1-bf45-8da9b06ceae9"
      },
      "source": [
        "import torchaudio\n",
        "from datasets import load_dataset, load_metric\n",
        "from transformers import (\n",
        "    Wav2Vec2ForCTC,\n",
        "    Wav2Vec2Processor,\n",
        "    AutoTokenizer, \n",
        "    AutoModelWithLMHead \n",
        ")\n",
        "import torch\n",
        "import re\n",
        "import sys\n",
        "\n",
        "model_name = \"container_0/wav2vec2-large-xlsr-kn\"\n",
        "device = \"cuda\"\n",
        "processor_name = \"container_0/wav2vec2-large-xlsr-kn\"\n",
        "\n",
        "chars_to_ignore_regex = '[\\,\\?\\.\\!\\-\\;\\:\\\"\\“\\%\\‘\\”\\�\\–\\…]'\n",
        "\n",
        "model = Wav2Vec2ForCTC.from_pretrained(model_name).to(device)\n",
        "processor = Wav2Vec2Processor.from_pretrained(processor_name)"
      ],
      "execution_count": null,
      "outputs": [
        {
          "output_type": "stream",
          "text": [
            "Special tokens have been added in the vocabulary, make sure the associated word embedding are fine-tuned or trained.\n"
          ],
          "name": "stderr"
        }
      ]
    },
    {
      "cell_type": "code",
      "metadata": {
        "id": "dC9RJxtQL6sL"
      },
      "source": [
        "resampler = torchaudio.transforms.Resample(orig_freq=48_000, new_freq=16_000)\n",
        "\n",
        "def load_file_to_data(file):\n",
        "    batch = {}\n",
        "    speech, _ = torchaudio.load(file)\n",
        "    batch[\"speech\"] = resampler.forward(speech.squeeze(0)).numpy()\n",
        "    batch[\"sampling_rate\"] = resampler.new_freq\n",
        "    return batch\n",
        "\n",
        "def predict(data):\n",
        "    features = processor(data[\"speech\"], sampling_rate=data[\"sampling_rate\"], padding=True, return_tensors=\"pt\")\n",
        "    input_values = features.input_values.to(device)\n",
        "    attention_mask = features.attention_mask.to(device)\n",
        "    with torch.no_grad():\n",
        "        logits = model(input_values, attention_mask=attention_mask).logits\n",
        "    \n",
        "    decoded_results = []\n",
        "    for logit in logits:\n",
        "        pred_ids = torch.argmax(logit, dim=-1)\n",
        "        decoded_results.append(processor.decode(pred_ids))\n",
        "    return decoded_results\n"
      ],
      "execution_count": null,
      "outputs": []
    },
    {
      "cell_type": "code",
      "metadata": {
        "id": "5_NAqcFCMP4o"
      },
      "source": [
        "get_audio()"
      ],
      "execution_count": null,
      "outputs": []
    },
    {
      "cell_type": "code",
      "metadata": {
        "id": "kziMu8y4MUvu"
      },
      "source": [
        "predict(load_file_to_data('./demo.wav'))"
      ],
      "execution_count": null,
      "outputs": []
    },
    {
      "cell_type": "markdown",
      "metadata": {
        "id": "Ih6RRxbCRgpV"
      },
      "source": [
        "This means \"Thank You\" :)"
      ]
    }
  ]
}